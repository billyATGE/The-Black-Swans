{
 "cells": [
  {
   "cell_type": "code",
   "execution_count": 1,
   "metadata": {},
   "outputs": [
    {
     "name": "stdout",
     "output_type": "stream",
     "text": [
      "Requirement already satisfied: pytrends in /home/blau/anaconda3/envs/PythonData/lib/python3.6/site-packages (4.7.3)\n",
      "Requirement already satisfied: requests in /home/blau/anaconda3/envs/PythonData/lib/python3.6/site-packages (from pytrends) (2.24.0)\n",
      "Requirement already satisfied: lxml in /home/blau/anaconda3/envs/PythonData/lib/python3.6/site-packages (from pytrends) (4.5.2)\n",
      "Requirement already satisfied: pandas>=0.25 in /home/blau/anaconda3/envs/PythonData/lib/python3.6/site-packages (from pytrends) (1.0.5)\n",
      "Requirement already satisfied: chardet<4,>=3.0.2 in /home/blau/anaconda3/envs/PythonData/lib/python3.6/site-packages (from requests->pytrends) (3.0.4)\n",
      "Requirement already satisfied: idna<3,>=2.5 in /home/blau/anaconda3/envs/PythonData/lib/python3.6/site-packages (from requests->pytrends) (2.10)\n",
      "Requirement already satisfied: urllib3!=1.25.0,!=1.25.1,<1.26,>=1.21.1 in /home/blau/anaconda3/envs/PythonData/lib/python3.6/site-packages (from requests->pytrends) (1.25.9)\n",
      "Requirement already satisfied: certifi>=2017.4.17 in /home/blau/anaconda3/envs/PythonData/lib/python3.6/site-packages (from requests->pytrends) (2020.6.20)\n",
      "Requirement already satisfied: python-dateutil>=2.6.1 in /home/blau/anaconda3/envs/PythonData/lib/python3.6/site-packages (from pandas>=0.25->pytrends) (2.8.1)\n",
      "Requirement already satisfied: numpy>=1.13.3 in /home/blau/anaconda3/envs/PythonData/lib/python3.6/site-packages (from pandas>=0.25->pytrends) (1.18.5)\n",
      "Requirement already satisfied: pytz>=2017.2 in /home/blau/anaconda3/envs/PythonData/lib/python3.6/site-packages (from pandas>=0.25->pytrends) (2020.1)\n",
      "Requirement already satisfied: six>=1.5 in /home/blau/anaconda3/envs/PythonData/lib/python3.6/site-packages (from python-dateutil>=2.6.1->pandas>=0.25->pytrends) (1.15.0)\n"
     ]
    }
   ],
   "source": [
    "!pip install pytrends\n",
    "import pandas as pd  \n",
    "from scipy.stats import normaltest\n",
    "from pytrends.request import TrendReq\n",
    "import matplotlib.pyplot as plt\n",
    "import numpy as np\n",
    "import seaborn as sn\n",
    "pytrend = TrendReq()\n"
   ]
  },
  {
   "cell_type": "code",
   "execution_count": 2,
   "metadata": {},
   "outputs": [],
   "source": [
    "pytrend.build_payload(kw_list = [\"food near me\",\"diet\",\"gym\",\"Health\",\"Beach\"],timeframe='2017-09-01 2021-03-17',geo='US')\n",
    "df_A = pytrend.interest_over_time()"
   ]
  },
  {
   "cell_type": "code",
   "execution_count": 3,
   "metadata": {},
   "outputs": [],
   "source": [
    "pytrend.build_payload(kw_list = [\"diet pills\",\"antidepressant\"],timeframe='2017-09-01 2021-03-17',geo='US')\n",
    "df_B = pytrend.interest_over_time()"
   ]
  },
  {
   "cell_type": "code",
   "execution_count": 4,
   "metadata": {},
   "outputs": [],
   "source": [
    "df_C = pytrend.get_historical_interest([\"food near me\",\"Health\",\"Beach\"],year_start=2020, month_start=12, day_start=20, hour_start=0, year_end=2020, month_end=12, day_end=31, hour_end=0, cat=0, geo='US', sleep=240)"
   ]
  },
  {
   "cell_type": "code",
   "execution_count": 5,
   "metadata": {},
   "outputs": [],
   "source": [
    "pytrend.build_payload(kw_list = [\"christmas\",\"diet\"],timeframe='2015-09-01 2021-03-17',geo='US')\n",
    "christmas_v_diet_df = pytrend.interest_over_time()"
   ]
  },
  {
   "cell_type": "code",
   "execution_count": 6,
   "metadata": {},
   "outputs": [],
   "source": [
    "pytrend.build_payload(kw_list = [\"restaurants open on christmas\",\"restaurants open on thanksgiving\",\"restaurants open on easter\"],timeframe='2017-09-01 2021-03-17',geo='US')\n",
    "holidays_restaurants_df = pytrend.interest_over_time()"
   ]
  },
  {
   "cell_type": "code",
   "execution_count": 7,
   "metadata": {},
   "outputs": [],
   "source": [
    "pytrend.build_payload(kw_list = [\"gym\",\"diet\"],timeframe='2015-09-01 2021-03-17',geo='US')\n",
    "gym_v_diet_df = pytrend.interest_over_time()"
   ]
  },
  {
   "cell_type": "code",
   "execution_count": 8,
   "metadata": {},
   "outputs": [],
   "source": [
    "pytrend.build_payload(kw_list = [\"food near me\",\"restauant near me\"],timeframe='2017-09-01 2021-03-17',geo='US')\n",
    "food_v_restauant_df = pytrend.interest_over_time()"
   ]
  },
  {
   "cell_type": "code",
   "execution_count": 9,
   "metadata": {},
   "outputs": [],
   "source": [
    "pytrend.build_payload(kw_list = [\"pizza\",\"food near me\"],timeframe='2015-09-01 2021-03-17',geo='US')\n",
    "pizza_v_food_df = pytrend.interest_over_time()"
   ]
  },
  {
   "cell_type": "code",
   "execution_count": 10,
   "metadata": {},
   "outputs": [],
   "source": [
    "pytrend.build_payload(kw_list = [\"diet pills\",\"diet\"],timeframe='2015-09-01 2021-03-17',geo='US')\n",
    "diet_pills_v_diet_df = pytrend.interest_over_time()"
   ]
  },
  {
   "cell_type": "code",
   "execution_count": 11,
   "metadata": {},
   "outputs": [],
   "source": [
    "pytrend.build_payload(kw_list = [\"diet pills\",\"gym\"],timeframe='2015-09-01 2021-03-17',geo='US')\n",
    "diet_pills_v_gym_df = pytrend.interest_over_time()"
   ]
  },
  {
   "cell_type": "code",
   "execution_count": 12,
   "metadata": {},
   "outputs": [],
   "source": [
    "pytrend.build_payload(kw_list = [\"Thanksgiving\",\"diet\"],timeframe='2015-09-01 2021-03-17',geo='US')\n",
    "thanksgiving_v_diet_df = pytrend.interest_over_time()"
   ]
  },
  {
   "cell_type": "code",
   "execution_count": 13,
   "metadata": {},
   "outputs": [],
   "source": [
    "pytrend.build_payload(kw_list = [\"New Year\",\"diet\"],timeframe='2015-09-01 2021-03-17',geo='US')\n",
    "new_year_v_diet_df = pytrend.interest_over_time()"
   ]
  },
  {
   "cell_type": "code",
   "execution_count": 14,
   "metadata": {},
   "outputs": [],
   "source": [
    "pytrend.build_payload(kw_list = [\"Independence Day\",\"diet\"],timeframe='2015-09-01 2021-03-17',geo='US')\n",
    "Independence_Day_v_diet_df = pytrend.interest_over_time()"
   ]
  },
  {
   "cell_type": "code",
   "execution_count": 15,
   "metadata": {},
   "outputs": [],
   "source": [
    "pytrend.build_payload(kw_list = [\"holiday\",\"diet\"],timeframe='2015-09-01 2021-03-17',geo='US')\n",
    "holiday_v_diet_df = pytrend.interest_over_time()"
   ]
  },
  {
   "cell_type": "code",
   "execution_count": 16,
   "metadata": {},
   "outputs": [],
   "source": [
    "pytrend.build_payload(kw_list = [\"food near me\",\"diet\"],timeframe='2015-09-01 2021-03-17',geo='US')\n",
    "food_near_v_diet_df = pytrend.interest_over_time()"
   ]
  },
  {
   "cell_type": "code",
   "execution_count": 17,
   "metadata": {},
   "outputs": [],
   "source": [
    "pytrend.build_payload(kw_list = [\"suicide\",\"guns\",\"diet\",\"antidepressant\"],timeframe='2015-09-01 2021-03-17',geo='US')\n",
    "suicide_v_guns_df = pytrend.interest_over_time()"
   ]
  },
  {
   "cell_type": "code",
   "execution_count": 18,
   "metadata": {},
   "outputs": [],
   "source": [
    "pytrend.build_payload(kw_list = [\"Hydroxycut\",\"Garcinia Cambogia Extract\",\"Raspberry Ketones\",\"Orlistat\"],timeframe='2015-09-01 2021-03-17',geo='US')\n",
    "diet_method_df = pytrend.interest_over_time()"
   ]
  },
  {
   "cell_type": "code",
   "execution_count": 19,
   "metadata": {},
   "outputs": [],
   "source": [
    "pytrend.build_payload(kw_list = [\"Bumble\",\"tinder\",\"OkCupid\",\"hinge\",\"coffee meets bagel\"],timeframe='2015-09-01 2021-03-17',geo='US')\n",
    "dating_method_df = pytrend.interest_over_time()"
   ]
  },
  {
   "cell_type": "code",
   "execution_count": 20,
   "metadata": {},
   "outputs": [],
   "source": [
    "pytrend.build_payload(kw_list = [\"food near me\",\"diet\",\"gym\",\"Health\",\"christmas\"],timeframe='2015-09-01 2021-03-17',geo='US')\n",
    "df_A_christmas = pytrend.interest_over_time()"
   ]
  },
  {
   "cell_type": "code",
   "execution_count": 21,
   "metadata": {},
   "outputs": [],
   "source": [
    "#here\n",
    "pytrend.build_payload(kw_list = [\"gym\",\"workout plan\",\"running\"],timeframe='2015-09-01 2021-03-17',geo='US')\n",
    "gym_N_running_df = pytrend.interest_over_time()"
   ]
  },
  {
   "cell_type": "code",
   "execution_count": 22,
   "metadata": {},
   "outputs": [],
   "source": [
    "\n",
    "pytrend.build_payload(kw_list = [\"tanning bed\",\"bikini waxing\"],timeframe='2015-09-01 2021-03-17',geo='US')\n",
    "tanning_N_bikini_df = pytrend.interest_over_time()"
   ]
  },
  {
   "cell_type": "code",
   "execution_count": 23,
   "metadata": {},
   "outputs": [],
   "source": [
    "\n",
    "pytrend.build_payload(kw_list = [\"liposuction\",\"gastric sleeve\", \"Bariatric\",\"personal loan\"],timeframe='2015-09-01 2021-03-17',geo='US')\n",
    "payday_load_N_liposuction_df = pytrend.interest_over_time()"
   ]
  },
  {
   "cell_type": "code",
   "execution_count": 24,
   "metadata": {},
   "outputs": [],
   "source": [
    "\n",
    "pytrend.build_payload(kw_list = [\"avant\",\"lending club\", \"OneMain Financial\",\"credit card loan\",\"lending tree\"],timeframe='2015-09-01 2021-03-17',geo='US')\n",
    "personal_loan_method_df = pytrend.interest_over_time()"
   ]
  },
  {
   "cell_type": "code",
   "execution_count": 25,
   "metadata": {},
   "outputs": [],
   "source": [
    "df_C_christmas_2020_df = pytrend.get_historical_interest([\"food near me\",\"christmas\",\"diet\",\"gym\",\"health\"],year_start=2020, month_start=12, day_start=20, hour_start=0, year_end=2020, month_end=12, day_end=31, hour_end=0, cat=0, geo='US', sleep=240)"
   ]
  },
  {
   "cell_type": "code",
   "execution_count": 26,
   "metadata": {},
   "outputs": [],
   "source": [
    "df_C_christmas_2019_df = pytrend.get_historical_interest([\"food near me\",\"christmas\",\"diet\",\"gym\",\"health\"],year_start=2019, month_start=12, day_start=20, hour_start=0, year_end=2019, month_end=12, day_end=31, hour_end=0, cat=0, geo='US', sleep=240)"
   ]
  },
  {
   "cell_type": "code",
   "execution_count": 27,
   "metadata": {},
   "outputs": [],
   "source": [
    "df_C_christmas_2018_df = pytrend.get_historical_interest([\"food near me\",\"christmas\",\"diet\",\"gym\",\"health\"],year_start=2018, month_start=12, day_start=20, hour_start=0, year_end=2018, month_end=12, day_end=31, hour_end=0, cat=0, geo='US', sleep=240)"
   ]
  },
  {
   "cell_type": "code",
   "execution_count": 28,
   "metadata": {},
   "outputs": [],
   "source": [
    "df_C_christmas_2017_df = pytrend.get_historical_interest([\"food near me\",\"christmas\",\"diet\",\"gym\",\"health\"],year_start=2017, month_start=12, day_start=20, hour_start=0, year_end=2017, month_end=12, day_end=31, hour_end=0, cat=0, geo='US', sleep=240)"
   ]
  },
  {
   "cell_type": "code",
   "execution_count": 29,
   "metadata": {},
   "outputs": [],
   "source": [
    "df_C_christmas_2016_df = pytrend.get_historical_interest([\"food near me\",\"christmas\",\"diet\",\"gym\",\"health\"],year_start=2016, month_start=12, day_start=20, hour_start=0, year_end=2016, month_end=12, day_end=31, hour_end=0, cat=0, geo='US', sleep=240)"
   ]
  },
  {
   "cell_type": "code",
   "execution_count": 30,
   "metadata": {},
   "outputs": [],
   "source": [
    "df_C_thanksgiving_2020_df = pytrend.get_historical_interest([\"food near me\",\"thanksgiving\",\"diet\",\"gym\",\"health\"],year_start=2020, month_start=11, day_start=20, hour_start=0, year_end=2020, month_end=11, day_end=29, hour_end=0, cat=0, geo='US', sleep=240)"
   ]
  },
  {
   "cell_type": "code",
   "execution_count": 31,
   "metadata": {},
   "outputs": [],
   "source": [
    "df_C_thanksgiving_2019_df = pytrend.get_historical_interest([\"food near me\",\"thanksgiving\",\"diet\",\"gym\",\"health\"],year_start=2019, month_start=11, day_start=20, hour_start=0, year_end=2019, month_end=11, day_end=29, hour_end=0, cat=0, geo='US', sleep=240)"
   ]
  },
  {
   "cell_type": "code",
   "execution_count": 32,
   "metadata": {},
   "outputs": [],
   "source": [
    "df_C_thanksgiving_2018_df = pytrend.get_historical_interest([\"food near me\",\"thanksgiving\",\"diet\",\"gym\",\"health\"],year_start=2018, month_start=11, day_start=20, hour_start=0, year_end=2018, month_end=11, day_end=29, hour_end=0, cat=0, geo='US', sleep=240)"
   ]
  },
  {
   "cell_type": "code",
   "execution_count": 33,
   "metadata": {},
   "outputs": [
    {
     "name": "stdout",
     "output_type": "stream",
     "text": [
      "HTTPSConnectionPool(host='trends.google.com', port=443): Max retries exceeded with url: /trends/api/explore?hl=en-US&tz=360&req=%7B%22comparisonItem%22%3A+%5B%7B%22keyword%22%3A+%22food+near+me%22%2C+%22time%22%3A+%222017-11-20T00+2017-11-27T00%22%2C+%22geo%22%3A+%22US%22%7D%2C+%7B%22keyword%22%3A+%22thanksgiving%22%2C+%22time%22%3A+%222017-11-20T00+2017-11-27T00%22%2C+%22geo%22%3A+%22US%22%7D%2C+%7B%22keyword%22%3A+%22diet%22%2C+%22time%22%3A+%222017-11-20T00+2017-11-27T00%22%2C+%22geo%22%3A+%22US%22%7D%2C+%7B%22keyword%22%3A+%22gym%22%2C+%22time%22%3A+%222017-11-20T00+2017-11-27T00%22%2C+%22geo%22%3A+%22US%22%7D%2C+%7B%22keyword%22%3A+%22health%22%2C+%22time%22%3A+%222017-11-20T00+2017-11-27T00%22%2C+%22geo%22%3A+%22US%22%7D%5D%2C+%22category%22%3A+0%2C+%22property%22%3A+%22%22%7D (Caused by NewConnectionError('<urllib3.connection.HTTPSConnection object at 0x7f4dc14c2dd8>: Failed to establish a new connection: [Errno 101] Network is unreachable',))\n"
     ]
    }
   ],
   "source": [
    "df_C_thanksgiving_2017_df = pytrend.get_historical_interest([\"food near me\",\"thanksgiving\",\"diet\",\"gym\",\"health\"],year_start=2017, month_start=11, day_start=20, hour_start=0, year_end=2017, month_end=11, day_end=29, hour_end=0, cat=0, geo='US', sleep=240)"
   ]
  },
  {
   "cell_type": "code",
   "execution_count": 34,
   "metadata": {},
   "outputs": [],
   "source": [
    "df_C_thanksgiving_2016_df = pytrend.get_historical_interest([\"food near me\",\"thanksgiving\",\"diet\",\"gym\",\"health\"],year_start=2016, month_start=11, day_start=20, hour_start=0, year_end=2016, month_end=11, day_end=29, hour_end=0, cat=0, geo='US', sleep=240)"
   ]
  },
  {
   "cell_type": "code",
   "execution_count": 35,
   "metadata": {},
   "outputs": [
    {
     "data": {
      "text/plain": [
       "<matplotlib.axes._subplots.AxesSubplot at 0x7f4dc14a58d0>"
      ]
     },
     "execution_count": 35,
     "metadata": {},
     "output_type": "execute_result"
    },
    {
     "data": {
      "image/png": "[encoded data removed]",
      "text/plain": [
       "<Figure size 1440x432 with 1 Axes>"
      ]
     },
     "metadata": {
      "needs_background": "light"
     },
     "output_type": "display_data"
    }
   ],
   "source": [
    "df_A.reset_index().plot(kind='line',x='date',title= 'Search Trends', style='-o', cmap='Dark2',figsize=(20,6), rot=30)"
   ]
  },
  {
   "cell_type": "code",
   "execution_count": 36,
   "metadata": {},
   "outputs": [
    {
     "data": {
      "text/plain": [
       "<matplotlib.axes._subplots.AxesSubplot at 0x7f4dbc8d5f28>"
      ]
     },
     "execution_count": 36,
     "metadata": {},
     "output_type": "execute_result"
    },
    {
     "data": {
      "image/png": "[encoded data removed]",
      "text/plain": [
       "<Figure size 1440x432 with 1 Axes>"
      ]
     },
     "metadata": {
      "needs_background": "light"
     },
     "output_type": "display_data"
    }
   ],
   "source": [
    "df_B.reset_index().plot(kind='line',x='date',title= 'Search Trends', style='-o', cmap='Dark2',figsize=(20,6), rot=30)"
   ]
  },
  {
   "cell_type": "code",
   "execution_count": 37,
   "metadata": {},
   "outputs": [
    {
     "data": {
      "text/plain": [
       "<matplotlib.axes._subplots.AxesSubplot at 0x7f4dbcabc7f0>"
      ]
     },
     "execution_count": 37,
     "metadata": {},
     "output_type": "execute_result"
    },
    {
     "data": {
      "image/png": "[encoded data removed]",
      "text/plain": [
       "<Figure size 1440x432 with 1 Axes>"
      ]
     },
     "metadata": {
      "needs_background": "light"
     },
     "output_type": "display_data"
    }
   ],
   "source": [
    "df_C.reset_index().plot(kind='line',x='date',title= 'Search Trends', style='-o', cmap='Dark2',figsize=(20,6), rot=30)"
   ]
  },
  {
   "cell_type": "code",
   "execution_count": 38,
   "metadata": {},
   "outputs": [
    {
     "data": {
      "text/html": [
       "<div>\n",
       "<style scoped>\n",
       "    .dataframe tbody tr th:only-of-type {\n",
       "        vertical-align: middle;\n",
       "    }\n",
       "\n",
       "    .dataframe tbody tr th {\n",
       "        vertical-align: top;\n",
       "    }\n",
       "\n",
       "    .dataframe thead th {\n",
       "        text-align: right;\n",
       "    }\n",
       "</style>\n",
       "<table border=\"1\" class=\"dataframe\">\n",
       "  <thead>\n",
       "    <tr style=\"text-align: right;\">\n",
       "      <th></th>\n",
       "      <th>food near me</th>\n",
       "      <th>diet</th>\n",
       "      <th>gym</th>\n",
       "      <th>Health</th>\n",
       "      <th>Beach</th>\n",
       "    </tr>\n",
       "  </thead>\n",
       "  <tbody>\n",
       "    <tr>\n",
       "      <th>food near me</th>\n",
       "      <td>1.000000</td>\n",
       "      <td>-0.382864</td>\n",
       "      <td>-0.269963</td>\n",
       "      <td>0.323956</td>\n",
       "      <td>0.247390</td>\n",
       "    </tr>\n",
       "    <tr>\n",
       "      <th>diet</th>\n",
       "      <td>-0.382864</td>\n",
       "      <td>1.000000</td>\n",
       "      <td>0.544620</td>\n",
       "      <td>-0.392991</td>\n",
       "      <td>0.492264</td>\n",
       "    </tr>\n",
       "    <tr>\n",
       "      <th>gym</th>\n",
       "      <td>-0.269963</td>\n",
       "      <td>0.544620</td>\n",
       "      <td>1.000000</td>\n",
       "      <td>-0.319750</td>\n",
       "      <td>0.209926</td>\n",
       "    </tr>\n",
       "    <tr>\n",
       "      <th>Health</th>\n",
       "      <td>0.323956</td>\n",
       "      <td>-0.392991</td>\n",
       "      <td>-0.319750</td>\n",
       "      <td>1.000000</td>\n",
       "      <td>-0.246834</td>\n",
       "    </tr>\n",
       "    <tr>\n",
       "      <th>Beach</th>\n",
       "      <td>0.247390</td>\n",
       "      <td>0.492264</td>\n",
       "      <td>0.209926</td>\n",
       "      <td>-0.246834</td>\n",
       "      <td>1.000000</td>\n",
       "    </tr>\n",
       "  </tbody>\n",
       "</table>\n",
       "</div>"
      ],
      "text/plain": [
       "              food near me      diet       gym    Health     Beach\n",
       "food near me      1.000000 -0.382864 -0.269963  0.323956  0.247390\n",
       "diet             -0.382864  1.000000  0.544620 -0.392991  0.492264\n",
       "gym              -0.269963  0.544620  1.000000 -0.319750  0.209926\n",
       "Health            0.323956 -0.392991 -0.319750  1.000000 -0.246834\n",
       "Beach             0.247390  0.492264  0.209926 -0.246834  1.000000"
      ]
     },
     "execution_count": 38,
     "metadata": {},
     "output_type": "execute_result"
    }
   ],
   "source": [
    "df_A.corr(method='spearman').drop('isPartial', axis=1).drop(['isPartial'])"
   ]
  },
  {
   "cell_type": "code",
   "execution_count": 39,
   "metadata": {},
   "outputs": [
    {
     "data": {
      "text/html": [
       "<div>\n",
       "<style scoped>\n",
       "    .dataframe tbody tr th:only-of-type {\n",
       "        vertical-align: middle;\n",
       "    }\n",
       "\n",
       "    .dataframe tbody tr th {\n",
       "        vertical-align: top;\n",
       "    }\n",
       "\n",
       "    .dataframe thead th {\n",
       "        text-align: right;\n",
       "    }\n",
       "</style>\n",
       "<table border=\"1\" class=\"dataframe\">\n",
       "  <thead>\n",
       "    <tr style=\"text-align: right;\">\n",
       "      <th></th>\n",
       "      <th>diet pills</th>\n",
       "      <th>antidepressant</th>\n",
       "    </tr>\n",
       "  </thead>\n",
       "  <tbody>\n",
       "    <tr>\n",
       "      <th>diet pills</th>\n",
       "      <td>1.000000</td>\n",
       "      <td>0.176282</td>\n",
       "    </tr>\n",
       "    <tr>\n",
       "      <th>antidepressant</th>\n",
       "      <td>0.176282</td>\n",
       "      <td>1.000000</td>\n",
       "    </tr>\n",
       "  </tbody>\n",
       "</table>\n",
       "</div>"
      ],
      "text/plain": [
       "                diet pills  antidepressant\n",
       "diet pills        1.000000        0.176282\n",
       "antidepressant    0.176282        1.000000"
      ]
     },
     "execution_count": 39,
     "metadata": {},
     "output_type": "execute_result"
    }
   ],
   "source": [
    "df_B.corr(method='spearman').drop('isPartial', axis=1).drop(['isPartial'])"
   ]
  },
  {
   "cell_type": "code",
   "execution_count": 40,
   "metadata": {},
   "outputs": [
    {
     "data": {
      "text/html": [
       "<div>\n",
       "<style scoped>\n",
       "    .dataframe tbody tr th:only-of-type {\n",
       "        vertical-align: middle;\n",
       "    }\n",
       "\n",
       "    .dataframe tbody tr th {\n",
       "        vertical-align: top;\n",
       "    }\n",
       "\n",
       "    .dataframe thead th {\n",
       "        text-align: right;\n",
       "    }\n",
       "</style>\n",
       "<table border=\"1\" class=\"dataframe\">\n",
       "  <thead>\n",
       "    <tr style=\"text-align: right;\">\n",
       "      <th></th>\n",
       "      <th>food near me</th>\n",
       "      <th>Health</th>\n",
       "      <th>Beach</th>\n",
       "    </tr>\n",
       "  </thead>\n",
       "  <tbody>\n",
       "    <tr>\n",
       "      <th>food near me</th>\n",
       "      <td>1.000000</td>\n",
       "      <td>-0.337606</td>\n",
       "      <td>-0.251749</td>\n",
       "    </tr>\n",
       "    <tr>\n",
       "      <th>Health</th>\n",
       "      <td>-0.337606</td>\n",
       "      <td>1.000000</td>\n",
       "      <td>0.625422</td>\n",
       "    </tr>\n",
       "    <tr>\n",
       "      <th>Beach</th>\n",
       "      <td>-0.251749</td>\n",
       "      <td>0.625422</td>\n",
       "      <td>1.000000</td>\n",
       "    </tr>\n",
       "  </tbody>\n",
       "</table>\n",
       "</div>"
      ],
      "text/plain": [
       "              food near me    Health     Beach\n",
       "food near me      1.000000 -0.337606 -0.251749\n",
       "Health           -0.337606  1.000000  0.625422\n",
       "Beach            -0.251749  0.625422  1.000000"
      ]
     },
     "execution_count": 40,
     "metadata": {},
     "output_type": "execute_result"
    }
   ],
   "source": [
    "df_C.corr(method='spearman').drop('isPartial', axis=1).drop(['isPartial'])"
   ]
  },
  {
   "cell_type": "code",
   "execution_count": 41,
   "metadata": {},
   "outputs": [
    {
     "data": {
      "text/html": [
       "<div>\n",
       "<style scoped>\n",
       "    .dataframe tbody tr th:only-of-type {\n",
       "        vertical-align: middle;\n",
       "    }\n",
       "\n",
       "    .dataframe tbody tr th {\n",
       "        vertical-align: top;\n",
       "    }\n",
       "\n",
       "    .dataframe thead th {\n",
       "        text-align: right;\n",
       "    }\n",
       "</style>\n",
       "<table border=\"1\" class=\"dataframe\">\n",
       "  <thead>\n",
       "    <tr style=\"text-align: right;\">\n",
       "      <th></th>\n",
       "      <th>christmas</th>\n",
       "      <th>diet</th>\n",
       "    </tr>\n",
       "  </thead>\n",
       "  <tbody>\n",
       "    <tr>\n",
       "      <th>christmas</th>\n",
       "      <td>1.000000</td>\n",
       "      <td>-0.461984</td>\n",
       "    </tr>\n",
       "    <tr>\n",
       "      <th>diet</th>\n",
       "      <td>-0.461984</td>\n",
       "      <td>1.000000</td>\n",
       "    </tr>\n",
       "  </tbody>\n",
       "</table>\n",
       "</div>"
      ],
      "text/plain": [
       "           christmas      diet\n",
       "christmas   1.000000 -0.461984\n",
       "diet       -0.461984  1.000000"
      ]
     },
     "execution_count": 41,
     "metadata": {},
     "output_type": "execute_result"
    }
   ],
   "source": [
    "christmas_v_diet_df.corr(method='spearman')"
   ]
  },
  {
   "cell_type": "code",
   "execution_count": 42,
   "metadata": {},
   "outputs": [
    {
     "data": {
      "text/html": [
       "<div>\n",
       "<style scoped>\n",
       "    .dataframe tbody tr th:only-of-type {\n",
       "        vertical-align: middle;\n",
       "    }\n",
       "\n",
       "    .dataframe tbody tr th {\n",
       "        vertical-align: top;\n",
       "    }\n",
       "\n",
       "    .dataframe thead th {\n",
       "        text-align: right;\n",
       "    }\n",
       "</style>\n",
       "<table border=\"1\" class=\"dataframe\">\n",
       "  <thead>\n",
       "    <tr style=\"text-align: right;\">\n",
       "      <th></th>\n",
       "      <th>Thanksgiving</th>\n",
       "      <th>diet</th>\n",
       "    </tr>\n",
       "  </thead>\n",
       "  <tbody>\n",
       "    <tr>\n",
       "      <th>Thanksgiving</th>\n",
       "      <td>1.000000</td>\n",
       "      <td>-0.501266</td>\n",
       "    </tr>\n",
       "    <tr>\n",
       "      <th>diet</th>\n",
       "      <td>-0.501266</td>\n",
       "      <td>1.000000</td>\n",
       "    </tr>\n",
       "  </tbody>\n",
       "</table>\n",
       "</div>"
      ],
      "text/plain": [
       "              Thanksgiving      diet\n",
       "Thanksgiving      1.000000 -0.501266\n",
       "diet             -0.501266  1.000000"
      ]
     },
     "execution_count": 42,
     "metadata": {},
     "output_type": "execute_result"
    }
   ],
   "source": [
    "thanksgiving_v_diet_df.corr(method='spearman')"
   ]
  },
  {
   "cell_type": "code",
   "execution_count": 43,
   "metadata": {},
   "outputs": [
    {
     "data": {
      "text/html": [
       "<div>\n",
       "<style scoped>\n",
       "    .dataframe tbody tr th:only-of-type {\n",
       "        vertical-align: middle;\n",
       "    }\n",
       "\n",
       "    .dataframe tbody tr th {\n",
       "        vertical-align: top;\n",
       "    }\n",
       "\n",
       "    .dataframe thead th {\n",
       "        text-align: right;\n",
       "    }\n",
       "</style>\n",
       "<table border=\"1\" class=\"dataframe\">\n",
       "  <thead>\n",
       "    <tr style=\"text-align: right;\">\n",
       "      <th></th>\n",
       "      <th>Independence Day</th>\n",
       "      <th>diet</th>\n",
       "    </tr>\n",
       "  </thead>\n",
       "  <tbody>\n",
       "    <tr>\n",
       "      <th>Independence Day</th>\n",
       "      <td>1.000000</td>\n",
       "      <td>0.085857</td>\n",
       "    </tr>\n",
       "    <tr>\n",
       "      <th>diet</th>\n",
       "      <td>0.085857</td>\n",
       "      <td>1.000000</td>\n",
       "    </tr>\n",
       "  </tbody>\n",
       "</table>\n",
       "</div>"
      ],
      "text/plain": [
       "                  Independence Day      diet\n",
       "Independence Day          1.000000  0.085857\n",
       "diet                      0.085857  1.000000"
      ]
     },
     "execution_count": 43,
     "metadata": {},
     "output_type": "execute_result"
    }
   ],
   "source": [
    "Independence_Day_v_diet_df.corr(method='spearman')"
   ]
  },
  {
   "cell_type": "code",
   "execution_count": 44,
   "metadata": {},
   "outputs": [
    {
     "data": {
      "text/html": [
       "<div>\n",
       "<style scoped>\n",
       "    .dataframe tbody tr th:only-of-type {\n",
       "        vertical-align: middle;\n",
       "    }\n",
       "\n",
       "    .dataframe tbody tr th {\n",
       "        vertical-align: top;\n",
       "    }\n",
       "\n",
       "    .dataframe thead th {\n",
       "        text-align: right;\n",
       "    }\n",
       "</style>\n",
       "<table border=\"1\" class=\"dataframe\">\n",
       "  <thead>\n",
       "    <tr style=\"text-align: right;\">\n",
       "      <th></th>\n",
       "      <th>holiday</th>\n",
       "      <th>diet</th>\n",
       "    </tr>\n",
       "  </thead>\n",
       "  <tbody>\n",
       "    <tr>\n",
       "      <th>holiday</th>\n",
       "      <td>1.000000</td>\n",
       "      <td>-0.279522</td>\n",
       "    </tr>\n",
       "    <tr>\n",
       "      <th>diet</th>\n",
       "      <td>-0.279522</td>\n",
       "      <td>1.000000</td>\n",
       "    </tr>\n",
       "  </tbody>\n",
       "</table>\n",
       "</div>"
      ],
      "text/plain": [
       "          holiday      diet\n",
       "holiday  1.000000 -0.279522\n",
       "diet    -0.279522  1.000000"
      ]
     },
     "execution_count": 44,
     "metadata": {},
     "output_type": "execute_result"
    }
   ],
   "source": [
    "holiday_v_diet_df.corr(method='spearman')"
   ]
  },
  {
   "cell_type": "code",
   "execution_count": 45,
   "metadata": {},
   "outputs": [
    {
     "data": {
      "text/html": [
       "<div>\n",
       "<style scoped>\n",
       "    .dataframe tbody tr th:only-of-type {\n",
       "        vertical-align: middle;\n",
       "    }\n",
       "\n",
       "    .dataframe tbody tr th {\n",
       "        vertical-align: top;\n",
       "    }\n",
       "\n",
       "    .dataframe thead th {\n",
       "        text-align: right;\n",
       "    }\n",
       "</style>\n",
       "<table border=\"1\" class=\"dataframe\">\n",
       "  <thead>\n",
       "    <tr style=\"text-align: right;\">\n",
       "      <th></th>\n",
       "      <th>food near me</th>\n",
       "      <th>diet</th>\n",
       "    </tr>\n",
       "  </thead>\n",
       "  <tbody>\n",
       "    <tr>\n",
       "      <th>food near me</th>\n",
       "      <td>1.000000</td>\n",
       "      <td>-0.111934</td>\n",
       "    </tr>\n",
       "    <tr>\n",
       "      <th>diet</th>\n",
       "      <td>-0.111934</td>\n",
       "      <td>1.000000</td>\n",
       "    </tr>\n",
       "  </tbody>\n",
       "</table>\n",
       "</div>"
      ],
      "text/plain": [
       "              food near me      diet\n",
       "food near me      1.000000 -0.111934\n",
       "diet             -0.111934  1.000000"
      ]
     },
     "execution_count": 45,
     "metadata": {},
     "output_type": "execute_result"
    }
   ],
   "source": [
    "food_near_v_diet_df.corr(method='spearman')"
   ]
  },
  {
   "cell_type": "code",
   "execution_count": 46,
   "metadata": {},
   "outputs": [
    {
     "data": {
      "text/html": [
       "<div>\n",
       "<style scoped>\n",
       "    .dataframe tbody tr th:only-of-type {\n",
       "        vertical-align: middle;\n",
       "    }\n",
       "\n",
       "    .dataframe tbody tr th {\n",
       "        vertical-align: top;\n",
       "    }\n",
       "\n",
       "    .dataframe thead th {\n",
       "        text-align: right;\n",
       "    }\n",
       "</style>\n",
       "<table border=\"1\" class=\"dataframe\">\n",
       "  <thead>\n",
       "    <tr style=\"text-align: right;\">\n",
       "      <th></th>\n",
       "      <th>gym</th>\n",
       "      <th>diet</th>\n",
       "    </tr>\n",
       "  </thead>\n",
       "  <tbody>\n",
       "    <tr>\n",
       "      <th>gym</th>\n",
       "      <td>1.000000</td>\n",
       "      <td>0.636651</td>\n",
       "    </tr>\n",
       "    <tr>\n",
       "      <th>diet</th>\n",
       "      <td>0.636651</td>\n",
       "      <td>1.000000</td>\n",
       "    </tr>\n",
       "  </tbody>\n",
       "</table>\n",
       "</div>"
      ],
      "text/plain": [
       "           gym      diet\n",
       "gym   1.000000  0.636651\n",
       "diet  0.636651  1.000000"
      ]
     },
     "execution_count": 46,
     "metadata": {},
     "output_type": "execute_result"
    }
   ],
   "source": [
    "gym_v_diet_df.corr(method='spearman')"
   ]
  },
  {
   "cell_type": "code",
   "execution_count": 47,
   "metadata": {},
   "outputs": [
    {
     "data": {
      "text/html": [
       "<div>\n",
       "<style scoped>\n",
       "    .dataframe tbody tr th:only-of-type {\n",
       "        vertical-align: middle;\n",
       "    }\n",
       "\n",
       "    .dataframe tbody tr th {\n",
       "        vertical-align: top;\n",
       "    }\n",
       "\n",
       "    .dataframe thead th {\n",
       "        text-align: right;\n",
       "    }\n",
       "</style>\n",
       "<table border=\"1\" class=\"dataframe\">\n",
       "  <thead>\n",
       "    <tr style=\"text-align: right;\">\n",
       "      <th></th>\n",
       "      <th>diet pills</th>\n",
       "      <th>diet</th>\n",
       "    </tr>\n",
       "  </thead>\n",
       "  <tbody>\n",
       "    <tr>\n",
       "      <th>diet pills</th>\n",
       "      <td>1.000000</td>\n",
       "      <td>0.256949</td>\n",
       "    </tr>\n",
       "    <tr>\n",
       "      <th>diet</th>\n",
       "      <td>0.256949</td>\n",
       "      <td>1.000000</td>\n",
       "    </tr>\n",
       "  </tbody>\n",
       "</table>\n",
       "</div>"
      ],
      "text/plain": [
       "            diet pills      diet\n",
       "diet pills    1.000000  0.256949\n",
       "diet          0.256949  1.000000"
      ]
     },
     "execution_count": 47,
     "metadata": {},
     "output_type": "execute_result"
    }
   ],
   "source": [
    "diet_pills_v_diet_df.corr(method='spearman')"
   ]
  },
  {
   "cell_type": "code",
   "execution_count": 48,
   "metadata": {},
   "outputs": [
    {
     "data": {
      "text/html": [
       "<div>\n",
       "<style scoped>\n",
       "    .dataframe tbody tr th:only-of-type {\n",
       "        vertical-align: middle;\n",
       "    }\n",
       "\n",
       "    .dataframe tbody tr th {\n",
       "        vertical-align: top;\n",
       "    }\n",
       "\n",
       "    .dataframe thead th {\n",
       "        text-align: right;\n",
       "    }\n",
       "</style>\n",
       "<table border=\"1\" class=\"dataframe\">\n",
       "  <thead>\n",
       "    <tr style=\"text-align: right;\">\n",
       "      <th></th>\n",
       "      <th>diet pills</th>\n",
       "      <th>gym</th>\n",
       "    </tr>\n",
       "  </thead>\n",
       "  <tbody>\n",
       "    <tr>\n",
       "      <th>diet pills</th>\n",
       "      <td>1.000000</td>\n",
       "      <td>0.393398</td>\n",
       "    </tr>\n",
       "    <tr>\n",
       "      <th>gym</th>\n",
       "      <td>0.393398</td>\n",
       "      <td>1.000000</td>\n",
       "    </tr>\n",
       "  </tbody>\n",
       "</table>\n",
       "</div>"
      ],
      "text/plain": [
       "            diet pills       gym\n",
       "diet pills    1.000000  0.393398\n",
       "gym           0.393398  1.000000"
      ]
     },
     "execution_count": 48,
     "metadata": {},
     "output_type": "execute_result"
    }
   ],
   "source": [
    "diet_pills_v_gym_df.corr(method='spearman')"
   ]
  },
  {
   "cell_type": "code",
   "execution_count": 49,
   "metadata": {},
   "outputs": [
    {
     "data": {
      "text/html": [
       "<div>\n",
       "<style scoped>\n",
       "    .dataframe tbody tr th:only-of-type {\n",
       "        vertical-align: middle;\n",
       "    }\n",
       "\n",
       "    .dataframe tbody tr th {\n",
       "        vertical-align: top;\n",
       "    }\n",
       "\n",
       "    .dataframe thead th {\n",
       "        text-align: right;\n",
       "    }\n",
       "</style>\n",
       "<table border=\"1\" class=\"dataframe\">\n",
       "  <thead>\n",
       "    <tr style=\"text-align: right;\">\n",
       "      <th></th>\n",
       "      <th>New Year</th>\n",
       "      <th>diet</th>\n",
       "    </tr>\n",
       "  </thead>\n",
       "  <tbody>\n",
       "    <tr>\n",
       "      <th>New Year</th>\n",
       "      <td>1.000000</td>\n",
       "      <td>-0.086229</td>\n",
       "    </tr>\n",
       "    <tr>\n",
       "      <th>diet</th>\n",
       "      <td>-0.086229</td>\n",
       "      <td>1.000000</td>\n",
       "    </tr>\n",
       "  </tbody>\n",
       "</table>\n",
       "</div>"
      ],
      "text/plain": [
       "          New Year      diet\n",
       "New Year  1.000000 -0.086229\n",
       "diet     -0.086229  1.000000"
      ]
     },
     "execution_count": 49,
     "metadata": {},
     "output_type": "execute_result"
    }
   ],
   "source": [
    "new_year_v_diet_df.corr(method='spearman')"
   ]
  },
  {
   "cell_type": "code",
   "execution_count": 50,
   "metadata": {},
   "outputs": [
    {
     "name": "stderr",
     "output_type": "stream",
     "text": [
      "/home/blau/anaconda3/envs/PythonData/lib/python3.6/site-packages/scipy/stats/stats.py:4196: SpearmanRConstantInputWarning: An input array is constant; the correlation coefficent is not defined.\n",
      "  warnings.warn(SpearmanRConstantInputWarning())\n"
     ]
    },
    {
     "data": {
      "text/plain": [
       "food near me   -0.223303\n",
       "diet            0.701481\n",
       "gym             0.332951\n",
       "Health         -0.238121\n",
       "Beach           0.561741\n",
       "dtype: float64"
      ]
     },
     "execution_count": 50,
     "metadata": {},
     "output_type": "execute_result"
    }
   ],
   "source": [
    "df_A.corrwith(df_B['diet pills'], method='spearman').drop(['isPartial'])"
   ]
  },
  {
   "cell_type": "code",
   "execution_count": 51,
   "metadata": {},
   "outputs": [
    {
     "data": {
      "text/plain": [
       "food near me    0.002971\n",
       "diet            0.326804\n",
       "gym             0.084129\n",
       "Health          0.057950\n",
       "Beach           0.123326\n",
       "dtype: float64"
      ]
     },
     "execution_count": 51,
     "metadata": {},
     "output_type": "execute_result"
    }
   ],
   "source": [
    "df_A.corrwith(df_B['antidepressant'], method='spearman').drop(['isPartial'])"
   ]
  },
  {
   "cell_type": "code",
   "execution_count": 52,
   "metadata": {},
   "outputs": [
    {
     "data": {
      "text/plain": [
       "food near me   -0.305608\n",
       "diet           -0.323824\n",
       "gym            -0.648087\n",
       "Health          0.703824\n",
       "Beach          -0.569023\n",
       "dtype: float64"
      ]
     },
     "execution_count": 52,
     "metadata": {},
     "output_type": "execute_result"
    }
   ],
   "source": [
    "df_A.corrwith(suicide_v_guns_df['guns'], method='spearman').drop(['isPartial'])"
   ]
  },
  {
   "cell_type": "code",
   "execution_count": 53,
   "metadata": {},
   "outputs": [
    {
     "data": {
      "text/plain": [
       "Hydroxycut                   0.991031\n",
       "Garcinia Cambogia Extract    0.715868\n",
       "Raspberry Ketones            0.763763\n",
       "Orlistat                     0.078811\n",
       "dtype: float64"
      ]
     },
     "execution_count": 53,
     "metadata": {},
     "output_type": "execute_result"
    }
   ],
   "source": [
    "diet_method_df.corrwith(df_B['diet pills'], method='spearman')"
   ]
  },
  {
   "cell_type": "code",
   "execution_count": 54,
   "metadata": {},
   "outputs": [
    {
     "data": {
      "text/plain": [
       "Bumble               -0.188013\n",
       "tinder               -0.658225\n",
       "OkCupid               0.744317\n",
       "hinge                -0.678700\n",
       "coffee meets bagel    0.674632\n",
       "dtype: float64"
      ]
     },
     "execution_count": 54,
     "metadata": {},
     "output_type": "execute_result"
    }
   ],
   "source": [
    "dating_method_df.corrwith(diet_method_df['Hydroxycut'], method=\"spearman\")"
   ]
  },
  {
   "cell_type": "code",
   "execution_count": 55,
   "metadata": {},
   "outputs": [
    {
     "data": {
      "text/plain": [
       "Bumble               -0.198206\n",
       "tinder                0.081818\n",
       "OkCupid              -0.630656\n",
       "hinge                 0.645455\n",
       "coffee meets bagel   -0.728219\n",
       "dtype: float64"
      ]
     },
     "execution_count": 55,
     "metadata": {},
     "output_type": "execute_result"
    }
   ],
   "source": [
    "dating_method_df.corrwith(df_A['food near me'], method=\"spearman\")"
   ]
  },
  {
   "cell_type": "code",
   "execution_count": 56,
   "metadata": {},
   "outputs": [
    {
     "data": {
      "text/plain": [
       "food near me    0.645455\n",
       "diet           -0.785355\n",
       "gym            -0.218692\n",
       "Health          0.072727\n",
       "Beach          -0.594619\n",
       "dtype: float64"
      ]
     },
     "execution_count": 56,
     "metadata": {},
     "output_type": "execute_result"
    }
   ],
   "source": [
    "df_A.corrwith(dating_method_df['hinge'], method=\"spearman\").drop(['isPartial'])"
   ]
  },
  {
   "cell_type": "code",
   "execution_count": 57,
   "metadata": {},
   "outputs": [
    {
     "data": {
      "text/plain": [
       "christmas   -0.312119\n",
       "diet         0.195910\n",
       "dtype: float64"
      ]
     },
     "execution_count": 57,
     "metadata": {},
     "output_type": "execute_result"
    }
   ],
   "source": [
    "christmas_v_diet_df.corrwith(pizza_v_food_df['pizza'], method=\"spearman\" )"
   ]
  },
  {
   "cell_type": "code",
   "execution_count": 58,
   "metadata": {},
   "outputs": [
    {
     "data": {
      "text/html": [
       "<div>\n",
       "<style scoped>\n",
       "    .dataframe tbody tr th:only-of-type {\n",
       "        vertical-align: middle;\n",
       "    }\n",
       "\n",
       "    .dataframe tbody tr th {\n",
       "        vertical-align: top;\n",
       "    }\n",
       "\n",
       "    .dataframe thead th {\n",
       "        text-align: right;\n",
       "    }\n",
       "</style>\n",
       "<table border=\"1\" class=\"dataframe\">\n",
       "  <thead>\n",
       "    <tr style=\"text-align: right;\">\n",
       "      <th></th>\n",
       "      <th>food near me</th>\n",
       "      <th>diet</th>\n",
       "      <th>gym</th>\n",
       "      <th>Health</th>\n",
       "      <th>christmas</th>\n",
       "    </tr>\n",
       "  </thead>\n",
       "  <tbody>\n",
       "    <tr>\n",
       "      <th>food near me</th>\n",
       "      <td>1.000000</td>\n",
       "      <td>-0.156257</td>\n",
       "      <td>-0.236014</td>\n",
       "      <td>0.633288</td>\n",
       "      <td>0.044239</td>\n",
       "    </tr>\n",
       "    <tr>\n",
       "      <th>diet</th>\n",
       "      <td>-0.156257</td>\n",
       "      <td>1.000000</td>\n",
       "      <td>0.608274</td>\n",
       "      <td>-0.200366</td>\n",
       "      <td>-0.461984</td>\n",
       "    </tr>\n",
       "    <tr>\n",
       "      <th>gym</th>\n",
       "      <td>-0.236014</td>\n",
       "      <td>0.608274</td>\n",
       "      <td>1.000000</td>\n",
       "      <td>-0.285844</td>\n",
       "      <td>-0.276843</td>\n",
       "    </tr>\n",
       "    <tr>\n",
       "      <th>Health</th>\n",
       "      <td>0.633288</td>\n",
       "      <td>-0.200366</td>\n",
       "      <td>-0.285844</td>\n",
       "      <td>1.000000</td>\n",
       "      <td>0.007399</td>\n",
       "    </tr>\n",
       "    <tr>\n",
       "      <th>christmas</th>\n",
       "      <td>0.044239</td>\n",
       "      <td>-0.461984</td>\n",
       "      <td>-0.276843</td>\n",
       "      <td>0.007399</td>\n",
       "      <td>1.000000</td>\n",
       "    </tr>\n",
       "  </tbody>\n",
       "</table>\n",
       "</div>"
      ],
      "text/plain": [
       "              food near me      diet       gym    Health  christmas\n",
       "food near me      1.000000 -0.156257 -0.236014  0.633288   0.044239\n",
       "diet             -0.156257  1.000000  0.608274 -0.200366  -0.461984\n",
       "gym              -0.236014  0.608274  1.000000 -0.285844  -0.276843\n",
       "Health            0.633288 -0.200366 -0.285844  1.000000   0.007399\n",
       "christmas         0.044239 -0.461984 -0.276843  0.007399   1.000000"
      ]
     },
     "execution_count": 58,
     "metadata": {},
     "output_type": "execute_result"
    }
   ],
   "source": [
    "df_A_christmas.corr(method=\"spearman\")"
   ]
  },
  {
   "cell_type": "code",
   "execution_count": 59,
   "metadata": {},
   "outputs": [],
   "source": [
    "df_C_christmas_total_df = pd.concat([df_C_christmas_2020_df,df_C_christmas_2019_df,df_C_christmas_2018_df,df_C_christmas_2017_df,df_C_christmas_2016_df])"
   ]
  },
  {
   "cell_type": "code",
   "execution_count": 60,
   "metadata": {},
   "outputs": [],
   "source": [
    "df_C_thanksgiving_total_df = pd.concat([df_C_thanksgiving_2020_df,df_C_thanksgiving_2019_df,df_C_thanksgiving_2018_df,df_C_thanksgiving_2017_df,df_C_thanksgiving_2016_df])"
   ]
  },
  {
   "cell_type": "code",
   "execution_count": 61,
   "metadata": {},
   "outputs": [
    {
     "name": "stderr",
     "output_type": "stream",
     "text": [
      "/home/blau/anaconda3/envs/PythonData/lib/python3.6/site-packages/scipy/stats/stats.py:4196: SpearmanRConstantInputWarning: An input array is constant; the correlation coefficent is not defined.\n",
      "  warnings.warn(SpearmanRConstantInputWarning())\n"
     ]
    },
    {
     "data": {
      "text/plain": [
       "food near me   -0.386555\n",
       "diet            0.519191\n",
       "gym             0.472212\n",
       "Health          0.302521\n",
       "Beach           0.597479\n",
       "dtype: float64"
      ]
     },
     "execution_count": 61,
     "metadata": {},
     "output_type": "execute_result"
    }
   ],
   "source": [
    "df_A.corrwith(df_C_christmas_total_df['christmas'], method=\"spearman\").drop(['isPartial'])"
   ]
  },
  {
   "cell_type": "code",
   "execution_count": 62,
   "metadata": {},
   "outputs": [
    {
     "data": {
      "text/html": [
       "<div>\n",
       "<style scoped>\n",
       "    .dataframe tbody tr th:only-of-type {\n",
       "        vertical-align: middle;\n",
       "    }\n",
       "\n",
       "    .dataframe tbody tr th {\n",
       "        vertical-align: top;\n",
       "    }\n",
       "\n",
       "    .dataframe thead th {\n",
       "        text-align: right;\n",
       "    }\n",
       "</style>\n",
       "<table border=\"1\" class=\"dataframe\">\n",
       "  <thead>\n",
       "    <tr style=\"text-align: right;\">\n",
       "      <th></th>\n",
       "      <th>food near me</th>\n",
       "      <th>christmas</th>\n",
       "      <th>diet</th>\n",
       "      <th>gym</th>\n",
       "      <th>health</th>\n",
       "    </tr>\n",
       "  </thead>\n",
       "  <tbody>\n",
       "    <tr>\n",
       "      <th>food near me</th>\n",
       "      <td>1.000000</td>\n",
       "      <td>0.656644</td>\n",
       "      <td>0.759398</td>\n",
       "      <td>0.706186</td>\n",
       "      <td>0.659094</td>\n",
       "    </tr>\n",
       "    <tr>\n",
       "      <th>christmas</th>\n",
       "      <td>0.656644</td>\n",
       "      <td>1.000000</td>\n",
       "      <td>0.506155</td>\n",
       "      <td>0.503415</td>\n",
       "      <td>0.356984</td>\n",
       "    </tr>\n",
       "    <tr>\n",
       "      <th>diet</th>\n",
       "      <td>0.759398</td>\n",
       "      <td>0.506155</td>\n",
       "      <td>1.000000</td>\n",
       "      <td>0.913040</td>\n",
       "      <td>0.844468</td>\n",
       "    </tr>\n",
       "    <tr>\n",
       "      <th>gym</th>\n",
       "      <td>0.706186</td>\n",
       "      <td>0.503415</td>\n",
       "      <td>0.913040</td>\n",
       "      <td>1.000000</td>\n",
       "      <td>0.790587</td>\n",
       "    </tr>\n",
       "    <tr>\n",
       "      <th>health</th>\n",
       "      <td>0.659094</td>\n",
       "      <td>0.356984</td>\n",
       "      <td>0.844468</td>\n",
       "      <td>0.790587</td>\n",
       "      <td>1.000000</td>\n",
       "    </tr>\n",
       "  </tbody>\n",
       "</table>\n",
       "</div>"
      ],
      "text/plain": [
       "              food near me  christmas      diet       gym    health\n",
       "food near me      1.000000   0.656644  0.759398  0.706186  0.659094\n",
       "christmas         0.656644   1.000000  0.506155  0.503415  0.356984\n",
       "diet              0.759398   0.506155  1.000000  0.913040  0.844468\n",
       "gym               0.706186   0.503415  0.913040  1.000000  0.790587\n",
       "health            0.659094   0.356984  0.844468  0.790587  1.000000"
      ]
     },
     "execution_count": 62,
     "metadata": {},
     "output_type": "execute_result"
    }
   ],
   "source": [
    "df_C_christmas_total_df.corr(method=\"spearman\").drop(['isPartial']).drop('isPartial', axis=1)"
   ]
  },
  {
   "cell_type": "code",
   "execution_count": 63,
   "metadata": {},
   "outputs": [
    {
     "data": {
      "text/html": [
       "<div>\n",
       "<style scoped>\n",
       "    .dataframe tbody tr th:only-of-type {\n",
       "        vertical-align: middle;\n",
       "    }\n",
       "\n",
       "    .dataframe tbody tr th {\n",
       "        vertical-align: top;\n",
       "    }\n",
       "\n",
       "    .dataframe thead th {\n",
       "        text-align: right;\n",
       "    }\n",
       "</style>\n",
       "<table border=\"1\" class=\"dataframe\">\n",
       "  <thead>\n",
       "    <tr style=\"text-align: right;\">\n",
       "      <th></th>\n",
       "      <th>food near me</th>\n",
       "      <th>diet</th>\n",
       "      <th>gym</th>\n",
       "      <th>Health</th>\n",
       "      <th>christmas</th>\n",
       "    </tr>\n",
       "  </thead>\n",
       "  <tbody>\n",
       "    <tr>\n",
       "      <th>food near me</th>\n",
       "      <td>1.000000</td>\n",
       "      <td>-0.156257</td>\n",
       "      <td>-0.236014</td>\n",
       "      <td>0.633288</td>\n",
       "      <td>0.044239</td>\n",
       "    </tr>\n",
       "    <tr>\n",
       "      <th>diet</th>\n",
       "      <td>-0.156257</td>\n",
       "      <td>1.000000</td>\n",
       "      <td>0.608274</td>\n",
       "      <td>-0.200366</td>\n",
       "      <td>-0.461984</td>\n",
       "    </tr>\n",
       "    <tr>\n",
       "      <th>gym</th>\n",
       "      <td>-0.236014</td>\n",
       "      <td>0.608274</td>\n",
       "      <td>1.000000</td>\n",
       "      <td>-0.285844</td>\n",
       "      <td>-0.276843</td>\n",
       "    </tr>\n",
       "    <tr>\n",
       "      <th>Health</th>\n",
       "      <td>0.633288</td>\n",
       "      <td>-0.200366</td>\n",
       "      <td>-0.285844</td>\n",
       "      <td>1.000000</td>\n",
       "      <td>0.007399</td>\n",
       "    </tr>\n",
       "    <tr>\n",
       "      <th>christmas</th>\n",
       "      <td>0.044239</td>\n",
       "      <td>-0.461984</td>\n",
       "      <td>-0.276843</td>\n",
       "      <td>0.007399</td>\n",
       "      <td>1.000000</td>\n",
       "    </tr>\n",
       "  </tbody>\n",
       "</table>\n",
       "</div>"
      ],
      "text/plain": [
       "              food near me      diet       gym    Health  christmas\n",
       "food near me      1.000000 -0.156257 -0.236014  0.633288   0.044239\n",
       "diet             -0.156257  1.000000  0.608274 -0.200366  -0.461984\n",
       "gym              -0.236014  0.608274  1.000000 -0.285844  -0.276843\n",
       "Health            0.633288 -0.200366 -0.285844  1.000000   0.007399\n",
       "christmas         0.044239 -0.461984 -0.276843  0.007399   1.000000"
      ]
     },
     "execution_count": 63,
     "metadata": {},
     "output_type": "execute_result"
    }
   ],
   "source": [
    "df_A_christmas.corr(method=\"spearman\")"
   ]
  },
  {
   "cell_type": "code",
   "execution_count": 64,
   "metadata": {},
   "outputs": [],
   "source": [
    "df_C_holidays_total_df = pd.concat([df_C_christmas_total_df,df_C_thanksgiving_total_df])"
   ]
  },
  {
   "cell_type": "code",
   "execution_count": 65,
   "metadata": {},
   "outputs": [
    {
     "name": "stderr",
     "output_type": "stream",
     "text": [
      "/home/blau/anaconda3/envs/PythonData/lib/python3.6/site-packages/scipy/stats/stats.py:4196: SpearmanRConstantInputWarning: An input array is constant; the correlation coefficent is not defined.\n",
      "  warnings.warn(SpearmanRConstantInputWarning())\n"
     ]
    },
    {
     "data": {
      "text/plain": [
       "food near me   -0.386555\n",
       "diet            0.519191\n",
       "gym             0.472212\n",
       "Health          0.302521\n",
       "Beach           0.597479\n",
       "dtype: float64"
      ]
     },
     "execution_count": 65,
     "metadata": {},
     "output_type": "execute_result"
    }
   ],
   "source": [
    "df_A.corrwith(df_C_holidays_total_df['christmas'], method=\"spearman\").drop(['isPartial'])"
   ]
  },
  {
   "cell_type": "code",
   "execution_count": 66,
   "metadata": {},
   "outputs": [
    {
     "data": {
      "text/plain": [
       "food near me    0.400000\n",
       "diet           -0.632456\n",
       "gym             0.316228\n",
       "Health         -0.800000\n",
       "Beach           0.447214\n",
       "dtype: float64"
      ]
     },
     "execution_count": 66,
     "metadata": {},
     "output_type": "execute_result"
    }
   ],
   "source": [
    "df_A.corrwith(df_C_holidays_total_df['thanksgiving'], method=\"spearman\").drop(['isPartial'])"
   ]
  },
  {
   "cell_type": "code",
   "execution_count": 67,
   "metadata": {},
   "outputs": [
    {
     "data": {
      "text/plain": [
       "food near me   -0.063636\n",
       "diet           -0.804054\n",
       "gym            -0.477146\n",
       "Health         -0.045455\n",
       "Beach          -0.756787\n",
       "dtype: float64"
      ]
     },
     "execution_count": 67,
     "metadata": {},
     "output_type": "execute_result"
    }
   ],
   "source": [
    "df_A.corrwith(df_A_christmas['christmas'], method=\"spearman\").drop(['isPartial'])\n"
   ]
  },
  {
   "cell_type": "code",
   "execution_count": 68,
   "metadata": {},
   "outputs": [
    {
     "data": {
      "text/html": [
       "<div>\n",
       "<style scoped>\n",
       "    .dataframe tbody tr th:only-of-type {\n",
       "        vertical-align: middle;\n",
       "    }\n",
       "\n",
       "    .dataframe tbody tr th {\n",
       "        vertical-align: top;\n",
       "    }\n",
       "\n",
       "    .dataframe thead th {\n",
       "        text-align: right;\n",
       "    }\n",
       "</style>\n",
       "<table border=\"1\" class=\"dataframe\">\n",
       "  <thead>\n",
       "    <tr style=\"text-align: right;\">\n",
       "      <th></th>\n",
       "      <th>food near me</th>\n",
       "      <th>christmas</th>\n",
       "      <th>diet</th>\n",
       "      <th>gym</th>\n",
       "      <th>health</th>\n",
       "      <th>thanksgiving</th>\n",
       "    </tr>\n",
       "  </thead>\n",
       "  <tbody>\n",
       "    <tr>\n",
       "      <th>food near me</th>\n",
       "      <td>1.000000</td>\n",
       "      <td>0.656644</td>\n",
       "      <td>0.779689</td>\n",
       "      <td>0.753316</td>\n",
       "      <td>0.695189</td>\n",
       "      <td>0.457989</td>\n",
       "    </tr>\n",
       "    <tr>\n",
       "      <th>christmas</th>\n",
       "      <td>0.656644</td>\n",
       "      <td>1.000000</td>\n",
       "      <td>0.506155</td>\n",
       "      <td>0.503415</td>\n",
       "      <td>0.356984</td>\n",
       "      <td>NaN</td>\n",
       "    </tr>\n",
       "    <tr>\n",
       "      <th>diet</th>\n",
       "      <td>0.779689</td>\n",
       "      <td>0.506155</td>\n",
       "      <td>1.000000</td>\n",
       "      <td>0.936725</td>\n",
       "      <td>0.860392</td>\n",
       "      <td>0.340105</td>\n",
       "    </tr>\n",
       "    <tr>\n",
       "      <th>gym</th>\n",
       "      <td>0.753316</td>\n",
       "      <td>0.503415</td>\n",
       "      <td>0.936725</td>\n",
       "      <td>1.000000</td>\n",
       "      <td>0.825452</td>\n",
       "      <td>0.396255</td>\n",
       "    </tr>\n",
       "    <tr>\n",
       "      <th>health</th>\n",
       "      <td>0.695189</td>\n",
       "      <td>0.356984</td>\n",
       "      <td>0.860392</td>\n",
       "      <td>0.825452</td>\n",
       "      <td>1.000000</td>\n",
       "      <td>0.321451</td>\n",
       "    </tr>\n",
       "    <tr>\n",
       "      <th>thanksgiving</th>\n",
       "      <td>0.457989</td>\n",
       "      <td>NaN</td>\n",
       "      <td>0.340105</td>\n",
       "      <td>0.396255</td>\n",
       "      <td>0.321451</td>\n",
       "      <td>1.000000</td>\n",
       "    </tr>\n",
       "  </tbody>\n",
       "</table>\n",
       "</div>"
      ],
      "text/plain": [
       "              food near me  christmas      diet       gym    health  \\\n",
       "food near me      1.000000   0.656644  0.779689  0.753316  0.695189   \n",
       "christmas         0.656644   1.000000  0.506155  0.503415  0.356984   \n",
       "diet              0.779689   0.506155  1.000000  0.936725  0.860392   \n",
       "gym               0.753316   0.503415  0.936725  1.000000  0.825452   \n",
       "health            0.695189   0.356984  0.860392  0.825452  1.000000   \n",
       "thanksgiving      0.457989        NaN  0.340105  0.396255  0.321451   \n",
       "\n",
       "              thanksgiving  \n",
       "food near me      0.457989  \n",
       "christmas              NaN  \n",
       "diet              0.340105  \n",
       "gym               0.396255  \n",
       "health            0.321451  \n",
       "thanksgiving      1.000000  "
      ]
     },
     "execution_count": 68,
     "metadata": {},
     "output_type": "execute_result"
    }
   ],
   "source": [
    "df_C_holidays_total_df.corr(method=\"spearman\").drop(['isPartial'], axis=1).drop(['isPartial'])"
   ]
  },
  {
   "cell_type": "code",
   "execution_count": 69,
   "metadata": {},
   "outputs": [
    {
     "data": {
      "text/html": [
       "<div>\n",
       "<style scoped>\n",
       "    .dataframe tbody tr th:only-of-type {\n",
       "        vertical-align: middle;\n",
       "    }\n",
       "\n",
       "    .dataframe tbody tr th {\n",
       "        vertical-align: top;\n",
       "    }\n",
       "\n",
       "    .dataframe thead th {\n",
       "        text-align: right;\n",
       "    }\n",
       "</style>\n",
       "<table border=\"1\" class=\"dataframe\">\n",
       "  <thead>\n",
       "    <tr style=\"text-align: right;\">\n",
       "      <th></th>\n",
       "      <th>gym</th>\n",
       "      <th>workout plan</th>\n",
       "      <th>running</th>\n",
       "    </tr>\n",
       "  </thead>\n",
       "  <tbody>\n",
       "    <tr>\n",
       "      <th>gym</th>\n",
       "      <td>1.000000</td>\n",
       "      <td>0.473542</td>\n",
       "      <td>-0.307881</td>\n",
       "    </tr>\n",
       "    <tr>\n",
       "      <th>workout plan</th>\n",
       "      <td>0.473542</td>\n",
       "      <td>1.000000</td>\n",
       "      <td>-0.095568</td>\n",
       "    </tr>\n",
       "    <tr>\n",
       "      <th>running</th>\n",
       "      <td>-0.307881</td>\n",
       "      <td>-0.095568</td>\n",
       "      <td>1.000000</td>\n",
       "    </tr>\n",
       "  </tbody>\n",
       "</table>\n",
       "</div>"
      ],
      "text/plain": [
       "                   gym  workout plan   running\n",
       "gym           1.000000      0.473542 -0.307881\n",
       "workout plan  0.473542      1.000000 -0.095568\n",
       "running      -0.307881     -0.095568  1.000000"
      ]
     },
     "execution_count": 69,
     "metadata": {},
     "output_type": "execute_result"
    }
   ],
   "source": [
    "gym_N_running_df.corr(method=\"spearman\")"
   ]
  },
  {
   "cell_type": "code",
   "execution_count": 70,
   "metadata": {},
   "outputs": [
    {
     "name": "stderr",
     "output_type": "stream",
     "text": [
      "/home/blau/anaconda3/envs/PythonData/lib/python3.6/site-packages/scipy/stats/stats.py:4196: SpearmanRConstantInputWarning: An input array is constant; the correlation coefficent is not defined.\n",
      "  warnings.warn(SpearmanRConstantInputWarning())\n"
     ]
    },
    {
     "data": {
      "text/plain": [
       "food near me   -0.308957\n",
       "diet            0.635489\n",
       "gym             0.675664\n",
       "Health          0.205971\n",
       "Beach           0.612372\n",
       "dtype: float64"
      ]
     },
     "execution_count": 70,
     "metadata": {},
     "output_type": "execute_result"
    }
   ],
   "source": [
    "df_A.corrwith(gym_N_running_df['workout plan'],method=\"spearman\").drop(['isPartial'])"
   ]
  },
  {
   "cell_type": "code",
   "execution_count": 71,
   "metadata": {},
   "outputs": [
    {
     "data": {
      "text/plain": [
       "food near me   -0.198254\n",
       "diet            0.951501\n",
       "gym             0.670995\n",
       "Health         -0.396509\n",
       "Beach           0.954314\n",
       "dtype: float64"
      ]
     },
     "execution_count": 71,
     "metadata": {},
     "output_type": "execute_result"
    }
   ],
   "source": [
    "df_A.corrwith(tanning_N_bikini_df['bikini waxing'],method=\"spearman\").drop(['isPartial'])"
   ]
  },
  {
   "cell_type": "code",
   "execution_count": 72,
   "metadata": {},
   "outputs": [
    {
     "data": {
      "text/plain": [
       "food near me   -0.418182\n",
       "diet            0.785355\n",
       "gym             0.566610\n",
       "Health          0.372727\n",
       "Beach           0.630656\n",
       "dtype: float64"
      ]
     },
     "execution_count": 72,
     "metadata": {},
     "output_type": "execute_result"
    }
   ],
   "source": [
    "df_A.corrwith(tanning_N_bikini_df['tanning bed'],method=\"spearman\").drop(['isPartial'])"
   ]
  },
  {
   "cell_type": "code",
   "execution_count": 89,
   "metadata": {},
   "outputs": [
    {
     "name": "stderr",
     "output_type": "stream",
     "text": [
      "/home/blau/anaconda3/envs/PythonData/lib/python3.6/site-packages/scipy/stats/stats.py:4196: SpearmanRConstantInputWarning: An input array is constant; the correlation coefficent is not defined.\n",
      "  warnings.warn(SpearmanRConstantInputWarning())\n"
     ]
    },
    {
     "data": {
      "text/html": [
       "<div>\n",
       "<style scoped>\n",
       "    .dataframe tbody tr th:only-of-type {\n",
       "        vertical-align: middle;\n",
       "    }\n",
       "\n",
       "    .dataframe tbody tr th {\n",
       "        vertical-align: top;\n",
       "    }\n",
       "\n",
       "    .dataframe thead th {\n",
       "        text-align: right;\n",
       "    }\n",
       "</style>\n",
       "<table border=\"1\" class=\"dataframe\">\n",
       "  <thead>\n",
       "    <tr style=\"text-align: right;\">\n",
       "      <th></th>\n",
       "      <th>liposuction</th>\n",
       "    </tr>\n",
       "  </thead>\n",
       "  <tbody>\n",
       "    <tr>\n",
       "      <th>food near me</th>\n",
       "      <td>-0.472727</td>\n",
       "    </tr>\n",
       "    <tr>\n",
       "      <th>diet</th>\n",
       "      <td>0.430076</td>\n",
       "    </tr>\n",
       "    <tr>\n",
       "      <th>gym</th>\n",
       "      <td>0.109346</td>\n",
       "    </tr>\n",
       "    <tr>\n",
       "      <th>Health</th>\n",
       "      <td>-0.518182</td>\n",
       "    </tr>\n",
       "    <tr>\n",
       "      <th>Beach</th>\n",
       "      <td>0.342356</td>\n",
       "    </tr>\n",
       "  </tbody>\n",
       "</table>\n",
       "</div>"
      ],
      "text/plain": [
       "              liposuction\n",
       "food near me    -0.472727\n",
       "diet             0.430076\n",
       "gym              0.109346\n",
       "Health          -0.518182\n",
       "Beach            0.342356"
      ]
     },
     "execution_count": 89,
     "metadata": {},
     "output_type": "execute_result"
    }
   ],
   "source": [
    "payday_load_N_liposuction_l = df_A.corrwith(payday_load_N_liposuction_df['liposuction'],method=\"spearman\").drop(['isPartial'])\n",
    "payday_load_N_liposuction_l_df = pd.DataFrame(data=payday_load_N_liposuction_l, columns=['liposuction'])\n",
    "payday_load_N_liposuction_l_df"
   ]
  },
  {
   "cell_type": "code",
   "execution_count": 90,
   "metadata": {},
   "outputs": [
    {
     "name": "stderr",
     "output_type": "stream",
     "text": [
      "/home/blau/anaconda3/envs/PythonData/lib/python3.6/site-packages/scipy/stats/stats.py:4196: SpearmanRConstantInputWarning: An input array is constant; the correlation coefficent is not defined.\n",
      "  warnings.warn(SpearmanRConstantInputWarning())\n"
     ]
    },
    {
     "data": {
      "text/html": [
       "<div>\n",
       "<style scoped>\n",
       "    .dataframe tbody tr th:only-of-type {\n",
       "        vertical-align: middle;\n",
       "    }\n",
       "\n",
       "    .dataframe tbody tr th {\n",
       "        vertical-align: top;\n",
       "    }\n",
       "\n",
       "    .dataframe thead th {\n",
       "        text-align: right;\n",
       "    }\n",
       "</style>\n",
       "<table border=\"1\" class=\"dataframe\">\n",
       "  <thead>\n",
       "    <tr style=\"text-align: right;\">\n",
       "      <th></th>\n",
       "      <th>gastric sleeve</th>\n",
       "    </tr>\n",
       "  </thead>\n",
       "  <tbody>\n",
       "    <tr>\n",
       "      <th>food near me</th>\n",
       "      <td>-0.432450</td>\n",
       "    </tr>\n",
       "    <tr>\n",
       "      <th>diet</th>\n",
       "      <td>0.407687</td>\n",
       "    </tr>\n",
       "    <tr>\n",
       "      <th>gym</th>\n",
       "      <td>0.157622</td>\n",
       "    </tr>\n",
       "    <tr>\n",
       "      <th>Health</th>\n",
       "      <td>-0.576600</td>\n",
       "    </tr>\n",
       "    <tr>\n",
       "      <th>Beach</th>\n",
       "      <td>0.357143</td>\n",
       "    </tr>\n",
       "  </tbody>\n",
       "</table>\n",
       "</div>"
      ],
      "text/plain": [
       "              gastric sleeve\n",
       "food near me       -0.432450\n",
       "diet                0.407687\n",
       "gym                 0.157622\n",
       "Health             -0.576600\n",
       "Beach               0.357143"
      ]
     },
     "execution_count": 90,
     "metadata": {},
     "output_type": "execute_result"
    }
   ],
   "source": [
    "payday_load_N_liposuction_g = df_A.corrwith(payday_load_N_liposuction_df['gastric sleeve'],method=\"spearman\").drop(['isPartial'])\n",
    "payday_load_N_liposuction_g_df = pd.DataFrame(data=payday_load_N_liposuction_g, columns=['gastric sleeve'])\n",
    "payday_load_N_liposuction_g_df"
   ]
  },
  {
   "cell_type": "code",
   "execution_count": 91,
   "metadata": {},
   "outputs": [
    {
     "name": "stderr",
     "output_type": "stream",
     "text": [
      "/home/blau/anaconda3/envs/PythonData/lib/python3.6/site-packages/scipy/stats/stats.py:4196: SpearmanRConstantInputWarning: An input array is constant; the correlation coefficent is not defined.\n",
      "  warnings.warn(SpearmanRConstantInputWarning())\n"
     ]
    },
    {
     "data": {
      "text/html": [
       "<div>\n",
       "<style scoped>\n",
       "    .dataframe tbody tr th:only-of-type {\n",
       "        vertical-align: middle;\n",
       "    }\n",
       "\n",
       "    .dataframe tbody tr th {\n",
       "        vertical-align: top;\n",
       "    }\n",
       "\n",
       "    .dataframe thead th {\n",
       "        text-align: right;\n",
       "    }\n",
       "</style>\n",
       "<table border=\"1\" class=\"dataframe\">\n",
       "  <thead>\n",
       "    <tr style=\"text-align: right;\">\n",
       "      <th></th>\n",
       "      <th>Bariatric</th>\n",
       "    </tr>\n",
       "  </thead>\n",
       "  <tbody>\n",
       "    <tr>\n",
       "      <th>food near me</th>\n",
       "      <td>-0.270281</td>\n",
       "    </tr>\n",
       "    <tr>\n",
       "      <th>diet</th>\n",
       "      <td>0.741249</td>\n",
       "    </tr>\n",
       "    <tr>\n",
       "      <th>gym</th>\n",
       "      <td>0.571380</td>\n",
       "    </tr>\n",
       "    <tr>\n",
       "      <th>Health</th>\n",
       "      <td>-0.684712</td>\n",
       "    </tr>\n",
       "    <tr>\n",
       "      <th>Beach</th>\n",
       "      <td>0.785714</td>\n",
       "    </tr>\n",
       "  </tbody>\n",
       "</table>\n",
       "</div>"
      ],
      "text/plain": [
       "              Bariatric\n",
       "food near me  -0.270281\n",
       "diet           0.741249\n",
       "gym            0.571380\n",
       "Health        -0.684712\n",
       "Beach          0.785714"
      ]
     },
     "execution_count": 91,
     "metadata": {},
     "output_type": "execute_result"
    }
   ],
   "source": [
    "payday_load_N_liposuction_b = df_A.corrwith(payday_load_N_liposuction_df['Bariatric'],method=\"spearman\").drop(['isPartial'])\n",
    "payday_load_N_liposuction_b_df = pd.DataFrame(data=payday_load_N_liposuction_b, columns=['Bariatric'])\n",
    "payday_load_N_liposuction_b_df"
   ]
  },
  {
   "cell_type": "code",
   "execution_count": 92,
   "metadata": {},
   "outputs": [
    {
     "name": "stderr",
     "output_type": "stream",
     "text": [
      "/home/blau/anaconda3/envs/PythonData/lib/python3.6/site-packages/scipy/stats/stats.py:4196: SpearmanRConstantInputWarning: An input array is constant; the correlation coefficent is not defined.\n",
      "  warnings.warn(SpearmanRConstantInputWarning())\n"
     ]
    },
    {
     "data": {
      "text/html": [
       "<div>\n",
       "<style scoped>\n",
       "    .dataframe tbody tr th:only-of-type {\n",
       "        vertical-align: middle;\n",
       "    }\n",
       "\n",
       "    .dataframe tbody tr th {\n",
       "        vertical-align: top;\n",
       "    }\n",
       "\n",
       "    .dataframe thead th {\n",
       "        text-align: right;\n",
       "    }\n",
       "</style>\n",
       "<table border=\"1\" class=\"dataframe\">\n",
       "  <thead>\n",
       "    <tr style=\"text-align: right;\">\n",
       "      <th></th>\n",
       "      <th>personal loan</th>\n",
       "    </tr>\n",
       "  </thead>\n",
       "  <tbody>\n",
       "    <tr>\n",
       "      <th>food near me</th>\n",
       "      <td>0.018019</td>\n",
       "    </tr>\n",
       "    <tr>\n",
       "      <th>diet</th>\n",
       "      <td>0.407687</td>\n",
       "    </tr>\n",
       "    <tr>\n",
       "      <th>gym</th>\n",
       "      <td>0.610786</td>\n",
       "    </tr>\n",
       "    <tr>\n",
       "      <th>Health</th>\n",
       "      <td>-0.090094</td>\n",
       "    </tr>\n",
       "    <tr>\n",
       "      <th>Beach</th>\n",
       "      <td>0.535714</td>\n",
       "    </tr>\n",
       "  </tbody>\n",
       "</table>\n",
       "</div>"
      ],
      "text/plain": [
       "              personal loan\n",
       "food near me       0.018019\n",
       "diet               0.407687\n",
       "gym                0.610786\n",
       "Health            -0.090094\n",
       "Beach              0.535714"
      ]
     },
     "execution_count": 92,
     "metadata": {},
     "output_type": "execute_result"
    }
   ],
   "source": [
    "payday_load_N_liposuction_p = df_A.corrwith(payday_load_N_liposuction_df['personal loan'],method=\"spearman\").drop(['isPartial'])\n",
    "payday_load_N_liposuction_p_df = pd.DataFrame(data=payday_load_N_liposuction_p, columns=['personal loan'])\n",
    "payday_load_N_liposuction_p_df"
   ]
  },
  {
   "cell_type": "code",
   "execution_count": 100,
   "metadata": {},
   "outputs": [
    {
     "data": {
      "text/plain": [
       "<matplotlib.axes._subplots.AxesSubplot at 0x7f4dba5b15f8>"
      ]
     },
     "execution_count": 100,
     "metadata": {},
     "output_type": "execute_result"
    },
    {
     "data": {
      "image/png": "[encoded data removed]",
      "text/plain": [
       "<Figure size 432x288 with 2 Axes>"
      ]
     },
     "metadata": {
      "needs_background": "light"
     },
     "output_type": "display_data"
    }
   ],
   "source": [
    "payday_load_N_liposuction_frames = [payday_load_N_liposuction_p_df,payday_load_N_liposuction_b_df , payday_load_N_liposuction_g_df,payday_load_N_liposuction_l_df]\n",
    "payday_load_N_liposuction_all_df = pd.concat(payday_load_N_liposuction_frames,axis=1, join=\"inner\")\n",
    "#sn.heatmap(payday_load_N_liposuction_all_df, cmap=\"blue\", annot=True)\n",
    "sn.heatmap(payday_load_N_liposuction_all_df,cmap=\"YlGnBu\",annot=True)"
   ]
  },
  {
   "cell_type": "code",
   "execution_count": 95,
   "metadata": {},
   "outputs": [
    {
     "data": {
      "text/html": [
       "<div>\n",
       "<style scoped>\n",
       "    .dataframe tbody tr th:only-of-type {\n",
       "        vertical-align: middle;\n",
       "    }\n",
       "\n",
       "    .dataframe tbody tr th {\n",
       "        vertical-align: top;\n",
       "    }\n",
       "\n",
       "    .dataframe thead th {\n",
       "        text-align: right;\n",
       "    }\n",
       "</style>\n",
       "<table border=\"1\" class=\"dataframe\">\n",
       "  <thead>\n",
       "    <tr style=\"text-align: right;\">\n",
       "      <th></th>\n",
       "      <th>Beach</th>\n",
       "    </tr>\n",
       "  </thead>\n",
       "  <tbody>\n",
       "    <tr>\n",
       "      <th>avant</th>\n",
       "      <td>0.321429</td>\n",
       "    </tr>\n",
       "    <tr>\n",
       "      <th>lending club</th>\n",
       "      <td>0.810844</td>\n",
       "    </tr>\n",
       "    <tr>\n",
       "      <th>OneMain Financial</th>\n",
       "      <td>0.580073</td>\n",
       "    </tr>\n",
       "    <tr>\n",
       "      <th>credit card loan</th>\n",
       "      <td>0.673633</td>\n",
       "    </tr>\n",
       "    <tr>\n",
       "      <th>lending tree</th>\n",
       "      <td>0.522544</td>\n",
       "    </tr>\n",
       "  </tbody>\n",
       "</table>\n",
       "</div>"
      ],
      "text/plain": [
       "                      Beach\n",
       "avant              0.321429\n",
       "lending club       0.810844\n",
       "OneMain Financial  0.580073\n",
       "credit card loan   0.673633\n",
       "lending tree       0.522544"
      ]
     },
     "execution_count": 95,
     "metadata": {},
     "output_type": "execute_result"
    }
   ],
   "source": [
    "personal_loan_method_b  = personal_loan_method_df.corrwith(df_A['Beach'],method=\"spearman\")\n",
    "personal_loan_method_b_df = pd.DataFrame(data=personal_loan_method_b, columns=['Beach'])\n",
    "personal_loan_method_b_df"
   ]
  },
  {
   "cell_type": "code",
   "execution_count": 96,
   "metadata": {},
   "outputs": [
    {
     "data": {
      "text/html": [
       "<div>\n",
       "<style scoped>\n",
       "    .dataframe tbody tr th:only-of-type {\n",
       "        vertical-align: middle;\n",
       "    }\n",
       "\n",
       "    .dataframe tbody tr th {\n",
       "        vertical-align: top;\n",
       "    }\n",
       "\n",
       "    .dataframe thead th {\n",
       "        text-align: right;\n",
       "    }\n",
       "</style>\n",
       "<table border=\"1\" class=\"dataframe\">\n",
       "  <thead>\n",
       "    <tr style=\"text-align: right;\">\n",
       "      <th></th>\n",
       "      <th>diet</th>\n",
       "    </tr>\n",
       "  </thead>\n",
       "  <tbody>\n",
       "    <tr>\n",
       "      <th>avant</th>\n",
       "      <td>0.222375</td>\n",
       "    </tr>\n",
       "    <tr>\n",
       "      <th>lending club</th>\n",
       "      <td>0.878850</td>\n",
       "    </tr>\n",
       "    <tr>\n",
       "      <th>OneMain Financial</th>\n",
       "      <td>0.621389</td>\n",
       "    </tr>\n",
       "    <tr>\n",
       "      <th>credit card loan</th>\n",
       "      <td>0.543715</td>\n",
       "    </tr>\n",
       "    <tr>\n",
       "      <th>lending tree</th>\n",
       "      <td>0.579667</td>\n",
       "    </tr>\n",
       "  </tbody>\n",
       "</table>\n",
       "</div>"
      ],
      "text/plain": [
       "                       diet\n",
       "avant              0.222375\n",
       "lending club       0.878850\n",
       "OneMain Financial  0.621389\n",
       "credit card loan   0.543715\n",
       "lending tree       0.579667"
      ]
     },
     "execution_count": 96,
     "metadata": {},
     "output_type": "execute_result"
    }
   ],
   "source": [
    "personal_loan_method_d = personal_loan_method_df.corrwith(df_A['diet'],method=\"spearman\")\n",
    "personal_loan_method_d_df = pd.DataFrame(data=personal_loan_method_d, columns=['diet'])\n",
    "personal_loan_method_d_df"
   ]
  },
  {
   "cell_type": "code",
   "execution_count": 97,
   "metadata": {},
   "outputs": [
    {
     "data": {
      "text/html": [
       "<div>\n",
       "<style scoped>\n",
       "    .dataframe tbody tr th:only-of-type {\n",
       "        vertical-align: middle;\n",
       "    }\n",
       "\n",
       "    .dataframe tbody tr th {\n",
       "        vertical-align: top;\n",
       "    }\n",
       "\n",
       "    .dataframe thead th {\n",
       "        text-align: right;\n",
       "    }\n",
       "</style>\n",
       "<table border=\"1\" class=\"dataframe\">\n",
       "  <thead>\n",
       "    <tr style=\"text-align: right;\">\n",
       "      <th></th>\n",
       "      <th>Health</th>\n",
       "    </tr>\n",
       "  </thead>\n",
       "  <tbody>\n",
       "    <tr>\n",
       "      <th>avant</th>\n",
       "      <td>0.126131</td>\n",
       "    </tr>\n",
       "    <tr>\n",
       "      <th>lending club</th>\n",
       "      <td>-0.236364</td>\n",
       "    </tr>\n",
       "    <tr>\n",
       "      <th>OneMain Financial</th>\n",
       "      <td>-0.169932</td>\n",
       "    </tr>\n",
       "    <tr>\n",
       "      <th>credit card loan</th>\n",
       "      <td>-0.519238</td>\n",
       "    </tr>\n",
       "    <tr>\n",
       "      <th>lending tree</th>\n",
       "      <td>-0.281818</td>\n",
       "    </tr>\n",
       "  </tbody>\n",
       "</table>\n",
       "</div>"
      ],
      "text/plain": [
       "                     Health\n",
       "avant              0.126131\n",
       "lending club      -0.236364\n",
       "OneMain Financial -0.169932\n",
       "credit card loan  -0.519238\n",
       "lending tree      -0.281818"
      ]
     },
     "execution_count": 97,
     "metadata": {},
     "output_type": "execute_result"
    }
   ],
   "source": [
    "personal_loan_method_h = personal_loan_method_df.corrwith(df_A['Health'],method=\"spearman\")\n",
    "personal_loan_method_h_df = pd.DataFrame(data=personal_loan_method_h, columns=['Health'])\n",
    "personal_loan_method_h_df"
   ]
  },
  {
   "cell_type": "code",
   "execution_count": 98,
   "metadata": {},
   "outputs": [
    {
     "data": {
      "text/html": [
       "<div>\n",
       "<style scoped>\n",
       "    .dataframe tbody tr th:only-of-type {\n",
       "        vertical-align: middle;\n",
       "    }\n",
       "\n",
       "    .dataframe tbody tr th {\n",
       "        vertical-align: top;\n",
       "    }\n",
       "\n",
       "    .dataframe thead th {\n",
       "        text-align: right;\n",
       "    }\n",
       "</style>\n",
       "<table border=\"1\" class=\"dataframe\">\n",
       "  <thead>\n",
       "    <tr style=\"text-align: right;\">\n",
       "      <th></th>\n",
       "      <th>gym</th>\n",
       "    </tr>\n",
       "  </thead>\n",
       "  <tbody>\n",
       "    <tr>\n",
       "      <th>avant</th>\n",
       "      <td>0.512272</td>\n",
       "    </tr>\n",
       "    <tr>\n",
       "      <th>lending club</th>\n",
       "      <td>0.566610</td>\n",
       "    </tr>\n",
       "    <tr>\n",
       "      <th>OneMain Financial</th>\n",
       "      <td>0.640026</td>\n",
       "    </tr>\n",
       "    <tr>\n",
       "      <th>credit card loan</th>\n",
       "      <td>0.588411</td>\n",
       "    </tr>\n",
       "    <tr>\n",
       "      <th>lending tree</th>\n",
       "      <td>0.168989</td>\n",
       "    </tr>\n",
       "  </tbody>\n",
       "</table>\n",
       "</div>"
      ],
      "text/plain": [
       "                        gym\n",
       "avant              0.512272\n",
       "lending club       0.566610\n",
       "OneMain Financial  0.640026\n",
       "credit card loan   0.588411\n",
       "lending tree       0.168989"
      ]
     },
     "execution_count": 98,
     "metadata": {},
     "output_type": "execute_result"
    }
   ],
   "source": [
    "personal_loan_method_g = personal_loan_method_df.corrwith(df_A['gym'],method=\"spearman\")\n",
    "personal_loan_method_g_df = pd.DataFrame(data=personal_loan_method_g, columns=['gym'])\n",
    "personal_loan_method_g_df"
   ]
  },
  {
   "cell_type": "code",
   "execution_count": 99,
   "metadata": {},
   "outputs": [
    {
     "data": {
      "text/plain": [
       "<matplotlib.axes._subplots.AxesSubplot at 0x7f4dba633358>"
      ]
     },
     "execution_count": 99,
     "metadata": {},
     "output_type": "execute_result"
    },
    {
     "data": {
      "image/png": "[encoded data removed]",
      "text/plain": [
       "<Figure size 432x288 with 2 Axes>"
      ]
     },
     "metadata": {
      "needs_background": "light"
     },
     "output_type": "display_data"
    }
   ],
   "source": [
    "\n",
    "frames = [personal_loan_method_g_df, personal_loan_method_h_df, personal_loan_method_d_df,personal_loan_method_b_df]\n",
    "personal_loan_method_all_df = pd.concat(frames,axis=1, join=\"inner\")\n",
    "sn.heatmap(personal_loan_method_all_df, cmap=\"Blues\", annot=True)\n"
   ]
  },
  {
   "cell_type": "code",
   "execution_count": null,
   "metadata": {},
   "outputs": [],
   "source": []
  }
 ],
 "metadata": {
  "kernelspec": {
   "display_name": "Python 3",
   "language": "python",
   "name": "python3"
  },
  "language_info": {
   "codemirror_mode": {
    "name": "ipython",
    "version": 3
   },
   "file_extension": ".py",
   "mimetype": "text/x-python",
   "name": "python",
   "nbconvert_exporter": "python",
   "pygments_lexer": "ipython3",
   "version": "3.6.10"
  }
 },
 "nbformat": 4,
 "nbformat_minor": 2
}
