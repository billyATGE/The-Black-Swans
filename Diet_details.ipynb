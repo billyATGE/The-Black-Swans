{
 "cells": [
  {
   "cell_type": "code",
   "execution_count": 1,
   "metadata": {},
   "outputs": [
    {
     "name": "stdout",
     "output_type": "stream",
     "text": [
      "Requirement already satisfied: pytrends in /home/blau/anaconda3/envs/PythonData/lib/python3.6/site-packages (4.7.3)\n",
      "Requirement already satisfied: pandas>=0.25 in /home/blau/anaconda3/envs/PythonData/lib/python3.6/site-packages (from pytrends) (1.0.5)\n",
      "Requirement already satisfied: lxml in /home/blau/anaconda3/envs/PythonData/lib/python3.6/site-packages (from pytrends) (4.5.2)\n",
      "Requirement already satisfied: requests in /home/blau/anaconda3/envs/PythonData/lib/python3.6/site-packages (from pytrends) (2.24.0)\n",
      "Requirement already satisfied: pytz>=2017.2 in /home/blau/anaconda3/envs/PythonData/lib/python3.6/site-packages (from pandas>=0.25->pytrends) (2020.1)\n",
      "Requirement already satisfied: python-dateutil>=2.6.1 in /home/blau/anaconda3/envs/PythonData/lib/python3.6/site-packages (from pandas>=0.25->pytrends) (2.8.1)\n",
      "Requirement already satisfied: numpy>=1.13.3 in /home/blau/anaconda3/envs/PythonData/lib/python3.6/site-packages (from pandas>=0.25->pytrends) (1.18.5)\n",
      "Requirement already satisfied: urllib3!=1.25.0,!=1.25.1,<1.26,>=1.21.1 in /home/blau/anaconda3/envs/PythonData/lib/python3.6/site-packages (from requests->pytrends) (1.25.9)\n",
      "Requirement already satisfied: chardet<4,>=3.0.2 in /home/blau/anaconda3/envs/PythonData/lib/python3.6/site-packages (from requests->pytrends) (3.0.4)\n",
      "Requirement already satisfied: idna<3,>=2.5 in /home/blau/anaconda3/envs/PythonData/lib/python3.6/site-packages (from requests->pytrends) (2.10)\n",
      "Requirement already satisfied: certifi>=2017.4.17 in /home/blau/anaconda3/envs/PythonData/lib/python3.6/site-packages (from requests->pytrends) (2020.6.20)\n",
      "Requirement already satisfied: six>=1.5 in /home/blau/anaconda3/envs/PythonData/lib/python3.6/site-packages (from python-dateutil>=2.6.1->pandas>=0.25->pytrends) (1.15.0)\n"
     ]
    }
   ],
   "source": [
    "!pip install pytrends\n",
    "import pandas as pd  \n",
    "from scipy.stats import normaltest\n",
    "from pytrends.request import TrendReq\n",
    "pytrend = TrendReq()\n"
   ]
  },
  {
   "cell_type": "code",
   "execution_count": 2,
   "metadata": {},
   "outputs": [],
   "source": [
    "pytrend.build_payload(kw_list = [\"food near me\",\"diet\",\"gym\",\"Health\",\"Beach\"],timeframe='2017-09-01 2021-03-17',geo='US')\n",
    "df_A = pytrend.interest_over_time()"
   ]
  },
  {
   "cell_type": "code",
   "execution_count": 3,
   "metadata": {},
   "outputs": [],
   "source": [
    "pytrend.build_payload(kw_list = [\"diet pills\",\"antidepressant\"],timeframe='2017-09-01 2021-03-17',geo='US')\n",
    "df_B = pytrend.interest_over_time()"
   ]
  },
  {
   "cell_type": "code",
   "execution_count": 4,
   "metadata": {},
   "outputs": [],
   "source": [
    "df_C = pytrend.get_historical_interest([\"food near me\",\"Health\",\"Beach\"],year_start=2020, month_start=12, day_start=20, hour_start=0, year_end=2020, month_end=12, day_end=31, hour_end=0, cat=0, geo='US', sleep=240)"
   ]
  },
  {
   "cell_type": "code",
   "execution_count": 5,
   "metadata": {},
   "outputs": [],
   "source": [
    "pytrend.build_payload(kw_list = [\"christmas\",\"diet\"],timeframe='2015-09-01 2021-03-17',geo='US')\n",
    "christmas_v_diet_df = pytrend.interest_over_time()"
   ]
  },
  {
   "cell_type": "code",
   "execution_count": 6,
   "metadata": {},
   "outputs": [],
   "source": [
    "pytrend.build_payload(kw_list = [\"restaurants open on christmas\",\"restaurants open on thanksgiving\",\"restaurants open on easter\"],timeframe='2017-09-01 2021-03-17',geo='US')\n",
    "holidays_restaurants_df = pytrend.interest_over_time()"
   ]
  },
  {
   "cell_type": "code",
   "execution_count": 7,
   "metadata": {},
   "outputs": [],
   "source": [
    "pytrend.build_payload(kw_list = [\"gym\",\"diet\"],timeframe='2015-09-01 2021-03-17',geo='US')\n",
    "gym_v_diet_df = pytrend.interest_over_time()"
   ]
  },
  {
   "cell_type": "code",
   "execution_count": 8,
   "metadata": {},
   "outputs": [],
   "source": [
    "pytrend.build_payload(kw_list = [\"food near me\",\"restauant near me\"],timeframe='2017-09-01 2021-03-17',geo='US')\n",
    "food_v_restauant_df = pytrend.interest_over_time()"
   ]
  },
  {
   "cell_type": "code",
   "execution_count": 9,
   "metadata": {},
   "outputs": [],
   "source": [
    "pytrend.build_payload(kw_list = [\"pizza\",\"food near me\"],timeframe='2015-09-01 2021-03-17',geo='US')\n",
    "pizza_v_food_df = pytrend.interest_over_time()"
   ]
  },
  {
   "cell_type": "code",
   "execution_count": 10,
   "metadata": {},
   "outputs": [],
   "source": [
    "pytrend.build_payload(kw_list = [\"diet pills\",\"diet\"],timeframe='2015-09-01 2021-03-17',geo='US')\n",
    "diet_pills_v_diet_df = pytrend.interest_over_time()"
   ]
  },
  {
   "cell_type": "code",
   "execution_count": 11,
   "metadata": {},
   "outputs": [],
   "source": [
    "pytrend.build_payload(kw_list = [\"diet pills\",\"gym\"],timeframe='2015-09-01 2021-03-17',geo='US')\n",
    "diet_pills_v_gym_df = pytrend.interest_over_time()"
   ]
  },
  {
   "cell_type": "code",
   "execution_count": 12,
   "metadata": {},
   "outputs": [],
   "source": [
    "pytrend.build_payload(kw_list = [\"Thanksgiving\",\"diet\"],timeframe='2015-09-01 2021-03-17',geo='US')\n",
    "thanksgiving_v_diet_df = pytrend.interest_over_time()"
   ]
  },
  {
   "cell_type": "code",
   "execution_count": 13,
   "metadata": {},
   "outputs": [],
   "source": [
    "pytrend.build_payload(kw_list = [\"New Year\",\"diet\"],timeframe='2015-09-01 2021-03-17',geo='US')\n",
    "new_year_v_diet_df = pytrend.interest_over_time()"
   ]
  },
  {
   "cell_type": "code",
   "execution_count": 14,
   "metadata": {},
   "outputs": [],
   "source": [
    "pytrend.build_payload(kw_list = [\"Independence Day\",\"diet\"],timeframe='2015-09-01 2021-03-17',geo='US')\n",
    "Independence_Day_v_diet_df = pytrend.interest_over_time()"
   ]
  },
  {
   "cell_type": "code",
   "execution_count": 15,
   "metadata": {},
   "outputs": [],
   "source": [
    "pytrend.build_payload(kw_list = [\"holiday\",\"diet\"],timeframe='2015-09-01 2021-03-17',geo='US')\n",
    "holiday_v_diet_df = pytrend.interest_over_time()"
   ]
  },
  {
   "cell_type": "code",
   "execution_count": 16,
   "metadata": {},
   "outputs": [],
   "source": [
    "pytrend.build_payload(kw_list = [\"food near me\",\"diet\"],timeframe='2015-09-01 2021-03-17',geo='US')\n",
    "food_near_v_diet_df = pytrend.interest_over_time()"
   ]
  },
  {
   "cell_type": "code",
   "execution_count": 17,
   "metadata": {},
   "outputs": [],
   "source": [
    "pytrend.build_payload(kw_list = [\"suicide\",\"guns\",\"diet\",\"antidepressant\"],timeframe='2015-09-01 2021-03-17',geo='US')\n",
    "suicide_v_guns_df = pytrend.interest_over_time()"
   ]
  },
  {
   "cell_type": "code",
   "execution_count": 18,
   "metadata": {},
   "outputs": [],
   "source": [
    "pytrend.build_payload(kw_list = [\"Hydroxycut\",\"Garcinia Cambogia Extract\",\"Raspberry Ketones\",\"Orlistat\"],timeframe='2015-09-01 2021-03-17',geo='US')\n",
    "diet_method_df = pytrend.interest_over_time()"
   ]
  },
  {
   "cell_type": "code",
   "execution_count": 19,
   "metadata": {},
   "outputs": [],
   "source": [
    "pytrend.build_payload(kw_list = [\"Bumble\",\"tinder\",\"OkCupid\",\"hinge\",\"coffee meets bagel\"],timeframe='2015-09-01 2021-03-17',geo='US')\n",
    "dating_method_df = pytrend.interest_over_time()"
   ]
  },
  {
   "cell_type": "code",
   "execution_count": 20,
   "metadata": {},
   "outputs": [],
   "source": [
    "pytrend.build_payload(kw_list = [\"food near me\",\"diet\",\"gym\",\"Health\",\"christmas\"],timeframe='2015-09-01 2021-03-17',geo='US')\n",
    "df_A_christmas = pytrend.interest_over_time()"
   ]
  },
  {
   "cell_type": "code",
   "execution_count": 21,
   "metadata": {},
   "outputs": [],
   "source": [
    "#here\n",
    "pytrend.build_payload(kw_list = [\"gym\",\"workout plan\",\"running\"],timeframe='2015-09-01 2021-03-17',geo='US')\n",
    "gym_N_running_df = pytrend.interest_over_time()"
   ]
  },
  {
   "cell_type": "code",
   "execution_count": 22,
   "metadata": {},
   "outputs": [],
   "source": [
    "\n",
    "pytrend.build_payload(kw_list = [\"tanning bed\",\"bikini waxing\"],timeframe='2015-09-01 2021-03-17',geo='US')\n",
    "tanning_N_bikini_df = pytrend.interest_over_time()"
   ]
  },
  {
   "cell_type": "code",
   "execution_count": 23,
   "metadata": {},
   "outputs": [],
   "source": [
    "\n",
    "pytrend.build_payload(kw_list = [\"liposuction\",\"gastric sleeve\", \"Bariatric\",\"personal loan\"],timeframe='2015-09-01 2021-03-17',geo='US')\n",
    "payday_load_N_liposuction_df = pytrend.interest_over_time()"
   ]
  },
  {
   "cell_type": "code",
   "execution_count": 24,
   "metadata": {},
   "outputs": [],
   "source": [
    "\n",
    "pytrend.build_payload(kw_list = [\"avant\",\"lending club\", \"OneMain Financial\",\"credit card loan\",\"lending tree\"],timeframe='2015-09-01 2021-03-17',geo='US')\n",
    "personal_loan_method_df = pytrend.interest_over_time()"
   ]
  },
  {
   "cell_type": "code",
   "execution_count": 25,
   "metadata": {},
   "outputs": [],
   "source": [
    "df_C_christmas_2020_df = pytrend.get_historical_interest([\"food near me\",\"christmas\",\"diet\",\"gym\",\"health\"],year_start=2020, month_start=12, day_start=20, hour_start=0, year_end=2020, month_end=12, day_end=31, hour_end=0, cat=0, geo='US', sleep=240)"
   ]
  },
  {
   "cell_type": "code",
   "execution_count": 26,
   "metadata": {},
   "outputs": [],
   "source": [
    "df_C_christmas_2019_df = pytrend.get_historical_interest([\"food near me\",\"christmas\",\"diet\",\"gym\",\"health\"],year_start=2019, month_start=12, day_start=20, hour_start=0, year_end=2019, month_end=12, day_end=31, hour_end=0, cat=0, geo='US', sleep=240)"
   ]
  },
  {
   "cell_type": "code",
   "execution_count": 27,
   "metadata": {},
   "outputs": [],
   "source": [
    "df_C_christmas_2018_df = pytrend.get_historical_interest([\"food near me\",\"christmas\",\"diet\",\"gym\",\"health\"],year_start=2018, month_start=12, day_start=20, hour_start=0, year_end=2018, month_end=12, day_end=31, hour_end=0, cat=0, geo='US', sleep=240)"
   ]
  },
  {
   "cell_type": "code",
   "execution_count": 28,
   "metadata": {},
   "outputs": [],
   "source": [
    "df_C_christmas_2017_df = pytrend.get_historical_interest([\"food near me\",\"christmas\",\"diet\",\"gym\",\"health\"],year_start=2017, month_start=12, day_start=20, hour_start=0, year_end=2017, month_end=12, day_end=31, hour_end=0, cat=0, geo='US', sleep=240)"
   ]
  },
  {
   "cell_type": "code",
   "execution_count": 29,
   "metadata": {},
   "outputs": [],
   "source": [
    "df_C_christmas_2016_df = pytrend.get_historical_interest([\"food near me\",\"christmas\",\"diet\",\"gym\",\"health\"],year_start=2016, month_start=12, day_start=20, hour_start=0, year_end=2016, month_end=12, day_end=31, hour_end=0, cat=0, geo='US', sleep=240)"
   ]
  },
  {
   "cell_type": "code",
   "execution_count": 30,
   "metadata": {},
   "outputs": [],
   "source": [
    "df_C_thanksgiving_2020_df = pytrend.get_historical_interest([\"food near me\",\"thanksgiving\",\"diet\",\"gym\",\"health\"],year_start=2020, month_start=11, day_start=20, hour_start=0, year_end=2020, month_end=11, day_end=29, hour_end=0, cat=0, geo='US', sleep=240)"
   ]
  },
  {
   "cell_type": "code",
   "execution_count": 31,
   "metadata": {},
   "outputs": [],
   "source": [
    "df_C_thanksgiving_2019_df = pytrend.get_historical_interest([\"food near me\",\"thanksgiving\",\"diet\",\"gym\",\"health\"],year_start=2019, month_start=11, day_start=20, hour_start=0, year_end=2019, month_end=11, day_end=29, hour_end=0, cat=0, geo='US', sleep=240)"
   ]
  },
  {
   "cell_type": "code",
   "execution_count": null,
   "metadata": {},
   "outputs": [],
   "source": [
    "df_C_thanksgiving_2018_df = pytrend.get_historical_interest([\"food near me\",\"thanksgiving\",\"diet\",\"gym\",\"health\"],year_start=2018, month_start=11, day_start=20, hour_start=0, year_end=2018, month_end=11, day_end=29, hour_end=0, cat=0, geo='US', sleep=240)"
   ]
  },
  {
   "cell_type": "code",
   "execution_count": null,
   "metadata": {},
   "outputs": [],
   "source": [
    "df_C_thanksgiving_2017_df = pytrend.get_historical_interest([\"food near me\",\"thanksgiving\",\"diet\",\"gym\",\"health\"],year_start=2017, month_start=11, day_start=20, hour_start=0, year_end=2017, month_end=11, day_end=29, hour_end=0, cat=0, geo='US', sleep=240)"
   ]
  },
  {
   "cell_type": "code",
   "execution_count": null,
   "metadata": {},
   "outputs": [],
   "source": [
    "df_C_thanksgiving_2016_df = pytrend.get_historical_interest([\"food near me\",\"thanksgiving\",\"diet\",\"gym\",\"health\"],year_start=2016, month_start=11, day_start=20, hour_start=0, year_end=2016, month_end=11, day_end=29, hour_end=0, cat=0, geo='US', sleep=240)"
   ]
  },
  {
   "cell_type": "code",
   "execution_count": null,
   "metadata": {},
   "outputs": [],
   "source": [
    "df_A.reset_index().plot(kind='line',x='date',title= 'Search Trends', style='-o', cmap='Dark2',figsize=(20,6), rot=30)"
   ]
  },
  {
   "cell_type": "code",
   "execution_count": null,
   "metadata": {},
   "outputs": [],
   "source": [
    "df_B.reset_index().plot(kind='line',x='date',title= 'Search Trends', style='-o', cmap='Dark2',figsize=(20,6), rot=30)"
   ]
  },
  {
   "cell_type": "code",
   "execution_count": null,
   "metadata": {},
   "outputs": [],
   "source": [
    "df_C.reset_index().plot(kind='line',x='date',title= 'Search Trends', style='-o', cmap='Dark2',figsize=(20,6), rot=30)"
   ]
  },
  {
   "cell_type": "code",
   "execution_count": null,
   "metadata": {},
   "outputs": [],
   "source": [
    "df_A.corr(method='spearman').drop('isPartial', axis=1).drop(['isPartial'])"
   ]
  },
  {
   "cell_type": "code",
   "execution_count": null,
   "metadata": {},
   "outputs": [],
   "source": [
    "df_B.corr(method='spearman').drop('isPartial', axis=1).drop(['isPartial'])"
   ]
  },
  {
   "cell_type": "code",
   "execution_count": null,
   "metadata": {},
   "outputs": [],
   "source": [
    "df_C.corr(method='spearman').drop('isPartial', axis=1).drop(['isPartial'])"
   ]
  },
  {
   "cell_type": "code",
   "execution_count": null,
   "metadata": {},
   "outputs": [],
   "source": [
    "christmas_v_diet_df.corr(method='spearman')"
   ]
  },
  {
   "cell_type": "code",
   "execution_count": null,
   "metadata": {},
   "outputs": [],
   "source": [
    "thanksgiving_v_diet_df.corr(method='spearman')"
   ]
  },
  {
   "cell_type": "code",
   "execution_count": null,
   "metadata": {},
   "outputs": [],
   "source": [
    "Independence_Day_v_diet_df.corr(method='spearman')"
   ]
  },
  {
   "cell_type": "code",
   "execution_count": null,
   "metadata": {},
   "outputs": [],
   "source": [
    "holiday_v_diet_df.corr(method='spearman')"
   ]
  },
  {
   "cell_type": "code",
   "execution_count": null,
   "metadata": {},
   "outputs": [],
   "source": [
    "food_near_v_diet_df.corr(method='spearman')"
   ]
  },
  {
   "cell_type": "code",
   "execution_count": null,
   "metadata": {},
   "outputs": [],
   "source": [
    "gym_v_diet_df.corr(method='spearman')"
   ]
  },
  {
   "cell_type": "code",
   "execution_count": null,
   "metadata": {},
   "outputs": [],
   "source": [
    "diet_pills_v_diet_df.corr(method='spearman')"
   ]
  },
  {
   "cell_type": "code",
   "execution_count": null,
   "metadata": {},
   "outputs": [],
   "source": [
    "diet_pills_v_gym_df.corr(method='spearman')"
   ]
  },
  {
   "cell_type": "code",
   "execution_count": null,
   "metadata": {},
   "outputs": [],
   "source": [
    "new_year_v_diet_df.corr(method='spearman')"
   ]
  },
  {
   "cell_type": "code",
   "execution_count": null,
   "metadata": {},
   "outputs": [],
   "source": [
    "df_A.corrwith(df_B['diet pills'], method='spearman').drop(['isPartial'])"
   ]
  },
  {
   "cell_type": "code",
   "execution_count": null,
   "metadata": {},
   "outputs": [],
   "source": [
    "df_A.corrwith(df_B['antidepressant'], method='spearman').drop(['isPartial'])"
   ]
  },
  {
   "cell_type": "code",
   "execution_count": null,
   "metadata": {},
   "outputs": [],
   "source": [
    "df_A.corrwith(suicide_v_guns_df['guns'], method='spearman').drop(['isPartial'])"
   ]
  },
  {
   "cell_type": "code",
   "execution_count": null,
   "metadata": {},
   "outputs": [],
   "source": [
    "diet_method_df.corrwith(df_B['diet pills'], method='spearman')"
   ]
  },
  {
   "cell_type": "code",
   "execution_count": null,
   "metadata": {},
   "outputs": [],
   "source": [
    "dating_method_df.corrwith(diet_method_df['Hydroxycut'], method=\"spearman\")"
   ]
  },
  {
   "cell_type": "code",
   "execution_count": null,
   "metadata": {},
   "outputs": [],
   "source": [
    "dating_method_df.corrwith(df_A['food near me'], method=\"spearman\")"
   ]
  },
  {
   "cell_type": "code",
   "execution_count": null,
   "metadata": {},
   "outputs": [],
   "source": [
    "df_A.corrwith(dating_method_df['hinge'], method=\"spearman\")"
   ]
  },
  {
   "cell_type": "code",
   "execution_count": null,
   "metadata": {},
   "outputs": [],
   "source": [
    "christmas_v_diet_df.corrwith(pizza_v_food_df['pizza'], method=\"spearman\" )"
   ]
  },
  {
   "cell_type": "code",
   "execution_count": null,
   "metadata": {},
   "outputs": [],
   "source": [
    "df_A_christmas.corr(method=\"spearman\")"
   ]
  },
  {
   "cell_type": "code",
   "execution_count": null,
   "metadata": {},
   "outputs": [],
   "source": [
    "df_C_christmas_total_df = pd.concat([df_C_christmas_2020_df,df_C_christmas_2019_df,df_C_christmas_2018_df,df_C_christmas_2017_df,df_C_christmas_2016_df])"
   ]
  },
  {
   "cell_type": "code",
   "execution_count": null,
   "metadata": {},
   "outputs": [],
   "source": [
    "df_C_thanksgiving_total_df = pd.concat([df_C_thanksgiving_2020_df,df_C_thanksgiving_2019_df,df_C_thanksgiving_2018_df,df_C_thanksgiving_2017_df,df_C_thanksgiving_2016_df])"
   ]
  },
  {
   "cell_type": "code",
   "execution_count": null,
   "metadata": {},
   "outputs": [],
   "source": [
    "df_A.corrwith(df_C_christmas_total_df['christmas'], method=\"spearman\").drop(['isPartial'])"
   ]
  },
  {
   "cell_type": "code",
   "execution_count": null,
   "metadata": {},
   "outputs": [],
   "source": [
    "df_C_christmas_total_df.corr(method=\"spearman\")"
   ]
  },
  {
   "cell_type": "code",
   "execution_count": null,
   "metadata": {},
   "outputs": [],
   "source": [
    "df_A_christmas.corr(method=\"spearman\")"
   ]
  },
  {
   "cell_type": "code",
   "execution_count": null,
   "metadata": {},
   "outputs": [],
   "source": [
    "df_C_holidays_total_df = pd.concat([df_C_christmas_total_df,df_C_thanksgiving_total_df])"
   ]
  },
  {
   "cell_type": "code",
   "execution_count": null,
   "metadata": {},
   "outputs": [],
   "source": [
    "df_A.corrwith(df_C_holidays_total_df['christmas'], method=\"spearman\").drop(['isPartial'])"
   ]
  },
  {
   "cell_type": "code",
   "execution_count": null,
   "metadata": {},
   "outputs": [],
   "source": [
    "df_A.corrwith(df_C_holidays_total_df['thanksgiving'], method=\"spearman\").drop(['isPartial'])"
   ]
  },
  {
   "cell_type": "code",
   "execution_count": null,
   "metadata": {},
   "outputs": [],
   "source": [
    "df_A.corrwith(df_A_christmas['christmas'], method=\"spearman\").drop(['isPartial'])\n"
   ]
  },
  {
   "cell_type": "code",
   "execution_count": null,
   "metadata": {},
   "outputs": [],
   "source": [
    "df_C_holidays_total_df.corr(method=\"spearman\").drop(['isPartial'], axis=1).drop(['isPartial'])"
   ]
  },
  {
   "cell_type": "code",
   "execution_count": null,
   "metadata": {},
   "outputs": [],
   "source": [
    "gym_N_running_df.corr(method=\"spearman\")"
   ]
  },
  {
   "cell_type": "code",
   "execution_count": null,
   "metadata": {},
   "outputs": [],
   "source": [
    "df_A.corrwith(gym_N_running_df['workout plan'],method=\"spearman\").drop(['isPartial'])"
   ]
  },
  {
   "cell_type": "code",
   "execution_count": null,
   "metadata": {},
   "outputs": [],
   "source": [
    "df_A.corrwith(tanning_N_bikini_df['bikini waxing'],method=\"spearman\").drop(['isPartial'])"
   ]
  },
  {
   "cell_type": "code",
   "execution_count": null,
   "metadata": {},
   "outputs": [],
   "source": [
    "df_A.corrwith(tanning_N_bikini_df['tanning bed'],method=\"spearman\").drop(['isPartial'])"
   ]
  },
  {
   "cell_type": "code",
   "execution_count": null,
   "metadata": {},
   "outputs": [],
   "source": [
    "df_A.corrwith(payday_load_N_liposuction_df['liposuction'],method=\"spearman\").drop(['isPartial'])"
   ]
  },
  {
   "cell_type": "code",
   "execution_count": null,
   "metadata": {},
   "outputs": [],
   "source": [
    "df_A.corrwith(payday_load_N_liposuction_df['gastric sleeve'],method=\"spearman\").drop(['isPartial'])"
   ]
  },
  {
   "cell_type": "code",
   "execution_count": null,
   "metadata": {},
   "outputs": [],
   "source": [
    "df_A.corrwith(payday_load_N_liposuction_df['Bariatric'],method=\"spearman\").drop(['isPartial'])"
   ]
  },
  {
   "cell_type": "code",
   "execution_count": null,
   "metadata": {},
   "outputs": [],
   "source": [
    "df_A.corrwith(payday_load_N_liposuction_df['payday loan'],method=\"spearman\").drop(['isPartial'])"
   ]
  },
  {
   "cell_type": "code",
   "execution_count": null,
   "metadata": {},
   "outputs": [],
   "source": [
    "df_A.corrwith(payday_load_N_liposuction_df['personal loan'],method=\"spearman\").drop(['isPartial'])"
   ]
  },
  {
   "cell_type": "code",
   "execution_count": null,
   "metadata": {},
   "outputs": [],
   "source": [
    "personal_loan_method_df.corrwith(df_A['Beach'],method=\"spearman\")"
   ]
  },
  {
   "cell_type": "code",
   "execution_count": null,
   "metadata": {},
   "outputs": [],
   "source": [
    "personal_loan_method_df.corrwith(df_A['diet'],method=\"spearman\")"
   ]
  },
  {
   "cell_type": "code",
   "execution_count": null,
   "metadata": {},
   "outputs": [],
   "source": [
    "personal_loan_method_df.corrwith(df_A['Health'],method=\"spearman\")"
   ]
  },
  {
   "cell_type": "code",
   "execution_count": null,
   "metadata": {},
   "outputs": [],
   "source": [
    "personal_loan_method_df.corrwith(df_A['gym'],method=\"spearman\")"
   ]
  },
  {
   "cell_type": "code",
   "execution_count": null,
   "metadata": {},
   "outputs": [],
   "source": []
  }
 ],
 "metadata": {
  "kernelspec": {
   "display_name": "Python 3",
   "language": "python",
   "name": "python3"
  },
  "language_info": {
   "codemirror_mode": {
    "name": "ipython",
    "version": 3
   },
   "file_extension": ".py",
   "mimetype": "text/x-python",
   "name": "python",
   "nbconvert_exporter": "python",
   "pygments_lexer": "ipython3",
   "version": "3.6.10"
  }
 },
 "nbformat": 4,
 "nbformat_minor": 2
}
