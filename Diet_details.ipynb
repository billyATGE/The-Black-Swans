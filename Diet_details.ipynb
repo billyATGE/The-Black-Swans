{
 "cells": [
  {
   "cell_type": "code",
   "execution_count": 1,
   "metadata": {},
   "outputs": [
    {
     "name": "stdout",
     "output_type": "stream",
     "text": [
      "Requirement already satisfied: pytrends in /home/blau/anaconda3/envs/PythonData/lib/python3.6/site-packages (4.7.3)\n",
      "Requirement already satisfied: pandas>=0.25 in /home/blau/anaconda3/envs/PythonData/lib/python3.6/site-packages (from pytrends) (1.0.5)\n",
      "Requirement already satisfied: lxml in /home/blau/anaconda3/envs/PythonData/lib/python3.6/site-packages (from pytrends) (4.5.2)\n",
      "Requirement already satisfied: requests in /home/blau/anaconda3/envs/PythonData/lib/python3.6/site-packages (from pytrends) (2.24.0)\n",
      "Requirement already satisfied: numpy>=1.13.3 in /home/blau/anaconda3/envs/PythonData/lib/python3.6/site-packages (from pandas>=0.25->pytrends) (1.18.5)\n",
      "Requirement already satisfied: pytz>=2017.2 in /home/blau/anaconda3/envs/PythonData/lib/python3.6/site-packages (from pandas>=0.25->pytrends) (2020.1)\n",
      "Requirement already satisfied: python-dateutil>=2.6.1 in /home/blau/anaconda3/envs/PythonData/lib/python3.6/site-packages (from pandas>=0.25->pytrends) (2.8.1)\n",
      "Requirement already satisfied: certifi>=2017.4.17 in /home/blau/anaconda3/envs/PythonData/lib/python3.6/site-packages (from requests->pytrends) (2020.6.20)\n",
      "Requirement already satisfied: urllib3!=1.25.0,!=1.25.1,<1.26,>=1.21.1 in /home/blau/anaconda3/envs/PythonData/lib/python3.6/site-packages (from requests->pytrends) (1.25.9)\n",
      "Requirement already satisfied: chardet<4,>=3.0.2 in /home/blau/anaconda3/envs/PythonData/lib/python3.6/site-packages (from requests->pytrends) (3.0.4)\n",
      "Requirement already satisfied: idna<3,>=2.5 in /home/blau/anaconda3/envs/PythonData/lib/python3.6/site-packages (from requests->pytrends) (2.10)\n",
      "Requirement already satisfied: six>=1.5 in /home/blau/anaconda3/envs/PythonData/lib/python3.6/site-packages (from python-dateutil>=2.6.1->pandas>=0.25->pytrends) (1.15.0)\n"
     ]
    }
   ],
   "source": [
    "!pip install pytrends\n",
    "import pandas as pd  \n",
    "from scipy.stats import normaltest\n",
    "from pytrends.request import TrendReq\n",
    "pytrend = TrendReq()\n"
   ]
  },
  {
   "cell_type": "code",
   "execution_count": 2,
   "metadata": {},
   "outputs": [],
   "source": [
    "pytrend.build_payload(kw_list = [\"food near me\",\"diet\",\"gym\",\"Health\",\"Beach\"],timeframe='2017-09-01 2021-03-17',geo='US')\n",
    "df_A = pytrend.interest_over_time()"
   ]
  },
  {
   "cell_type": "code",
   "execution_count": 3,
   "metadata": {},
   "outputs": [],
   "source": [
    "pytrend.build_payload(kw_list = [\"diet pills\",\"antidepressant\"],timeframe='2017-09-01 2021-03-17',geo='US')\n",
    "df_B = pytrend.interest_over_time()"
   ]
  },
  {
   "cell_type": "code",
   "execution_count": 4,
   "metadata": {},
   "outputs": [],
   "source": [
    "df_C = pytrend.get_historical_interest([\"food near me\",\"Health\",\"Beach\"],year_start=2020, month_start=12, day_start=20, hour_start=0, year_end=2020, month_end=12, day_end=31, hour_end=0, cat=0, geo='US', sleep=240)"
   ]
  },
  {
   "cell_type": "code",
   "execution_count": 5,
   "metadata": {},
   "outputs": [],
   "source": [
    "pytrend.build_payload(kw_list = [\"christmas\",\"diet\"],timeframe='2015-09-01 2021-03-17',geo='US')\n",
    "christmas_v_diet_df = pytrend.interest_over_time()"
   ]
  },
  {
   "cell_type": "code",
   "execution_count": 6,
   "metadata": {},
   "outputs": [],
   "source": [
    "pytrend.build_payload(kw_list = [\"restaurants open on christmas\",\"restaurants open on thanksgiving\",\"restaurants open on easter\"],timeframe='2017-09-01 2021-03-17',geo='US')\n",
    "holidays_restaurants_df = pytrend.interest_over_time()"
   ]
  },
  {
   "cell_type": "code",
   "execution_count": 7,
   "metadata": {},
   "outputs": [],
   "source": [
    "pytrend.build_payload(kw_list = [\"gym\",\"diet\"],timeframe='2015-09-01 2021-03-17',geo='US')\n",
    "gym_v_diet_df = pytrend.interest_over_time()"
   ]
  },
  {
   "cell_type": "code",
   "execution_count": 8,
   "metadata": {},
   "outputs": [],
   "source": [
    "pytrend.build_payload(kw_list = [\"food near me\",\"restauant near me\"],timeframe='2017-09-01 2021-03-17',geo='US')\n",
    "food_v_restauant_df = pytrend.interest_over_time()"
   ]
  },
  {
   "cell_type": "code",
   "execution_count": 9,
   "metadata": {},
   "outputs": [],
   "source": [
    "pytrend.build_payload(kw_list = [\"pizza\",\"food near me\"],timeframe='2015-09-01 2021-03-17',geo='US')\n",
    "pizza_v_food_df = pytrend.interest_over_time()"
   ]
  },
  {
   "cell_type": "code",
   "execution_count": 10,
   "metadata": {},
   "outputs": [],
   "source": [
    "pytrend.build_payload(kw_list = [\"diet pills\",\"diet\"],timeframe='2015-09-01 2021-03-17',geo='US')\n",
    "diet_pills_v_diet_df = pytrend.interest_over_time()"
   ]
  },
  {
   "cell_type": "code",
   "execution_count": 11,
   "metadata": {},
   "outputs": [],
   "source": [
    "pytrend.build_payload(kw_list = [\"diet pills\",\"gym\"],timeframe='2015-09-01 2021-03-17',geo='US')\n",
    "diet_pills_v_gym_df = pytrend.interest_over_time()"
   ]
  },
  {
   "cell_type": "code",
   "execution_count": 12,
   "metadata": {},
   "outputs": [],
   "source": [
    "pytrend.build_payload(kw_list = [\"Thanksgiving\",\"diet\"],timeframe='2015-09-01 2021-03-17',geo='US')\n",
    "thanksgiving_v_diet_df = pytrend.interest_over_time()"
   ]
  },
  {
   "cell_type": "code",
   "execution_count": 13,
   "metadata": {},
   "outputs": [],
   "source": [
    "pytrend.build_payload(kw_list = [\"New Year\",\"diet\"],timeframe='2015-09-01 2021-03-17',geo='US')\n",
    "new_year_v_diet_df = pytrend.interest_over_time()"
   ]
  },
  {
   "cell_type": "code",
   "execution_count": 14,
   "metadata": {},
   "outputs": [],
   "source": [
    "pytrend.build_payload(kw_list = [\"Independence Day\",\"diet\"],timeframe='2015-09-01 2021-03-17',geo='US')\n",
    "Independence_Day_v_diet_df = pytrend.interest_over_time()"
   ]
  },
  {
   "cell_type": "code",
   "execution_count": 15,
   "metadata": {},
   "outputs": [],
   "source": [
    "pytrend.build_payload(kw_list = [\"holiday\",\"diet\"],timeframe='2015-09-01 2021-03-17',geo='US')\n",
    "holiday_v_diet_df = pytrend.interest_over_time()"
   ]
  },
  {
   "cell_type": "code",
   "execution_count": 16,
   "metadata": {},
   "outputs": [],
   "source": [
    "pytrend.build_payload(kw_list = [\"food near me\",\"diet\"],timeframe='2015-09-01 2021-03-17',geo='US')\n",
    "food_near_v_diet_df = pytrend.interest_over_time()"
   ]
  },
  {
   "cell_type": "code",
   "execution_count": 17,
   "metadata": {},
   "outputs": [],
   "source": [
    "pytrend.build_payload(kw_list = [\"suicide\",\"guns\",\"diet\",\"antidepressant\"],timeframe='2015-09-01 2021-03-17',geo='US')\n",
    "suicide_v_guns_df = pytrend.interest_over_time()"
   ]
  },
  {
   "cell_type": "code",
   "execution_count": 18,
   "metadata": {},
   "outputs": [],
   "source": [
    "pytrend.build_payload(kw_list = [\"Hydroxycut\",\"Garcinia Cambogia Extract\",\"Raspberry Ketones\",\"Orlistat\"],timeframe='2015-09-01 2021-03-17',geo='US')\n",
    "diet_method_df = pytrend.interest_over_time()"
   ]
  },
  {
   "cell_type": "code",
   "execution_count": 19,
   "metadata": {},
   "outputs": [],
   "source": [
    "pytrend.build_payload(kw_list = [\"Bumble\",\"tinder\",\"OkCupid\",\"hinge\",\"coffee meets bagel\"],timeframe='2015-09-01 2021-03-17',geo='US')\n",
    "dating_method_df = pytrend.interest_over_time()"
   ]
  },
  {
   "cell_type": "code",
   "execution_count": 20,
   "metadata": {},
   "outputs": [],
   "source": [
    "pytrend.build_payload(kw_list = [\"food near me\",\"diet\",\"gym\",\"Health\",\"christmas\"],timeframe='2015-09-01 2021-03-17',geo='US')\n",
    "df_A_christmas = pytrend.interest_over_time()"
   ]
  },
  {
   "cell_type": "code",
   "execution_count": 21,
   "metadata": {},
   "outputs": [],
   "source": [
    "df_C_christmas_2020_df = pytrend.get_historical_interest([\"food near me\",\"christmas\",\"diet\",\"gym\",\"health\"],year_start=2020, month_start=12, day_start=20, hour_start=0, year_end=2020, month_end=12, day_end=31, hour_end=0, cat=0, geo='US', sleep=240)"
   ]
  },
  {
   "cell_type": "code",
   "execution_count": 22,
   "metadata": {},
   "outputs": [],
   "source": [
    "df_C_christmas_2019_df = pytrend.get_historical_interest([\"food near me\",\"christmas\",\"diet\",\"gym\",\"health\"],year_start=2019, month_start=12, day_start=20, hour_start=0, year_end=2019, month_end=12, day_end=31, hour_end=0, cat=0, geo='US', sleep=240)"
   ]
  },
  {
   "cell_type": "code",
   "execution_count": 23,
   "metadata": {},
   "outputs": [
    {
     "name": "stdout",
     "output_type": "stream",
     "text": [
      "HTTPSConnectionPool(host='trends.google.com', port=443): Read timed out. (read timeout=5)\n"
     ]
    }
   ],
   "source": [
    "df_C_christmas_2018_df = pytrend.get_historical_interest([\"food near me\",\"christmas\",\"diet\",\"gym\",\"health\"],year_start=2018, month_start=12, day_start=20, hour_start=0, year_end=2018, month_end=12, day_end=31, hour_end=0, cat=0, geo='US', sleep=240)"
   ]
  },
  {
   "cell_type": "code",
   "execution_count": 24,
   "metadata": {},
   "outputs": [],
   "source": [
    "df_C_christmas_2017_df = pytrend.get_historical_interest([\"food near me\",\"christmas\",\"diet\",\"gym\",\"health\"],year_start=2017, month_start=12, day_start=20, hour_start=0, year_end=2017, month_end=12, day_end=31, hour_end=0, cat=0, geo='US', sleep=240)"
   ]
  },
  {
   "cell_type": "code",
   "execution_count": 25,
   "metadata": {},
   "outputs": [],
   "source": [
    "df_C_christmas_2016_df = pytrend.get_historical_interest([\"food near me\",\"christmas\",\"diet\",\"gym\",\"health\"],year_start=2016, month_start=12, day_start=20, hour_start=0, year_end=2016, month_end=12, day_end=31, hour_end=0, cat=0, geo='US', sleep=240)"
   ]
  },
  {
   "cell_type": "code",
   "execution_count": 26,
   "metadata": {},
   "outputs": [],
   "source": [
    "df_C_thanksgiving_2020_df = pytrend.get_historical_interest([\"food near me\",\"thanksgiving\",\"diet\",\"gym\",\"health\"],year_start=2020, month_start=11, day_start=20, hour_start=0, year_end=2020, month_end=11, day_end=29, hour_end=0, cat=0, geo='US', sleep=240)"
   ]
  },
  {
   "cell_type": "code",
   "execution_count": 27,
   "metadata": {},
   "outputs": [
    {
     "name": "stdout",
     "output_type": "stream",
     "text": [
      "HTTPSConnectionPool(host='trends.google.com', port=443): Read timed out. (read timeout=5)\n",
      "HTTPSConnectionPool(host='trends.google.com', port=443): Read timed out. (read timeout=5)\n"
     ]
    }
   ],
   "source": [
    "df_C_thanksgiving_2019_df = pytrend.get_historical_interest([\"food near me\",\"thanksgiving\",\"diet\",\"gym\",\"health\"],year_start=2019, month_start=11, day_start=20, hour_start=0, year_end=2019, month_end=11, day_end=29, hour_end=0, cat=0, geo='US', sleep=240)"
   ]
  },
  {
   "cell_type": "code",
   "execution_count": 28,
   "metadata": {},
   "outputs": [
    {
     "name": "stdout",
     "output_type": "stream",
     "text": [
      "HTTPSConnectionPool(host='trends.google.com', port=443): Read timed out. (read timeout=5)\n",
      "HTTPSConnectionPool(host='trends.google.com', port=443): Read timed out. (read timeout=5)\n"
     ]
    }
   ],
   "source": [
    "df_C_thanksgiving_2018_df = pytrend.get_historical_interest([\"food near me\",\"thanksgiving\",\"diet\",\"gym\",\"health\"],year_start=2018, month_start=11, day_start=20, hour_start=0, year_end=2018, month_end=11, day_end=29, hour_end=0, cat=0, geo='US', sleep=240)"
   ]
  },
  {
   "cell_type": "code",
   "execution_count": 29,
   "metadata": {},
   "outputs": [
    {
     "name": "stdout",
     "output_type": "stream",
     "text": [
      "HTTPSConnectionPool(host='trends.google.com', port=443): Read timed out. (read timeout=5)\n"
     ]
    }
   ],
   "source": [
    "df_C_thanksgiving_2017_df = pytrend.get_historical_interest([\"food near me\",\"thanksgiving\",\"diet\",\"gym\",\"health\"],year_start=2017, month_start=11, day_start=20, hour_start=0, year_end=2017, month_end=11, day_end=29, hour_end=0, cat=0, geo='US', sleep=240)"
   ]
  },
  {
   "cell_type": "code",
   "execution_count": 30,
   "metadata": {},
   "outputs": [],
   "source": [
    "df_C_thanksgiving_2016_df = pytrend.get_historical_interest([\"food near me\",\"thanksgiving\",\"diet\",\"gym\",\"health\"],year_start=2016, month_start=11, day_start=20, hour_start=0, year_end=2016, month_end=11, day_end=29, hour_end=0, cat=0, geo='US', sleep=240)"
   ]
  },
  {
   "cell_type": "code",
   "execution_count": 31,
   "metadata": {},
   "outputs": [
    {
     "data": {
      "text/plain": [
       "<matplotlib.axes._subplots.AxesSubplot at 0x7f508e1d9a90>"
      ]
     },
     "execution_count": 31,
     "metadata": {},
     "output_type": "execute_result"
    },
    {
     "data": {
      "image/png": "[encoded data removed]",
      "text/plain": [
       "<Figure size 1440x432 with 1 Axes>"
      ]
     },
     "metadata": {
      "needs_background": "light"
     },
     "output_type": "display_data"
    }
   ],
   "source": [
    "df_A.reset_index().plot(kind='line',x='date',title= 'Search Trends', style='-o', cmap='Dark2',figsize=(20,6), rot=30)"
   ]
  },
  {
   "cell_type": "code",
   "execution_count": 32,
   "metadata": {},
   "outputs": [
    {
     "data": {
      "text/plain": [
       "<matplotlib.axes._subplots.AxesSubplot at 0x7f5089020dd8>"
      ]
     },
     "execution_count": 32,
     "metadata": {},
     "output_type": "execute_result"
    },
    {
     "data": {
      "image/png": "[encoded data removed]",
      "text/plain": [
       "<Figure size 1440x432 with 1 Axes>"
      ]
     },
     "metadata": {
      "needs_background": "light"
     },
     "output_type": "display_data"
    }
   ],
   "source": [
    "df_B.reset_index().plot(kind='line',x='date',title= 'Search Trends', style='-o', cmap='Dark2',figsize=(20,6), rot=30)"
   ]
  },
  {
   "cell_type": "code",
   "execution_count": 33,
   "metadata": {},
   "outputs": [
    {
     "data": {
      "text/plain": [
       "<matplotlib.axes._subplots.AxesSubplot at 0x7f508d3ea4a8>"
      ]
     },
     "execution_count": 33,
     "metadata": {},
     "output_type": "execute_result"
    },
    {
     "data": {
      "image/png": "[encoded data removed]",
      "text/plain": [
       "<Figure size 1440x432 with 1 Axes>"
      ]
     },
     "metadata": {
      "needs_background": "light"
     },
     "output_type": "display_data"
    }
   ],
   "source": [
    "df_C.reset_index().plot(kind='line',x='date',title= 'Search Trends', style='-o', cmap='Dark2',figsize=(20,6), rot=30)"
   ]
  },
  {
   "cell_type": "code",
   "execution_count": 34,
   "metadata": {},
   "outputs": [
    {
     "data": {
      "text/html": [
       "<div>\n",
       "<style scoped>\n",
       "    .dataframe tbody tr th:only-of-type {\n",
       "        vertical-align: middle;\n",
       "    }\n",
       "\n",
       "    .dataframe tbody tr th {\n",
       "        vertical-align: top;\n",
       "    }\n",
       "\n",
       "    .dataframe thead th {\n",
       "        text-align: right;\n",
       "    }\n",
       "</style>\n",
       "<table border=\"1\" class=\"dataframe\">\n",
       "  <thead>\n",
       "    <tr style=\"text-align: right;\">\n",
       "      <th></th>\n",
       "      <th>food near me</th>\n",
       "      <th>diet</th>\n",
       "      <th>gym</th>\n",
       "      <th>Health</th>\n",
       "      <th>Beach</th>\n",
       "    </tr>\n",
       "  </thead>\n",
       "  <tbody>\n",
       "    <tr>\n",
       "      <th>food near me</th>\n",
       "      <td>1.000000</td>\n",
       "      <td>-0.387575</td>\n",
       "      <td>-0.200314</td>\n",
       "      <td>0.349721</td>\n",
       "      <td>0.251694</td>\n",
       "    </tr>\n",
       "    <tr>\n",
       "      <th>diet</th>\n",
       "      <td>-0.387575</td>\n",
       "      <td>1.000000</td>\n",
       "      <td>0.571600</td>\n",
       "      <td>-0.381480</td>\n",
       "      <td>0.479917</td>\n",
       "    </tr>\n",
       "    <tr>\n",
       "      <th>gym</th>\n",
       "      <td>-0.200314</td>\n",
       "      <td>0.571600</td>\n",
       "      <td>1.000000</td>\n",
       "      <td>-0.314364</td>\n",
       "      <td>0.274470</td>\n",
       "    </tr>\n",
       "    <tr>\n",
       "      <th>Health</th>\n",
       "      <td>0.349721</td>\n",
       "      <td>-0.381480</td>\n",
       "      <td>-0.314364</td>\n",
       "      <td>1.000000</td>\n",
       "      <td>-0.238700</td>\n",
       "    </tr>\n",
       "    <tr>\n",
       "      <th>Beach</th>\n",
       "      <td>0.251694</td>\n",
       "      <td>0.479917</td>\n",
       "      <td>0.274470</td>\n",
       "      <td>-0.238700</td>\n",
       "      <td>1.000000</td>\n",
       "    </tr>\n",
       "  </tbody>\n",
       "</table>\n",
       "</div>"
      ],
      "text/plain": [
       "              food near me      diet       gym    Health     Beach\n",
       "food near me      1.000000 -0.387575 -0.200314  0.349721  0.251694\n",
       "diet             -0.387575  1.000000  0.571600 -0.381480  0.479917\n",
       "gym              -0.200314  0.571600  1.000000 -0.314364  0.274470\n",
       "Health            0.349721 -0.381480 -0.314364  1.000000 -0.238700\n",
       "Beach             0.251694  0.479917  0.274470 -0.238700  1.000000"
      ]
     },
     "execution_count": 34,
     "metadata": {},
     "output_type": "execute_result"
    }
   ],
   "source": [
    "df_A.corr(method='spearman')"
   ]
  },
  {
   "cell_type": "code",
   "execution_count": 35,
   "metadata": {},
   "outputs": [
    {
     "data": {
      "text/html": [
       "<div>\n",
       "<style scoped>\n",
       "    .dataframe tbody tr th:only-of-type {\n",
       "        vertical-align: middle;\n",
       "    }\n",
       "\n",
       "    .dataframe tbody tr th {\n",
       "        vertical-align: top;\n",
       "    }\n",
       "\n",
       "    .dataframe thead th {\n",
       "        text-align: right;\n",
       "    }\n",
       "</style>\n",
       "<table border=\"1\" class=\"dataframe\">\n",
       "  <thead>\n",
       "    <tr style=\"text-align: right;\">\n",
       "      <th></th>\n",
       "      <th>diet pills</th>\n",
       "      <th>antidepressant</th>\n",
       "    </tr>\n",
       "  </thead>\n",
       "  <tbody>\n",
       "    <tr>\n",
       "      <th>diet pills</th>\n",
       "      <td>1.000000</td>\n",
       "      <td>0.232037</td>\n",
       "    </tr>\n",
       "    <tr>\n",
       "      <th>antidepressant</th>\n",
       "      <td>0.232037</td>\n",
       "      <td>1.000000</td>\n",
       "    </tr>\n",
       "  </tbody>\n",
       "</table>\n",
       "</div>"
      ],
      "text/plain": [
       "                diet pills  antidepressant\n",
       "diet pills        1.000000        0.232037\n",
       "antidepressant    0.232037        1.000000"
      ]
     },
     "execution_count": 35,
     "metadata": {},
     "output_type": "execute_result"
    }
   ],
   "source": [
    "df_B.corr(method='spearman')"
   ]
  },
  {
   "cell_type": "code",
   "execution_count": 36,
   "metadata": {},
   "outputs": [
    {
     "data": {
      "text/html": [
       "<div>\n",
       "<style scoped>\n",
       "    .dataframe tbody tr th:only-of-type {\n",
       "        vertical-align: middle;\n",
       "    }\n",
       "\n",
       "    .dataframe tbody tr th {\n",
       "        vertical-align: top;\n",
       "    }\n",
       "\n",
       "    .dataframe thead th {\n",
       "        text-align: right;\n",
       "    }\n",
       "</style>\n",
       "<table border=\"1\" class=\"dataframe\">\n",
       "  <thead>\n",
       "    <tr style=\"text-align: right;\">\n",
       "      <th></th>\n",
       "      <th>food near me</th>\n",
       "      <th>Health</th>\n",
       "      <th>Beach</th>\n",
       "      <th>isPartial</th>\n",
       "    </tr>\n",
       "  </thead>\n",
       "  <tbody>\n",
       "    <tr>\n",
       "      <th>food near me</th>\n",
       "      <td>1.000000</td>\n",
       "      <td>-0.337606</td>\n",
       "      <td>-0.251749</td>\n",
       "      <td>NaN</td>\n",
       "    </tr>\n",
       "    <tr>\n",
       "      <th>Health</th>\n",
       "      <td>-0.337606</td>\n",
       "      <td>1.000000</td>\n",
       "      <td>0.625422</td>\n",
       "      <td>NaN</td>\n",
       "    </tr>\n",
       "    <tr>\n",
       "      <th>Beach</th>\n",
       "      <td>-0.251749</td>\n",
       "      <td>0.625422</td>\n",
       "      <td>1.000000</td>\n",
       "      <td>NaN</td>\n",
       "    </tr>\n",
       "    <tr>\n",
       "      <th>isPartial</th>\n",
       "      <td>NaN</td>\n",
       "      <td>NaN</td>\n",
       "      <td>NaN</td>\n",
       "      <td>NaN</td>\n",
       "    </tr>\n",
       "  </tbody>\n",
       "</table>\n",
       "</div>"
      ],
      "text/plain": [
       "              food near me    Health     Beach  isPartial\n",
       "food near me      1.000000 -0.337606 -0.251749        NaN\n",
       "Health           -0.337606  1.000000  0.625422        NaN\n",
       "Beach            -0.251749  0.625422  1.000000        NaN\n",
       "isPartial              NaN       NaN       NaN        NaN"
      ]
     },
     "execution_count": 36,
     "metadata": {},
     "output_type": "execute_result"
    }
   ],
   "source": [
    "df_C.corr(method='spearman')"
   ]
  },
  {
   "cell_type": "code",
   "execution_count": 37,
   "metadata": {},
   "outputs": [
    {
     "data": {
      "text/html": [
       "<div>\n",
       "<style scoped>\n",
       "    .dataframe tbody tr th:only-of-type {\n",
       "        vertical-align: middle;\n",
       "    }\n",
       "\n",
       "    .dataframe tbody tr th {\n",
       "        vertical-align: top;\n",
       "    }\n",
       "\n",
       "    .dataframe thead th {\n",
       "        text-align: right;\n",
       "    }\n",
       "</style>\n",
       "<table border=\"1\" class=\"dataframe\">\n",
       "  <thead>\n",
       "    <tr style=\"text-align: right;\">\n",
       "      <th></th>\n",
       "      <th>christmas</th>\n",
       "      <th>diet</th>\n",
       "    </tr>\n",
       "  </thead>\n",
       "  <tbody>\n",
       "    <tr>\n",
       "      <th>christmas</th>\n",
       "      <td>1.00000</td>\n",
       "      <td>-0.49325</td>\n",
       "    </tr>\n",
       "    <tr>\n",
       "      <th>diet</th>\n",
       "      <td>-0.49325</td>\n",
       "      <td>1.00000</td>\n",
       "    </tr>\n",
       "  </tbody>\n",
       "</table>\n",
       "</div>"
      ],
      "text/plain": [
       "           christmas     diet\n",
       "christmas    1.00000 -0.49325\n",
       "diet        -0.49325  1.00000"
      ]
     },
     "execution_count": 37,
     "metadata": {},
     "output_type": "execute_result"
    }
   ],
   "source": [
    "christmas_v_diet_df.corr(method='spearman')"
   ]
  },
  {
   "cell_type": "code",
   "execution_count": 38,
   "metadata": {},
   "outputs": [
    {
     "data": {
      "text/html": [
       "<div>\n",
       "<style scoped>\n",
       "    .dataframe tbody tr th:only-of-type {\n",
       "        vertical-align: middle;\n",
       "    }\n",
       "\n",
       "    .dataframe tbody tr th {\n",
       "        vertical-align: top;\n",
       "    }\n",
       "\n",
       "    .dataframe thead th {\n",
       "        text-align: right;\n",
       "    }\n",
       "</style>\n",
       "<table border=\"1\" class=\"dataframe\">\n",
       "  <thead>\n",
       "    <tr style=\"text-align: right;\">\n",
       "      <th></th>\n",
       "      <th>Thanksgiving</th>\n",
       "      <th>diet</th>\n",
       "    </tr>\n",
       "  </thead>\n",
       "  <tbody>\n",
       "    <tr>\n",
       "      <th>Thanksgiving</th>\n",
       "      <td>1.000000</td>\n",
       "      <td>-0.477203</td>\n",
       "    </tr>\n",
       "    <tr>\n",
       "      <th>diet</th>\n",
       "      <td>-0.477203</td>\n",
       "      <td>1.000000</td>\n",
       "    </tr>\n",
       "  </tbody>\n",
       "</table>\n",
       "</div>"
      ],
      "text/plain": [
       "              Thanksgiving      diet\n",
       "Thanksgiving      1.000000 -0.477203\n",
       "diet             -0.477203  1.000000"
      ]
     },
     "execution_count": 38,
     "metadata": {},
     "output_type": "execute_result"
    }
   ],
   "source": [
    "thanksgiving_v_diet_df.corr(method='spearman')"
   ]
  },
  {
   "cell_type": "code",
   "execution_count": 39,
   "metadata": {},
   "outputs": [
    {
     "data": {
      "text/html": [
       "<div>\n",
       "<style scoped>\n",
       "    .dataframe tbody tr th:only-of-type {\n",
       "        vertical-align: middle;\n",
       "    }\n",
       "\n",
       "    .dataframe tbody tr th {\n",
       "        vertical-align: top;\n",
       "    }\n",
       "\n",
       "    .dataframe thead th {\n",
       "        text-align: right;\n",
       "    }\n",
       "</style>\n",
       "<table border=\"1\" class=\"dataframe\">\n",
       "  <thead>\n",
       "    <tr style=\"text-align: right;\">\n",
       "      <th></th>\n",
       "      <th>Independence Day</th>\n",
       "      <th>diet</th>\n",
       "    </tr>\n",
       "  </thead>\n",
       "  <tbody>\n",
       "    <tr>\n",
       "      <th>Independence Day</th>\n",
       "      <td>1.000000</td>\n",
       "      <td>0.064447</td>\n",
       "    </tr>\n",
       "    <tr>\n",
       "      <th>diet</th>\n",
       "      <td>0.064447</td>\n",
       "      <td>1.000000</td>\n",
       "    </tr>\n",
       "  </tbody>\n",
       "</table>\n",
       "</div>"
      ],
      "text/plain": [
       "                  Independence Day      diet\n",
       "Independence Day          1.000000  0.064447\n",
       "diet                      0.064447  1.000000"
      ]
     },
     "execution_count": 39,
     "metadata": {},
     "output_type": "execute_result"
    }
   ],
   "source": [
    "Independence_Day_v_diet_df.corr(method='spearman')"
   ]
  },
  {
   "cell_type": "code",
   "execution_count": 40,
   "metadata": {},
   "outputs": [
    {
     "data": {
      "text/html": [
       "<div>\n",
       "<style scoped>\n",
       "    .dataframe tbody tr th:only-of-type {\n",
       "        vertical-align: middle;\n",
       "    }\n",
       "\n",
       "    .dataframe tbody tr th {\n",
       "        vertical-align: top;\n",
       "    }\n",
       "\n",
       "    .dataframe thead th {\n",
       "        text-align: right;\n",
       "    }\n",
       "</style>\n",
       "<table border=\"1\" class=\"dataframe\">\n",
       "  <thead>\n",
       "    <tr style=\"text-align: right;\">\n",
       "      <th></th>\n",
       "      <th>holiday</th>\n",
       "      <th>diet</th>\n",
       "    </tr>\n",
       "  </thead>\n",
       "  <tbody>\n",
       "    <tr>\n",
       "      <th>holiday</th>\n",
       "      <td>1.00000</td>\n",
       "      <td>-0.28199</td>\n",
       "    </tr>\n",
       "    <tr>\n",
       "      <th>diet</th>\n",
       "      <td>-0.28199</td>\n",
       "      <td>1.00000</td>\n",
       "    </tr>\n",
       "  </tbody>\n",
       "</table>\n",
       "</div>"
      ],
      "text/plain": [
       "         holiday     diet\n",
       "holiday  1.00000 -0.28199\n",
       "diet    -0.28199  1.00000"
      ]
     },
     "execution_count": 40,
     "metadata": {},
     "output_type": "execute_result"
    }
   ],
   "source": [
    "holiday_v_diet_df.corr(method='spearman')"
   ]
  },
  {
   "cell_type": "code",
   "execution_count": 41,
   "metadata": {},
   "outputs": [
    {
     "data": {
      "text/html": [
       "<div>\n",
       "<style scoped>\n",
       "    .dataframe tbody tr th:only-of-type {\n",
       "        vertical-align: middle;\n",
       "    }\n",
       "\n",
       "    .dataframe tbody tr th {\n",
       "        vertical-align: top;\n",
       "    }\n",
       "\n",
       "    .dataframe thead th {\n",
       "        text-align: right;\n",
       "    }\n",
       "</style>\n",
       "<table border=\"1\" class=\"dataframe\">\n",
       "  <thead>\n",
       "    <tr style=\"text-align: right;\">\n",
       "      <th></th>\n",
       "      <th>food near me</th>\n",
       "      <th>diet</th>\n",
       "    </tr>\n",
       "  </thead>\n",
       "  <tbody>\n",
       "    <tr>\n",
       "      <th>food near me</th>\n",
       "      <td>1.000000</td>\n",
       "      <td>-0.102322</td>\n",
       "    </tr>\n",
       "    <tr>\n",
       "      <th>diet</th>\n",
       "      <td>-0.102322</td>\n",
       "      <td>1.000000</td>\n",
       "    </tr>\n",
       "  </tbody>\n",
       "</table>\n",
       "</div>"
      ],
      "text/plain": [
       "              food near me      diet\n",
       "food near me      1.000000 -0.102322\n",
       "diet             -0.102322  1.000000"
      ]
     },
     "execution_count": 41,
     "metadata": {},
     "output_type": "execute_result"
    }
   ],
   "source": [
    "food_near_v_diet_df.corr(method='spearman')"
   ]
  },
  {
   "cell_type": "code",
   "execution_count": 42,
   "metadata": {},
   "outputs": [
    {
     "data": {
      "text/html": [
       "<div>\n",
       "<style scoped>\n",
       "    .dataframe tbody tr th:only-of-type {\n",
       "        vertical-align: middle;\n",
       "    }\n",
       "\n",
       "    .dataframe tbody tr th {\n",
       "        vertical-align: top;\n",
       "    }\n",
       "\n",
       "    .dataframe thead th {\n",
       "        text-align: right;\n",
       "    }\n",
       "</style>\n",
       "<table border=\"1\" class=\"dataframe\">\n",
       "  <thead>\n",
       "    <tr style=\"text-align: right;\">\n",
       "      <th></th>\n",
       "      <th>gym</th>\n",
       "      <th>diet</th>\n",
       "    </tr>\n",
       "  </thead>\n",
       "  <tbody>\n",
       "    <tr>\n",
       "      <th>gym</th>\n",
       "      <td>1.000000</td>\n",
       "      <td>0.658203</td>\n",
       "    </tr>\n",
       "    <tr>\n",
       "      <th>diet</th>\n",
       "      <td>0.658203</td>\n",
       "      <td>1.000000</td>\n",
       "    </tr>\n",
       "  </tbody>\n",
       "</table>\n",
       "</div>"
      ],
      "text/plain": [
       "           gym      diet\n",
       "gym   1.000000  0.658203\n",
       "diet  0.658203  1.000000"
      ]
     },
     "execution_count": 42,
     "metadata": {},
     "output_type": "execute_result"
    }
   ],
   "source": [
    "gym_v_diet_df.corr(method='spearman')"
   ]
  },
  {
   "cell_type": "code",
   "execution_count": 43,
   "metadata": {},
   "outputs": [
    {
     "data": {
      "text/html": [
       "<div>\n",
       "<style scoped>\n",
       "    .dataframe tbody tr th:only-of-type {\n",
       "        vertical-align: middle;\n",
       "    }\n",
       "\n",
       "    .dataframe tbody tr th {\n",
       "        vertical-align: top;\n",
       "    }\n",
       "\n",
       "    .dataframe thead th {\n",
       "        text-align: right;\n",
       "    }\n",
       "</style>\n",
       "<table border=\"1\" class=\"dataframe\">\n",
       "  <thead>\n",
       "    <tr style=\"text-align: right;\">\n",
       "      <th></th>\n",
       "      <th>diet pills</th>\n",
       "      <th>diet</th>\n",
       "    </tr>\n",
       "  </thead>\n",
       "  <tbody>\n",
       "    <tr>\n",
       "      <th>diet pills</th>\n",
       "      <td>1.000000</td>\n",
       "      <td>0.238068</td>\n",
       "    </tr>\n",
       "    <tr>\n",
       "      <th>diet</th>\n",
       "      <td>0.238068</td>\n",
       "      <td>1.000000</td>\n",
       "    </tr>\n",
       "  </tbody>\n",
       "</table>\n",
       "</div>"
      ],
      "text/plain": [
       "            diet pills      diet\n",
       "diet pills    1.000000  0.238068\n",
       "diet          0.238068  1.000000"
      ]
     },
     "execution_count": 43,
     "metadata": {},
     "output_type": "execute_result"
    }
   ],
   "source": [
    "diet_pills_v_diet_df.corr(method='spearman')"
   ]
  },
  {
   "cell_type": "code",
   "execution_count": 44,
   "metadata": {},
   "outputs": [
    {
     "data": {
      "text/html": [
       "<div>\n",
       "<style scoped>\n",
       "    .dataframe tbody tr th:only-of-type {\n",
       "        vertical-align: middle;\n",
       "    }\n",
       "\n",
       "    .dataframe tbody tr th {\n",
       "        vertical-align: top;\n",
       "    }\n",
       "\n",
       "    .dataframe thead th {\n",
       "        text-align: right;\n",
       "    }\n",
       "</style>\n",
       "<table border=\"1\" class=\"dataframe\">\n",
       "  <thead>\n",
       "    <tr style=\"text-align: right;\">\n",
       "      <th></th>\n",
       "      <th>diet pills</th>\n",
       "      <th>gym</th>\n",
       "    </tr>\n",
       "  </thead>\n",
       "  <tbody>\n",
       "    <tr>\n",
       "      <th>diet pills</th>\n",
       "      <td>1.000000</td>\n",
       "      <td>0.366607</td>\n",
       "    </tr>\n",
       "    <tr>\n",
       "      <th>gym</th>\n",
       "      <td>0.366607</td>\n",
       "      <td>1.000000</td>\n",
       "    </tr>\n",
       "  </tbody>\n",
       "</table>\n",
       "</div>"
      ],
      "text/plain": [
       "            diet pills       gym\n",
       "diet pills    1.000000  0.366607\n",
       "gym           0.366607  1.000000"
      ]
     },
     "execution_count": 44,
     "metadata": {},
     "output_type": "execute_result"
    }
   ],
   "source": [
    "diet_pills_v_gym_df.corr(method='spearman')"
   ]
  },
  {
   "cell_type": "code",
   "execution_count": 45,
   "metadata": {},
   "outputs": [
    {
     "data": {
      "text/html": [
       "<div>\n",
       "<style scoped>\n",
       "    .dataframe tbody tr th:only-of-type {\n",
       "        vertical-align: middle;\n",
       "    }\n",
       "\n",
       "    .dataframe tbody tr th {\n",
       "        vertical-align: top;\n",
       "    }\n",
       "\n",
       "    .dataframe thead th {\n",
       "        text-align: right;\n",
       "    }\n",
       "</style>\n",
       "<table border=\"1\" class=\"dataframe\">\n",
       "  <thead>\n",
       "    <tr style=\"text-align: right;\">\n",
       "      <th></th>\n",
       "      <th>New Year</th>\n",
       "      <th>diet</th>\n",
       "    </tr>\n",
       "  </thead>\n",
       "  <tbody>\n",
       "    <tr>\n",
       "      <th>New Year</th>\n",
       "      <td>1.000000</td>\n",
       "      <td>-0.135803</td>\n",
       "    </tr>\n",
       "    <tr>\n",
       "      <th>diet</th>\n",
       "      <td>-0.135803</td>\n",
       "      <td>1.000000</td>\n",
       "    </tr>\n",
       "  </tbody>\n",
       "</table>\n",
       "</div>"
      ],
      "text/plain": [
       "          New Year      diet\n",
       "New Year  1.000000 -0.135803\n",
       "diet     -0.135803  1.000000"
      ]
     },
     "execution_count": 45,
     "metadata": {},
     "output_type": "execute_result"
    }
   ],
   "source": [
    "new_year_v_diet_df.corr(method='spearman')"
   ]
  },
  {
   "cell_type": "code",
   "execution_count": 46,
   "metadata": {},
   "outputs": [
    {
     "data": {
      "text/plain": [
       "food near me   -0.199351\n",
       "diet            0.705842\n",
       "gym             0.360446\n",
       "Health         -0.263556\n",
       "Beach           0.577049\n",
       "dtype: float64"
      ]
     },
     "execution_count": 46,
     "metadata": {},
     "output_type": "execute_result"
    }
   ],
   "source": [
    "df_A.corrwith(df_B['diet pills'], method='spearman')"
   ]
  },
  {
   "cell_type": "code",
   "execution_count": 47,
   "metadata": {},
   "outputs": [
    {
     "data": {
      "text/plain": [
       "food near me   -0.003333\n",
       "diet            0.310406\n",
       "gym             0.129732\n",
       "Health          0.000981\n",
       "Beach           0.152914\n",
       "dtype: float64"
      ]
     },
     "execution_count": 47,
     "metadata": {},
     "output_type": "execute_result"
    }
   ],
   "source": [
    "df_A.corrwith(df_B['antidepressant'], method='spearman')"
   ]
  },
  {
   "cell_type": "code",
   "execution_count": 48,
   "metadata": {},
   "outputs": [
    {
     "data": {
      "text/plain": [
       "food near me   -0.211018\n",
       "diet           -0.224387\n",
       "gym            -0.449467\n",
       "Health          0.554545\n",
       "Beach          -0.468487\n",
       "dtype: float64"
      ]
     },
     "execution_count": 48,
     "metadata": {},
     "output_type": "execute_result"
    }
   ],
   "source": [
    "df_A.corrwith(suicide_v_guns_df['guns'], method='spearman')"
   ]
  },
  {
   "cell_type": "code",
   "execution_count": 49,
   "metadata": {},
   "outputs": [
    {
     "data": {
      "text/plain": [
       "Hydroxycut                   0.936975\n",
       "Garcinia Cambogia Extract    0.833476\n",
       "Raspberry Ketones            0.935819\n",
       "Orlistat                     0.058387\n",
       "dtype: float64"
      ]
     },
     "execution_count": 49,
     "metadata": {},
     "output_type": "execute_result"
    }
   ],
   "source": [
    "diet_method_df.corrwith(df_B['diet pills'], method='spearman')"
   ]
  },
  {
   "cell_type": "code",
   "execution_count": 50,
   "metadata": {},
   "outputs": [
    {
     "data": {
      "text/plain": [
       "Bumble               -0.307018\n",
       "tinder               -0.625569\n",
       "OkCupid               0.795347\n",
       "hinge                -0.730466\n",
       "coffee meets bagel    0.651808\n",
       "dtype: float64"
      ]
     },
     "execution_count": 50,
     "metadata": {},
     "output_type": "execute_result"
    }
   ],
   "source": [
    "dating_method_df.corrwith(diet_method_df['Raspberry Ketones'], method=\"spearman\")"
   ]
  },
  {
   "cell_type": "code",
   "execution_count": 51,
   "metadata": {},
   "outputs": [
    {
     "data": {
      "text/plain": [
       "Bumble               -0.302765\n",
       "tinder               -0.027524\n",
       "OkCupid              -0.818317\n",
       "hinge                 0.816548\n",
       "coffee meets bagel   -0.628539\n",
       "dtype: float64"
      ]
     },
     "execution_count": 51,
     "metadata": {},
     "output_type": "execute_result"
    }
   ],
   "source": [
    "dating_method_df.corrwith(df_A['food near me'], method=\"spearman\")"
   ]
  },
  {
   "cell_type": "code",
   "execution_count": 52,
   "metadata": {},
   "outputs": [
    {
     "data": {
      "text/plain": [
       "food near me   -0.027524\n",
       "diet            0.411377\n",
       "gym             0.764093\n",
       "Health         -0.009091\n",
       "Beach           0.558581\n",
       "dtype: float64"
      ]
     },
     "execution_count": 52,
     "metadata": {},
     "output_type": "execute_result"
    }
   ],
   "source": [
    "df_A.corrwith(dating_method_df['tinder'], method=\"spearman\")"
   ]
  },
  {
   "cell_type": "code",
   "execution_count": 53,
   "metadata": {},
   "outputs": [
    {
     "data": {
      "text/plain": [
       "christmas   -0.359733\n",
       "diet         0.286945\n",
       "dtype: float64"
      ]
     },
     "execution_count": 53,
     "metadata": {},
     "output_type": "execute_result"
    }
   ],
   "source": [
    "christmas_v_diet_df.corrwith(pizza_v_food_df['pizza'], method=\"spearman\" )"
   ]
  },
  {
   "cell_type": "code",
   "execution_count": 54,
   "metadata": {},
   "outputs": [
    {
     "data": {
      "text/html": [
       "<div>\n",
       "<style scoped>\n",
       "    .dataframe tbody tr th:only-of-type {\n",
       "        vertical-align: middle;\n",
       "    }\n",
       "\n",
       "    .dataframe tbody tr th {\n",
       "        vertical-align: top;\n",
       "    }\n",
       "\n",
       "    .dataframe thead th {\n",
       "        text-align: right;\n",
       "    }\n",
       "</style>\n",
       "<table border=\"1\" class=\"dataframe\">\n",
       "  <thead>\n",
       "    <tr style=\"text-align: right;\">\n",
       "      <th></th>\n",
       "      <th>food near me</th>\n",
       "      <th>diet</th>\n",
       "      <th>gym</th>\n",
       "      <th>Health</th>\n",
       "      <th>christmas</th>\n",
       "    </tr>\n",
       "  </thead>\n",
       "  <tbody>\n",
       "    <tr>\n",
       "      <th>food near me</th>\n",
       "      <td>1.000000</td>\n",
       "      <td>-0.140388</td>\n",
       "      <td>-0.300386</td>\n",
       "      <td>0.634641</td>\n",
       "      <td>0.051167</td>\n",
       "    </tr>\n",
       "    <tr>\n",
       "      <th>diet</th>\n",
       "      <td>-0.140388</td>\n",
       "      <td>1.000000</td>\n",
       "      <td>0.549012</td>\n",
       "      <td>-0.132273</td>\n",
       "      <td>-0.493250</td>\n",
       "    </tr>\n",
       "    <tr>\n",
       "      <th>gym</th>\n",
       "      <td>-0.300386</td>\n",
       "      <td>0.549012</td>\n",
       "      <td>1.000000</td>\n",
       "      <td>-0.325315</td>\n",
       "      <td>-0.210182</td>\n",
       "    </tr>\n",
       "    <tr>\n",
       "      <th>Health</th>\n",
       "      <td>0.634641</td>\n",
       "      <td>-0.132273</td>\n",
       "      <td>-0.325315</td>\n",
       "      <td>1.000000</td>\n",
       "      <td>-0.017642</td>\n",
       "    </tr>\n",
       "    <tr>\n",
       "      <th>christmas</th>\n",
       "      <td>0.051167</td>\n",
       "      <td>-0.493250</td>\n",
       "      <td>-0.210182</td>\n",
       "      <td>-0.017642</td>\n",
       "      <td>1.000000</td>\n",
       "    </tr>\n",
       "  </tbody>\n",
       "</table>\n",
       "</div>"
      ],
      "text/plain": [
       "              food near me      diet       gym    Health  christmas\n",
       "food near me      1.000000 -0.140388 -0.300386  0.634641   0.051167\n",
       "diet             -0.140388  1.000000  0.549012 -0.132273  -0.493250\n",
       "gym              -0.300386  0.549012  1.000000 -0.325315  -0.210182\n",
       "Health            0.634641 -0.132273 -0.325315  1.000000  -0.017642\n",
       "christmas         0.051167 -0.493250 -0.210182 -0.017642   1.000000"
      ]
     },
     "execution_count": 54,
     "metadata": {},
     "output_type": "execute_result"
    }
   ],
   "source": [
    "df_A_christmas.corr(method=\"spearman\")"
   ]
  },
  {
   "cell_type": "code",
   "execution_count": 55,
   "metadata": {},
   "outputs": [],
   "source": [
    "df_C_christmas_total_df = pd.concat([df_C_christmas_2020_df,df_C_christmas_2019_df,df_C_christmas_2018_df,df_C_christmas_2017_df,df_C_christmas_2016_df])"
   ]
  },
  {
   "cell_type": "code",
   "execution_count": 56,
   "metadata": {},
   "outputs": [],
   "source": [
    "df_C_thanksgiving_total_df = pd.concat([df_C_thanksgiving_2020_df,df_C_thanksgiving_2019_df,df_C_thanksgiving_2018_df,df_C_thanksgiving_2017_df,df_C_thanksgiving_2016_df])"
   ]
  },
  {
   "cell_type": "code",
   "execution_count": 57,
   "metadata": {},
   "outputs": [
    {
     "data": {
      "text/plain": [
       "food near me   -0.380433\n",
       "diet            0.554217\n",
       "gym             0.407532\n",
       "Health          0.253012\n",
       "Beach           0.574249\n",
       "dtype: float64"
      ]
     },
     "execution_count": 57,
     "metadata": {},
     "output_type": "execute_result"
    }
   ],
   "source": [
    "df_A.corrwith(df_C_christmas_total_df['christmas'], method=\"spearman\")"
   ]
  },
  {
   "cell_type": "code",
   "execution_count": 58,
   "metadata": {},
   "outputs": [
    {
     "data": {
      "text/html": [
       "<div>\n",
       "<style scoped>\n",
       "    .dataframe tbody tr th:only-of-type {\n",
       "        vertical-align: middle;\n",
       "    }\n",
       "\n",
       "    .dataframe tbody tr th {\n",
       "        vertical-align: top;\n",
       "    }\n",
       "\n",
       "    .dataframe thead th {\n",
       "        text-align: right;\n",
       "    }\n",
       "</style>\n",
       "<table border=\"1\" class=\"dataframe\">\n",
       "  <thead>\n",
       "    <tr style=\"text-align: right;\">\n",
       "      <th></th>\n",
       "      <th>food near me</th>\n",
       "      <th>christmas</th>\n",
       "      <th>diet</th>\n",
       "      <th>gym</th>\n",
       "      <th>health</th>\n",
       "      <th>isPartial</th>\n",
       "    </tr>\n",
       "  </thead>\n",
       "  <tbody>\n",
       "    <tr>\n",
       "      <th>food near me</th>\n",
       "      <td>1.000000</td>\n",
       "      <td>0.637606</td>\n",
       "      <td>0.722392</td>\n",
       "      <td>0.659598</td>\n",
       "      <td>0.610128</td>\n",
       "      <td>NaN</td>\n",
       "    </tr>\n",
       "    <tr>\n",
       "      <th>christmas</th>\n",
       "      <td>0.637606</td>\n",
       "      <td>1.000000</td>\n",
       "      <td>0.454123</td>\n",
       "      <td>0.453230</td>\n",
       "      <td>0.295680</td>\n",
       "      <td>NaN</td>\n",
       "    </tr>\n",
       "    <tr>\n",
       "      <th>diet</th>\n",
       "      <td>0.722392</td>\n",
       "      <td>0.454123</td>\n",
       "      <td>1.000000</td>\n",
       "      <td>0.894531</td>\n",
       "      <td>0.831303</td>\n",
       "      <td>NaN</td>\n",
       "    </tr>\n",
       "    <tr>\n",
       "      <th>gym</th>\n",
       "      <td>0.659598</td>\n",
       "      <td>0.453230</td>\n",
       "      <td>0.894531</td>\n",
       "      <td>1.000000</td>\n",
       "      <td>0.754931</td>\n",
       "      <td>NaN</td>\n",
       "    </tr>\n",
       "    <tr>\n",
       "      <th>health</th>\n",
       "      <td>0.610128</td>\n",
       "      <td>0.295680</td>\n",
       "      <td>0.831303</td>\n",
       "      <td>0.754931</td>\n",
       "      <td>1.000000</td>\n",
       "      <td>NaN</td>\n",
       "    </tr>\n",
       "    <tr>\n",
       "      <th>isPartial</th>\n",
       "      <td>NaN</td>\n",
       "      <td>NaN</td>\n",
       "      <td>NaN</td>\n",
       "      <td>NaN</td>\n",
       "      <td>NaN</td>\n",
       "      <td>NaN</td>\n",
       "    </tr>\n",
       "  </tbody>\n",
       "</table>\n",
       "</div>"
      ],
      "text/plain": [
       "              food near me  christmas      diet       gym    health  isPartial\n",
       "food near me      1.000000   0.637606  0.722392  0.659598  0.610128        NaN\n",
       "christmas         0.637606   1.000000  0.454123  0.453230  0.295680        NaN\n",
       "diet              0.722392   0.454123  1.000000  0.894531  0.831303        NaN\n",
       "gym               0.659598   0.453230  0.894531  1.000000  0.754931        NaN\n",
       "health            0.610128   0.295680  0.831303  0.754931  1.000000        NaN\n",
       "isPartial              NaN        NaN       NaN       NaN       NaN        NaN"
      ]
     },
     "execution_count": 58,
     "metadata": {},
     "output_type": "execute_result"
    }
   ],
   "source": [
    "df_C_christmas_total_df.corr(method=\"spearman\")"
   ]
  },
  {
   "cell_type": "code",
   "execution_count": 59,
   "metadata": {},
   "outputs": [
    {
     "data": {
      "text/html": [
       "<div>\n",
       "<style scoped>\n",
       "    .dataframe tbody tr th:only-of-type {\n",
       "        vertical-align: middle;\n",
       "    }\n",
       "\n",
       "    .dataframe tbody tr th {\n",
       "        vertical-align: top;\n",
       "    }\n",
       "\n",
       "    .dataframe thead th {\n",
       "        text-align: right;\n",
       "    }\n",
       "</style>\n",
       "<table border=\"1\" class=\"dataframe\">\n",
       "  <thead>\n",
       "    <tr style=\"text-align: right;\">\n",
       "      <th></th>\n",
       "      <th>food near me</th>\n",
       "      <th>diet</th>\n",
       "      <th>gym</th>\n",
       "      <th>Health</th>\n",
       "      <th>christmas</th>\n",
       "    </tr>\n",
       "  </thead>\n",
       "  <tbody>\n",
       "    <tr>\n",
       "      <th>food near me</th>\n",
       "      <td>1.000000</td>\n",
       "      <td>-0.140388</td>\n",
       "      <td>-0.300386</td>\n",
       "      <td>0.634641</td>\n",
       "      <td>0.051167</td>\n",
       "    </tr>\n",
       "    <tr>\n",
       "      <th>diet</th>\n",
       "      <td>-0.140388</td>\n",
       "      <td>1.000000</td>\n",
       "      <td>0.549012</td>\n",
       "      <td>-0.132273</td>\n",
       "      <td>-0.493250</td>\n",
       "    </tr>\n",
       "    <tr>\n",
       "      <th>gym</th>\n",
       "      <td>-0.300386</td>\n",
       "      <td>0.549012</td>\n",
       "      <td>1.000000</td>\n",
       "      <td>-0.325315</td>\n",
       "      <td>-0.210182</td>\n",
       "    </tr>\n",
       "    <tr>\n",
       "      <th>Health</th>\n",
       "      <td>0.634641</td>\n",
       "      <td>-0.132273</td>\n",
       "      <td>-0.325315</td>\n",
       "      <td>1.000000</td>\n",
       "      <td>-0.017642</td>\n",
       "    </tr>\n",
       "    <tr>\n",
       "      <th>christmas</th>\n",
       "      <td>0.051167</td>\n",
       "      <td>-0.493250</td>\n",
       "      <td>-0.210182</td>\n",
       "      <td>-0.017642</td>\n",
       "      <td>1.000000</td>\n",
       "    </tr>\n",
       "  </tbody>\n",
       "</table>\n",
       "</div>"
      ],
      "text/plain": [
       "              food near me      diet       gym    Health  christmas\n",
       "food near me      1.000000 -0.140388 -0.300386  0.634641   0.051167\n",
       "diet             -0.140388  1.000000  0.549012 -0.132273  -0.493250\n",
       "gym              -0.300386  0.549012  1.000000 -0.325315  -0.210182\n",
       "Health            0.634641 -0.132273 -0.325315  1.000000  -0.017642\n",
       "christmas         0.051167 -0.493250 -0.210182 -0.017642   1.000000"
      ]
     },
     "execution_count": 59,
     "metadata": {},
     "output_type": "execute_result"
    }
   ],
   "source": [
    "df_A_christmas.corr(method=\"spearman\")"
   ]
  },
  {
   "cell_type": "code",
   "execution_count": 60,
   "metadata": {},
   "outputs": [],
   "source": [
    "df_C_holidays_total_df = pd.concat([df_C_christmas_total_df,df_C_thanksgiving_total_df])"
   ]
  },
  {
   "cell_type": "code",
   "execution_count": 61,
   "metadata": {},
   "outputs": [
    {
     "data": {
      "text/plain": [
       "food near me   -0.380433\n",
       "diet            0.554217\n",
       "gym             0.407532\n",
       "Health          0.253012\n",
       "Beach           0.574249\n",
       "dtype: float64"
      ]
     },
     "execution_count": 61,
     "metadata": {},
     "output_type": "execute_result"
    }
   ],
   "source": [
    "df_A.corrwith(df_C_holidays_total_df['christmas'], method=\"spearman\")"
   ]
  },
  {
   "cell_type": "code",
   "execution_count": 62,
   "metadata": {},
   "outputs": [
    {
     "data": {
      "text/plain": [
       "food near me    1.0\n",
       "diet           -1.0\n",
       "gym             1.0\n",
       "Health         -1.0\n",
       "Beach           1.0\n",
       "dtype: float64"
      ]
     },
     "execution_count": 62,
     "metadata": {},
     "output_type": "execute_result"
    }
   ],
   "source": [
    "df_A.corrwith(df_C_holidays_total_df['thanksgiving'], method=\"spearman\")"
   ]
  },
  {
   "cell_type": "code",
   "execution_count": 63,
   "metadata": {},
   "outputs": [
    {
     "data": {
      "text/plain": [
       "food near me    0.009175\n",
       "diet           -0.804054\n",
       "gym            -0.494413\n",
       "Health         -0.090909\n",
       "Beach          -0.756787\n",
       "dtype: float64"
      ]
     },
     "execution_count": 63,
     "metadata": {},
     "output_type": "execute_result"
    }
   ],
   "source": [
    "df_A.corrwith(df_A_christmas['christmas'], method=\"spearman\")\n"
   ]
  },
  {
   "cell_type": "code",
   "execution_count": 65,
   "metadata": {},
   "outputs": [
    {
     "data": {
      "text/html": [
       "<div>\n",
       "<style scoped>\n",
       "    .dataframe tbody tr th:only-of-type {\n",
       "        vertical-align: middle;\n",
       "    }\n",
       "\n",
       "    .dataframe tbody tr th {\n",
       "        vertical-align: top;\n",
       "    }\n",
       "\n",
       "    .dataframe thead th {\n",
       "        text-align: right;\n",
       "    }\n",
       "</style>\n",
       "<table border=\"1\" class=\"dataframe\">\n",
       "  <thead>\n",
       "    <tr style=\"text-align: right;\">\n",
       "      <th></th>\n",
       "      <th>food near me</th>\n",
       "      <th>christmas</th>\n",
       "      <th>diet</th>\n",
       "      <th>gym</th>\n",
       "      <th>health</th>\n",
       "      <th>thanksgiving</th>\n",
       "    </tr>\n",
       "  </thead>\n",
       "  <tbody>\n",
       "    <tr>\n",
       "      <th>food near me</th>\n",
       "      <td>1.000000</td>\n",
       "      <td>0.637606</td>\n",
       "      <td>0.731886</td>\n",
       "      <td>0.682018</td>\n",
       "      <td>0.634816</td>\n",
       "      <td>0.275846</td>\n",
       "    </tr>\n",
       "    <tr>\n",
       "      <th>christmas</th>\n",
       "      <td>0.637606</td>\n",
       "      <td>1.000000</td>\n",
       "      <td>0.454123</td>\n",
       "      <td>0.453230</td>\n",
       "      <td>0.295680</td>\n",
       "      <td>NaN</td>\n",
       "    </tr>\n",
       "    <tr>\n",
       "      <th>diet</th>\n",
       "      <td>0.731886</td>\n",
       "      <td>0.454123</td>\n",
       "      <td>1.000000</td>\n",
       "      <td>0.907176</td>\n",
       "      <td>0.835935</td>\n",
       "      <td>0.211616</td>\n",
       "    </tr>\n",
       "    <tr>\n",
       "      <th>gym</th>\n",
       "      <td>0.682018</td>\n",
       "      <td>0.453230</td>\n",
       "      <td>0.907176</td>\n",
       "      <td>1.000000</td>\n",
       "      <td>0.778401</td>\n",
       "      <td>0.291215</td>\n",
       "    </tr>\n",
       "    <tr>\n",
       "      <th>health</th>\n",
       "      <td>0.634816</td>\n",
       "      <td>0.295680</td>\n",
       "      <td>0.835935</td>\n",
       "      <td>0.778401</td>\n",
       "      <td>1.000000</td>\n",
       "      <td>0.257879</td>\n",
       "    </tr>\n",
       "    <tr>\n",
       "      <th>isPartial</th>\n",
       "      <td>NaN</td>\n",
       "      <td>NaN</td>\n",
       "      <td>NaN</td>\n",
       "      <td>NaN</td>\n",
       "      <td>NaN</td>\n",
       "      <td>NaN</td>\n",
       "    </tr>\n",
       "    <tr>\n",
       "      <th>thanksgiving</th>\n",
       "      <td>0.275846</td>\n",
       "      <td>NaN</td>\n",
       "      <td>0.211616</td>\n",
       "      <td>0.291215</td>\n",
       "      <td>0.257879</td>\n",
       "      <td>1.000000</td>\n",
       "    </tr>\n",
       "  </tbody>\n",
       "</table>\n",
       "</div>"
      ],
      "text/plain": [
       "              food near me  christmas      diet       gym    health  \\\n",
       "food near me      1.000000   0.637606  0.731886  0.682018  0.634816   \n",
       "christmas         0.637606   1.000000  0.454123  0.453230  0.295680   \n",
       "diet              0.731886   0.454123  1.000000  0.907176  0.835935   \n",
       "gym               0.682018   0.453230  0.907176  1.000000  0.778401   \n",
       "health            0.634816   0.295680  0.835935  0.778401  1.000000   \n",
       "isPartial              NaN        NaN       NaN       NaN       NaN   \n",
       "thanksgiving      0.275846        NaN  0.211616  0.291215  0.257879   \n",
       "\n",
       "              thanksgiving  \n",
       "food near me      0.275846  \n",
       "christmas              NaN  \n",
       "diet              0.211616  \n",
       "gym               0.291215  \n",
       "health            0.257879  \n",
       "isPartial              NaN  \n",
       "thanksgiving      1.000000  "
      ]
     },
     "execution_count": 65,
     "metadata": {},
     "output_type": "execute_result"
    }
   ],
   "source": [
    "df_C_holidays_total_df.corr(method=\"spearman\").drop(['isPartial'], axis=1)"
   ]
  },
  {
   "cell_type": "code",
   "execution_count": null,
   "metadata": {},
   "outputs": [],
   "source": []
  }
 ],
 "metadata": {
  "kernelspec": {
   "display_name": "Python 3",
   "language": "python",
   "name": "python3"
  },
  "language_info": {
   "codemirror_mode": {
    "name": "ipython",
    "version": 3
   },
   "file_extension": ".py",
   "mimetype": "text/x-python",
   "name": "python",
   "nbconvert_exporter": "python",
   "pygments_lexer": "ipython3",
   "version": "3.6.10"
  }
 },
 "nbformat": 4,
 "nbformat_minor": 2
}
