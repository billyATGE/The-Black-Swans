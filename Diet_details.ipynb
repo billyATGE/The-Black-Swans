{
 "cells": [
  {
   "cell_type": "code",
   "execution_count": 1,
   "metadata": {},
   "outputs": [
    {
     "name": "stdout",
     "output_type": "stream",
     "text": [
      "Requirement already satisfied: pytrends in /home/blau/anaconda3/envs/PythonData/lib/python3.6/site-packages (4.7.3)\n",
      "Requirement already satisfied: requests in /home/blau/anaconda3/envs/PythonData/lib/python3.6/site-packages (from pytrends) (2.24.0)\n",
      "Requirement already satisfied: pandas>=0.25 in /home/blau/anaconda3/envs/PythonData/lib/python3.6/site-packages (from pytrends) (1.0.5)\n",
      "Requirement already satisfied: lxml in /home/blau/anaconda3/envs/PythonData/lib/python3.6/site-packages (from pytrends) (4.5.2)\n",
      "Requirement already satisfied: certifi>=2017.4.17 in /home/blau/anaconda3/envs/PythonData/lib/python3.6/site-packages (from requests->pytrends) (2020.6.20)\n",
      "Requirement already satisfied: urllib3!=1.25.0,!=1.25.1,<1.26,>=1.21.1 in /home/blau/anaconda3/envs/PythonData/lib/python3.6/site-packages (from requests->pytrends) (1.25.9)\n",
      "Requirement already satisfied: idna<3,>=2.5 in /home/blau/anaconda3/envs/PythonData/lib/python3.6/site-packages (from requests->pytrends) (2.10)\n",
      "Requirement already satisfied: chardet<4,>=3.0.2 in /home/blau/anaconda3/envs/PythonData/lib/python3.6/site-packages (from requests->pytrends) (3.0.4)\n",
      "Requirement already satisfied: python-dateutil>=2.6.1 in /home/blau/anaconda3/envs/PythonData/lib/python3.6/site-packages (from pandas>=0.25->pytrends) (2.8.1)\n",
      "Requirement already satisfied: pytz>=2017.2 in /home/blau/anaconda3/envs/PythonData/lib/python3.6/site-packages (from pandas>=0.25->pytrends) (2020.1)\n",
      "Requirement already satisfied: numpy>=1.13.3 in /home/blau/anaconda3/envs/PythonData/lib/python3.6/site-packages (from pandas>=0.25->pytrends) (1.18.5)\n",
      "Requirement already satisfied: six>=1.5 in /home/blau/anaconda3/envs/PythonData/lib/python3.6/site-packages (from python-dateutil>=2.6.1->pandas>=0.25->pytrends) (1.15.0)\n"
     ]
    }
   ],
   "source": [
    "!pip install pytrends\n",
    "import pandas as pd  \n",
    "from scipy.stats import normaltest\n",
    "from pytrends.request import TrendReq\n",
    "pytrend = TrendReq()\n"
   ]
  },
  {
   "cell_type": "code",
   "execution_count": 2,
   "metadata": {},
   "outputs": [],
   "source": [
    "pytrend.build_payload(kw_list = [\"food near me\",\"diet\",\"gym\",\"Health\",\"Beach\"],timeframe='2017-09-01 2021-03-17',geo='US')\n",
    "df_A = pytrend.interest_over_time()"
   ]
  },
  {
   "cell_type": "code",
   "execution_count": 3,
   "metadata": {},
   "outputs": [],
   "source": [
    "pytrend.build_payload(kw_list = [\"diet pills\",\"antidepressant\"],timeframe='2017-09-01 2021-03-17',geo='US')\n",
    "df_B = pytrend.interest_over_time()"
   ]
  },
  {
   "cell_type": "code",
   "execution_count": 4,
   "metadata": {},
   "outputs": [],
   "source": [
    "df_C = pytrend.get_historical_interest([\"food near me\",\"Health\",\"Beach\"],year_start=2020, month_start=12, day_start=20, hour_start=0, year_end=2020, month_end=12, day_end=31, hour_end=0, cat=0, geo='US', sleep=240)"
   ]
  },
  {
   "cell_type": "code",
   "execution_count": 5,
   "metadata": {},
   "outputs": [],
   "source": [
    "pytrend.build_payload(kw_list = [\"christmas\",\"diet\"],timeframe='2015-09-01 2021-03-17',geo='US')\n",
    "christmas_v_diet_df = pytrend.interest_over_time()"
   ]
  },
  {
   "cell_type": "code",
   "execution_count": 6,
   "metadata": {},
   "outputs": [],
   "source": [
    "pytrend.build_payload(kw_list = [\"restaurants open on christmas\",\"restaurants open on thanksgiving\",\"restaurants open on easter\"],timeframe='2017-09-01 2021-03-17',geo='US')\n",
    "holidays_restaurants_df = pytrend.interest_over_time()"
   ]
  },
  {
   "cell_type": "code",
   "execution_count": 7,
   "metadata": {},
   "outputs": [],
   "source": [
    "pytrend.build_payload(kw_list = [\"gym\",\"diet\"],timeframe='2015-09-01 2021-03-17',geo='US')\n",
    "gym_v_diet_df = pytrend.interest_over_time()"
   ]
  },
  {
   "cell_type": "code",
   "execution_count": 8,
   "metadata": {},
   "outputs": [],
   "source": [
    "pytrend.build_payload(kw_list = [\"food near me\",\"restauant near me\"],timeframe='2017-09-01 2021-03-17',geo='US')\n",
    "food_v_restauant_df = pytrend.interest_over_time()"
   ]
  },
  {
   "cell_type": "code",
   "execution_count": 9,
   "metadata": {},
   "outputs": [],
   "source": [
    "pytrend.build_payload(kw_list = [\"pizza\",\"food near me\"],timeframe='2015-09-01 2021-03-17',geo='US')\n",
    "pizza_v_food_df = pytrend.interest_over_time()"
   ]
  },
  {
   "cell_type": "code",
   "execution_count": 10,
   "metadata": {},
   "outputs": [],
   "source": [
    "pytrend.build_payload(kw_list = [\"diet pills\",\"diet\"],timeframe='2015-09-01 2021-03-17',geo='US')\n",
    "diet_pills_v_diet_df = pytrend.interest_over_time()"
   ]
  },
  {
   "cell_type": "code",
   "execution_count": 11,
   "metadata": {},
   "outputs": [],
   "source": [
    "pytrend.build_payload(kw_list = [\"diet pills\",\"gym\"],timeframe='2015-09-01 2021-03-17',geo='US')\n",
    "diet_pills_v_gym_df = pytrend.interest_over_time()"
   ]
  },
  {
   "cell_type": "code",
   "execution_count": 12,
   "metadata": {},
   "outputs": [],
   "source": [
    "pytrend.build_payload(kw_list = [\"Thanksgiving\",\"diet\"],timeframe='2015-09-01 2021-03-17',geo='US')\n",
    "thanksgiving_v_diet_df = pytrend.interest_over_time()"
   ]
  },
  {
   "cell_type": "code",
   "execution_count": 13,
   "metadata": {},
   "outputs": [],
   "source": [
    "pytrend.build_payload(kw_list = [\"New Year\",\"diet\"],timeframe='2015-09-01 2021-03-17',geo='US')\n",
    "new_year_v_diet_df = pytrend.interest_over_time()"
   ]
  },
  {
   "cell_type": "code",
   "execution_count": 14,
   "metadata": {},
   "outputs": [],
   "source": [
    "pytrend.build_payload(kw_list = [\"Independence Day\",\"diet\"],timeframe='2015-09-01 2021-03-17',geo='US')\n",
    "Independence_Day_v_diet_df = pytrend.interest_over_time()"
   ]
  },
  {
   "cell_type": "code",
   "execution_count": 15,
   "metadata": {},
   "outputs": [],
   "source": [
    "pytrend.build_payload(kw_list = [\"holiday\",\"diet\"],timeframe='2015-09-01 2021-03-17',geo='US')\n",
    "holiday_v_diet_df = pytrend.interest_over_time()"
   ]
  },
  {
   "cell_type": "code",
   "execution_count": 16,
   "metadata": {},
   "outputs": [],
   "source": [
    "pytrend.build_payload(kw_list = [\"food near me\",\"diet\"],timeframe='2015-09-01 2021-03-17',geo='US')\n",
    "food_near_v_diet_df = pytrend.interest_over_time()"
   ]
  },
  {
   "cell_type": "code",
   "execution_count": 17,
   "metadata": {},
   "outputs": [],
   "source": [
    "pytrend.build_payload(kw_list = [\"suicide\",\"guns\",\"diet\",\"antidepressant\"],timeframe='2015-09-01 2021-03-17',geo='US')\n",
    "suicide_v_guns_df = pytrend.interest_over_time()"
   ]
  },
  {
   "cell_type": "code",
   "execution_count": 18,
   "metadata": {},
   "outputs": [],
   "source": [
    "pytrend.build_payload(kw_list = [\"Hydroxycut\",\"Garcinia Cambogia Extract\",\"Raspberry Ketones\",\"Orlistat\"],timeframe='2015-09-01 2021-03-17',geo='US')\n",
    "diet_method_df = pytrend.interest_over_time()"
   ]
  },
  {
   "cell_type": "code",
   "execution_count": 19,
   "metadata": {},
   "outputs": [],
   "source": [
    "pytrend.build_payload(kw_list = [\"Bumble\",\"tinder\",\"OkCupid\",\"hinge\",\"coffee meets bagel\"],timeframe='2015-09-01 2021-03-17',geo='US')\n",
    "dating_method_df = pytrend.interest_over_time()"
   ]
  },
  {
   "cell_type": "code",
   "execution_count": 20,
   "metadata": {},
   "outputs": [],
   "source": [
    "pytrend.build_payload(kw_list = [\"food near me\",\"diet\",\"gym\",\"Health\",\"christmas\"],timeframe='2015-09-01 2021-03-17',geo='US')\n",
    "df_A_christmas = pytrend.interest_over_time()"
   ]
  },
  {
   "cell_type": "code",
   "execution_count": 91,
   "metadata": {},
   "outputs": [],
   "source": [
    "#here\n",
    "pytrend.build_payload(kw_list = [\"gym\",\"workout plan\",\"running\"],timeframe='2015-09-01 2021-03-17',geo='US')\n",
    "gym_N_running_df = pytrend.interest_over_time()"
   ]
  },
  {
   "cell_type": "code",
   "execution_count": 98,
   "metadata": {},
   "outputs": [],
   "source": [
    "\n",
    "pytrend.build_payload(kw_list = [\"tanning bed\",\"bikini waxing\"],timeframe='2015-09-01 2021-03-17',geo='US')\n",
    "tanning_N_bikini_df = pytrend.interest_over_time()"
   ]
  },
  {
   "cell_type": "code",
   "execution_count": 126,
   "metadata": {},
   "outputs": [],
   "source": [
    "\n",
    "pytrend.build_payload(kw_list = [\"liposuction\",\"gastric sleeve\", \"Bariatric\",\"personal loan\"],timeframe='2015-09-01 2021-03-17',geo='US')\n",
    "payday_load_N_liposuction_df = pytrend.interest_over_time()"
   ]
  },
  {
   "cell_type": "code",
   "execution_count": 131,
   "metadata": {},
   "outputs": [],
   "source": [
    "\n",
    "pytrend.build_payload(kw_list = [\"avant\",\"lending club\", \"OneMain Financial\",\"credit card loan\",\"lending tree\"],timeframe='2015-09-01 2021-03-17',geo='US')\n",
    "personal_loan_method_df = pytrend.interest_over_time()"
   ]
  },
  {
   "cell_type": "code",
   "execution_count": 22,
   "metadata": {},
   "outputs": [],
   "source": [
    "df_C_christmas_2020_df = pytrend.get_historical_interest([\"food near me\",\"christmas\",\"diet\",\"gym\",\"health\"],year_start=2020, month_start=12, day_start=20, hour_start=0, year_end=2020, month_end=12, day_end=31, hour_end=0, cat=0, geo='US', sleep=240)"
   ]
  },
  {
   "cell_type": "code",
   "execution_count": 23,
   "metadata": {},
   "outputs": [],
   "source": [
    "df_C_christmas_2019_df = pytrend.get_historical_interest([\"food near me\",\"christmas\",\"diet\",\"gym\",\"health\"],year_start=2019, month_start=12, day_start=20, hour_start=0, year_end=2019, month_end=12, day_end=31, hour_end=0, cat=0, geo='US', sleep=240)"
   ]
  },
  {
   "cell_type": "code",
   "execution_count": 24,
   "metadata": {},
   "outputs": [],
   "source": [
    "df_C_christmas_2018_df = pytrend.get_historical_interest([\"food near me\",\"christmas\",\"diet\",\"gym\",\"health\"],year_start=2018, month_start=12, day_start=20, hour_start=0, year_end=2018, month_end=12, day_end=31, hour_end=0, cat=0, geo='US', sleep=240)"
   ]
  },
  {
   "cell_type": "code",
   "execution_count": 25,
   "metadata": {},
   "outputs": [],
   "source": [
    "df_C_christmas_2017_df = pytrend.get_historical_interest([\"food near me\",\"christmas\",\"diet\",\"gym\",\"health\"],year_start=2017, month_start=12, day_start=20, hour_start=0, year_end=2017, month_end=12, day_end=31, hour_end=0, cat=0, geo='US', sleep=240)"
   ]
  },
  {
   "cell_type": "code",
   "execution_count": 26,
   "metadata": {},
   "outputs": [],
   "source": [
    "df_C_christmas_2016_df = pytrend.get_historical_interest([\"food near me\",\"christmas\",\"diet\",\"gym\",\"health\"],year_start=2016, month_start=12, day_start=20, hour_start=0, year_end=2016, month_end=12, day_end=31, hour_end=0, cat=0, geo='US', sleep=240)"
   ]
  },
  {
   "cell_type": "code",
   "execution_count": 27,
   "metadata": {},
   "outputs": [],
   "source": [
    "df_C_thanksgiving_2020_df = pytrend.get_historical_interest([\"food near me\",\"thanksgiving\",\"diet\",\"gym\",\"health\"],year_start=2020, month_start=11, day_start=20, hour_start=0, year_end=2020, month_end=11, day_end=29, hour_end=0, cat=0, geo='US', sleep=240)"
   ]
  },
  {
   "cell_type": "code",
   "execution_count": 28,
   "metadata": {},
   "outputs": [],
   "source": [
    "df_C_thanksgiving_2019_df = pytrend.get_historical_interest([\"food near me\",\"thanksgiving\",\"diet\",\"gym\",\"health\"],year_start=2019, month_start=11, day_start=20, hour_start=0, year_end=2019, month_end=11, day_end=29, hour_end=0, cat=0, geo='US', sleep=240)"
   ]
  },
  {
   "cell_type": "code",
   "execution_count": 29,
   "metadata": {},
   "outputs": [],
   "source": [
    "df_C_thanksgiving_2018_df = pytrend.get_historical_interest([\"food near me\",\"thanksgiving\",\"diet\",\"gym\",\"health\"],year_start=2018, month_start=11, day_start=20, hour_start=0, year_end=2018, month_end=11, day_end=29, hour_end=0, cat=0, geo='US', sleep=240)"
   ]
  },
  {
   "cell_type": "code",
   "execution_count": 30,
   "metadata": {},
   "outputs": [],
   "source": [
    "df_C_thanksgiving_2017_df = pytrend.get_historical_interest([\"food near me\",\"thanksgiving\",\"diet\",\"gym\",\"health\"],year_start=2017, month_start=11, day_start=20, hour_start=0, year_end=2017, month_end=11, day_end=29, hour_end=0, cat=0, geo='US', sleep=240)"
   ]
  },
  {
   "cell_type": "code",
   "execution_count": 31,
   "metadata": {},
   "outputs": [],
   "source": [
    "df_C_thanksgiving_2016_df = pytrend.get_historical_interest([\"food near me\",\"thanksgiving\",\"diet\",\"gym\",\"health\"],year_start=2016, month_start=11, day_start=20, hour_start=0, year_end=2016, month_end=11, day_end=29, hour_end=0, cat=0, geo='US', sleep=240)"
   ]
  },
  {
   "cell_type": "code",
   "execution_count": 32,
   "metadata": {},
   "outputs": [
    {
     "data": {
      "text/plain": [
       "<matplotlib.axes._subplots.AxesSubplot at 0x7fd6ce8cb588>"
      ]
     },
     "execution_count": 32,
     "metadata": {},
     "output_type": "execute_result"
    },
    {
     "data": {
      "image/png": "[encoded data removed]",
      "text/plain": [
       "<Figure size 1440x432 with 1 Axes>"
      ]
     },
     "metadata": {
      "needs_background": "light"
     },
     "output_type": "display_data"
    }
   ],
   "source": [
    "df_A.reset_index().plot(kind='line',x='date',title= 'Search Trends', style='-o', cmap='Dark2',figsize=(20,6), rot=30)"
   ]
  },
  {
   "cell_type": "code",
   "execution_count": 33,
   "metadata": {},
   "outputs": [
    {
     "data": {
      "text/plain": [
       "<matplotlib.axes._subplots.AxesSubplot at 0x7fd6c987b2b0>"
      ]
     },
     "execution_count": 33,
     "metadata": {},
     "output_type": "execute_result"
    },
    {
     "data": {
      "image/png": "[encoded data removed]",
      "text/plain": [
       "<Figure size 1440x432 with 1 Axes>"
      ]
     },
     "metadata": {
      "needs_background": "light"
     },
     "output_type": "display_data"
    }
   ],
   "source": [
    "df_B.reset_index().plot(kind='line',x='date',title= 'Search Trends', style='-o', cmap='Dark2',figsize=(20,6), rot=30)"
   ]
  },
  {
   "cell_type": "code",
   "execution_count": 34,
   "metadata": {},
   "outputs": [
    {
     "data": {
      "text/plain": [
       "<matplotlib.axes._subplots.AxesSubplot at 0x7fd6c9a34208>"
      ]
     },
     "execution_count": 34,
     "metadata": {},
     "output_type": "execute_result"
    },
    {
     "data": {
      "image/png": "[encoded data removed]",
      "text/plain": [
       "<Figure size 1440x432 with 1 Axes>"
      ]
     },
     "metadata": {
      "needs_background": "light"
     },
     "output_type": "display_data"
    }
   ],
   "source": [
    "df_C.reset_index().plot(kind='line',x='date',title= 'Search Trends', style='-o', cmap='Dark2',figsize=(20,6), rot=30)"
   ]
  },
  {
   "cell_type": "code",
   "execution_count": 69,
   "metadata": {},
   "outputs": [
    {
     "data": {
      "text/html": [
       "<div>\n",
       "<style scoped>\n",
       "    .dataframe tbody tr th:only-of-type {\n",
       "        vertical-align: middle;\n",
       "    }\n",
       "\n",
       "    .dataframe tbody tr th {\n",
       "        vertical-align: top;\n",
       "    }\n",
       "\n",
       "    .dataframe thead th {\n",
       "        text-align: right;\n",
       "    }\n",
       "</style>\n",
       "<table border=\"1\" class=\"dataframe\">\n",
       "  <thead>\n",
       "    <tr style=\"text-align: right;\">\n",
       "      <th></th>\n",
       "      <th>food near me</th>\n",
       "      <th>diet</th>\n",
       "      <th>gym</th>\n",
       "      <th>Health</th>\n",
       "      <th>Beach</th>\n",
       "    </tr>\n",
       "  </thead>\n",
       "  <tbody>\n",
       "    <tr>\n",
       "      <th>food near me</th>\n",
       "      <td>1.000000</td>\n",
       "      <td>-0.402855</td>\n",
       "      <td>-0.226393</td>\n",
       "      <td>0.348517</td>\n",
       "      <td>0.253057</td>\n",
       "    </tr>\n",
       "    <tr>\n",
       "      <th>diet</th>\n",
       "      <td>-0.402855</td>\n",
       "      <td>1.000000</td>\n",
       "      <td>0.609906</td>\n",
       "      <td>-0.394876</td>\n",
       "      <td>0.476694</td>\n",
       "    </tr>\n",
       "    <tr>\n",
       "      <th>gym</th>\n",
       "      <td>-0.226393</td>\n",
       "      <td>0.609906</td>\n",
       "      <td>1.000000</td>\n",
       "      <td>-0.397019</td>\n",
       "      <td>0.295243</td>\n",
       "    </tr>\n",
       "    <tr>\n",
       "      <th>Health</th>\n",
       "      <td>0.348517</td>\n",
       "      <td>-0.394876</td>\n",
       "      <td>-0.397019</td>\n",
       "      <td>1.000000</td>\n",
       "      <td>-0.246972</td>\n",
       "    </tr>\n",
       "    <tr>\n",
       "      <th>Beach</th>\n",
       "      <td>0.253057</td>\n",
       "      <td>0.476694</td>\n",
       "      <td>0.295243</td>\n",
       "      <td>-0.246972</td>\n",
       "      <td>1.000000</td>\n",
       "    </tr>\n",
       "  </tbody>\n",
       "</table>\n",
       "</div>"
      ],
      "text/plain": [
       "              food near me      diet       gym    Health     Beach\n",
       "food near me      1.000000 -0.402855 -0.226393  0.348517  0.253057\n",
       "diet             -0.402855  1.000000  0.609906 -0.394876  0.476694\n",
       "gym              -0.226393  0.609906  1.000000 -0.397019  0.295243\n",
       "Health            0.348517 -0.394876 -0.397019  1.000000 -0.246972\n",
       "Beach             0.253057  0.476694  0.295243 -0.246972  1.000000"
      ]
     },
     "execution_count": 69,
     "metadata": {},
     "output_type": "execute_result"
    }
   ],
   "source": [
    "df_A.corr(method='spearman').drop('isPartial', axis=1).drop(['isPartial'])"
   ]
  },
  {
   "cell_type": "code",
   "execution_count": 70,
   "metadata": {},
   "outputs": [
    {
     "data": {
      "text/html": [
       "<div>\n",
       "<style scoped>\n",
       "    .dataframe tbody tr th:only-of-type {\n",
       "        vertical-align: middle;\n",
       "    }\n",
       "\n",
       "    .dataframe tbody tr th {\n",
       "        vertical-align: top;\n",
       "    }\n",
       "\n",
       "    .dataframe thead th {\n",
       "        text-align: right;\n",
       "    }\n",
       "</style>\n",
       "<table border=\"1\" class=\"dataframe\">\n",
       "  <thead>\n",
       "    <tr style=\"text-align: right;\">\n",
       "      <th></th>\n",
       "      <th>diet pills</th>\n",
       "      <th>antidepressant</th>\n",
       "    </tr>\n",
       "  </thead>\n",
       "  <tbody>\n",
       "    <tr>\n",
       "      <th>diet pills</th>\n",
       "      <td>1.000000</td>\n",
       "      <td>0.105562</td>\n",
       "    </tr>\n",
       "    <tr>\n",
       "      <th>antidepressant</th>\n",
       "      <td>0.105562</td>\n",
       "      <td>1.000000</td>\n",
       "    </tr>\n",
       "  </tbody>\n",
       "</table>\n",
       "</div>"
      ],
      "text/plain": [
       "                diet pills  antidepressant\n",
       "diet pills        1.000000        0.105562\n",
       "antidepressant    0.105562        1.000000"
      ]
     },
     "execution_count": 70,
     "metadata": {},
     "output_type": "execute_result"
    }
   ],
   "source": [
    "df_B.corr(method='spearman').drop('isPartial', axis=1).drop(['isPartial'])"
   ]
  },
  {
   "cell_type": "code",
   "execution_count": 71,
   "metadata": {},
   "outputs": [
    {
     "data": {
      "text/html": [
       "<div>\n",
       "<style scoped>\n",
       "    .dataframe tbody tr th:only-of-type {\n",
       "        vertical-align: middle;\n",
       "    }\n",
       "\n",
       "    .dataframe tbody tr th {\n",
       "        vertical-align: top;\n",
       "    }\n",
       "\n",
       "    .dataframe thead th {\n",
       "        text-align: right;\n",
       "    }\n",
       "</style>\n",
       "<table border=\"1\" class=\"dataframe\">\n",
       "  <thead>\n",
       "    <tr style=\"text-align: right;\">\n",
       "      <th></th>\n",
       "      <th>food near me</th>\n",
       "      <th>Health</th>\n",
       "      <th>Beach</th>\n",
       "    </tr>\n",
       "  </thead>\n",
       "  <tbody>\n",
       "    <tr>\n",
       "      <th>food near me</th>\n",
       "      <td>1.000000</td>\n",
       "      <td>-0.337606</td>\n",
       "      <td>-0.251749</td>\n",
       "    </tr>\n",
       "    <tr>\n",
       "      <th>Health</th>\n",
       "      <td>-0.337606</td>\n",
       "      <td>1.000000</td>\n",
       "      <td>0.625422</td>\n",
       "    </tr>\n",
       "    <tr>\n",
       "      <th>Beach</th>\n",
       "      <td>-0.251749</td>\n",
       "      <td>0.625422</td>\n",
       "      <td>1.000000</td>\n",
       "    </tr>\n",
       "  </tbody>\n",
       "</table>\n",
       "</div>"
      ],
      "text/plain": [
       "              food near me    Health     Beach\n",
       "food near me      1.000000 -0.337606 -0.251749\n",
       "Health           -0.337606  1.000000  0.625422\n",
       "Beach            -0.251749  0.625422  1.000000"
      ]
     },
     "execution_count": 71,
     "metadata": {},
     "output_type": "execute_result"
    }
   ],
   "source": [
    "df_C.corr(method='spearman').drop('isPartial', axis=1).drop(['isPartial'])"
   ]
  },
  {
   "cell_type": "code",
   "execution_count": 38,
   "metadata": {},
   "outputs": [
    {
     "data": {
      "text/html": [
       "<div>\n",
       "<style scoped>\n",
       "    .dataframe tbody tr th:only-of-type {\n",
       "        vertical-align: middle;\n",
       "    }\n",
       "\n",
       "    .dataframe tbody tr th {\n",
       "        vertical-align: top;\n",
       "    }\n",
       "\n",
       "    .dataframe thead th {\n",
       "        text-align: right;\n",
       "    }\n",
       "</style>\n",
       "<table border=\"1\" class=\"dataframe\">\n",
       "  <thead>\n",
       "    <tr style=\"text-align: right;\">\n",
       "      <th></th>\n",
       "      <th>christmas</th>\n",
       "      <th>diet</th>\n",
       "    </tr>\n",
       "  </thead>\n",
       "  <tbody>\n",
       "    <tr>\n",
       "      <th>christmas</th>\n",
       "      <td>1.000000</td>\n",
       "      <td>-0.436404</td>\n",
       "    </tr>\n",
       "    <tr>\n",
       "      <th>diet</th>\n",
       "      <td>-0.436404</td>\n",
       "      <td>1.000000</td>\n",
       "    </tr>\n",
       "  </tbody>\n",
       "</table>\n",
       "</div>"
      ],
      "text/plain": [
       "           christmas      diet\n",
       "christmas   1.000000 -0.436404\n",
       "diet       -0.436404  1.000000"
      ]
     },
     "execution_count": 38,
     "metadata": {},
     "output_type": "execute_result"
    }
   ],
   "source": [
    "christmas_v_diet_df.corr(method='spearman')"
   ]
  },
  {
   "cell_type": "code",
   "execution_count": 39,
   "metadata": {},
   "outputs": [
    {
     "data": {
      "text/html": [
       "<div>\n",
       "<style scoped>\n",
       "    .dataframe tbody tr th:only-of-type {\n",
       "        vertical-align: middle;\n",
       "    }\n",
       "\n",
       "    .dataframe tbody tr th {\n",
       "        vertical-align: top;\n",
       "    }\n",
       "\n",
       "    .dataframe thead th {\n",
       "        text-align: right;\n",
       "    }\n",
       "</style>\n",
       "<table border=\"1\" class=\"dataframe\">\n",
       "  <thead>\n",
       "    <tr style=\"text-align: right;\">\n",
       "      <th></th>\n",
       "      <th>Thanksgiving</th>\n",
       "      <th>diet</th>\n",
       "    </tr>\n",
       "  </thead>\n",
       "  <tbody>\n",
       "    <tr>\n",
       "      <th>Thanksgiving</th>\n",
       "      <td>1.000000</td>\n",
       "      <td>-0.492075</td>\n",
       "    </tr>\n",
       "    <tr>\n",
       "      <th>diet</th>\n",
       "      <td>-0.492075</td>\n",
       "      <td>1.000000</td>\n",
       "    </tr>\n",
       "  </tbody>\n",
       "</table>\n",
       "</div>"
      ],
      "text/plain": [
       "              Thanksgiving      diet\n",
       "Thanksgiving      1.000000 -0.492075\n",
       "diet             -0.492075  1.000000"
      ]
     },
     "execution_count": 39,
     "metadata": {},
     "output_type": "execute_result"
    }
   ],
   "source": [
    "thanksgiving_v_diet_df.corr(method='spearman')"
   ]
  },
  {
   "cell_type": "code",
   "execution_count": 40,
   "metadata": {},
   "outputs": [
    {
     "data": {
      "text/html": [
       "<div>\n",
       "<style scoped>\n",
       "    .dataframe tbody tr th:only-of-type {\n",
       "        vertical-align: middle;\n",
       "    }\n",
       "\n",
       "    .dataframe tbody tr th {\n",
       "        vertical-align: top;\n",
       "    }\n",
       "\n",
       "    .dataframe thead th {\n",
       "        text-align: right;\n",
       "    }\n",
       "</style>\n",
       "<table border=\"1\" class=\"dataframe\">\n",
       "  <thead>\n",
       "    <tr style=\"text-align: right;\">\n",
       "      <th></th>\n",
       "      <th>Independence Day</th>\n",
       "      <th>diet</th>\n",
       "    </tr>\n",
       "  </thead>\n",
       "  <tbody>\n",
       "    <tr>\n",
       "      <th>Independence Day</th>\n",
       "      <td>1.000000</td>\n",
       "      <td>0.078697</td>\n",
       "    </tr>\n",
       "    <tr>\n",
       "      <th>diet</th>\n",
       "      <td>0.078697</td>\n",
       "      <td>1.000000</td>\n",
       "    </tr>\n",
       "  </tbody>\n",
       "</table>\n",
       "</div>"
      ],
      "text/plain": [
       "                  Independence Day      diet\n",
       "Independence Day          1.000000  0.078697\n",
       "diet                      0.078697  1.000000"
      ]
     },
     "execution_count": 40,
     "metadata": {},
     "output_type": "execute_result"
    }
   ],
   "source": [
    "Independence_Day_v_diet_df.corr(method='spearman')"
   ]
  },
  {
   "cell_type": "code",
   "execution_count": 41,
   "metadata": {},
   "outputs": [
    {
     "data": {
      "text/html": [
       "<div>\n",
       "<style scoped>\n",
       "    .dataframe tbody tr th:only-of-type {\n",
       "        vertical-align: middle;\n",
       "    }\n",
       "\n",
       "    .dataframe tbody tr th {\n",
       "        vertical-align: top;\n",
       "    }\n",
       "\n",
       "    .dataframe thead th {\n",
       "        text-align: right;\n",
       "    }\n",
       "</style>\n",
       "<table border=\"1\" class=\"dataframe\">\n",
       "  <thead>\n",
       "    <tr style=\"text-align: right;\">\n",
       "      <th></th>\n",
       "      <th>holiday</th>\n",
       "      <th>diet</th>\n",
       "    </tr>\n",
       "  </thead>\n",
       "  <tbody>\n",
       "    <tr>\n",
       "      <th>holiday</th>\n",
       "      <td>1.000000</td>\n",
       "      <td>-0.310488</td>\n",
       "    </tr>\n",
       "    <tr>\n",
       "      <th>diet</th>\n",
       "      <td>-0.310488</td>\n",
       "      <td>1.000000</td>\n",
       "    </tr>\n",
       "  </tbody>\n",
       "</table>\n",
       "</div>"
      ],
      "text/plain": [
       "          holiday      diet\n",
       "holiday  1.000000 -0.310488\n",
       "diet    -0.310488  1.000000"
      ]
     },
     "execution_count": 41,
     "metadata": {},
     "output_type": "execute_result"
    }
   ],
   "source": [
    "holiday_v_diet_df.corr(method='spearman')"
   ]
  },
  {
   "cell_type": "code",
   "execution_count": 42,
   "metadata": {},
   "outputs": [
    {
     "data": {
      "text/html": [
       "<div>\n",
       "<style scoped>\n",
       "    .dataframe tbody tr th:only-of-type {\n",
       "        vertical-align: middle;\n",
       "    }\n",
       "\n",
       "    .dataframe tbody tr th {\n",
       "        vertical-align: top;\n",
       "    }\n",
       "\n",
       "    .dataframe thead th {\n",
       "        text-align: right;\n",
       "    }\n",
       "</style>\n",
       "<table border=\"1\" class=\"dataframe\">\n",
       "  <thead>\n",
       "    <tr style=\"text-align: right;\">\n",
       "      <th></th>\n",
       "      <th>food near me</th>\n",
       "      <th>diet</th>\n",
       "    </tr>\n",
       "  </thead>\n",
       "  <tbody>\n",
       "    <tr>\n",
       "      <th>food near me</th>\n",
       "      <td>1.000000</td>\n",
       "      <td>-0.118221</td>\n",
       "    </tr>\n",
       "    <tr>\n",
       "      <th>diet</th>\n",
       "      <td>-0.118221</td>\n",
       "      <td>1.000000</td>\n",
       "    </tr>\n",
       "  </tbody>\n",
       "</table>\n",
       "</div>"
      ],
      "text/plain": [
       "              food near me      diet\n",
       "food near me      1.000000 -0.118221\n",
       "diet             -0.118221  1.000000"
      ]
     },
     "execution_count": 42,
     "metadata": {},
     "output_type": "execute_result"
    }
   ],
   "source": [
    "food_near_v_diet_df.corr(method='spearman')"
   ]
  },
  {
   "cell_type": "code",
   "execution_count": 43,
   "metadata": {},
   "outputs": [
    {
     "data": {
      "text/html": [
       "<div>\n",
       "<style scoped>\n",
       "    .dataframe tbody tr th:only-of-type {\n",
       "        vertical-align: middle;\n",
       "    }\n",
       "\n",
       "    .dataframe tbody tr th {\n",
       "        vertical-align: top;\n",
       "    }\n",
       "\n",
       "    .dataframe thead th {\n",
       "        text-align: right;\n",
       "    }\n",
       "</style>\n",
       "<table border=\"1\" class=\"dataframe\">\n",
       "  <thead>\n",
       "    <tr style=\"text-align: right;\">\n",
       "      <th></th>\n",
       "      <th>gym</th>\n",
       "      <th>diet</th>\n",
       "    </tr>\n",
       "  </thead>\n",
       "  <tbody>\n",
       "    <tr>\n",
       "      <th>gym</th>\n",
       "      <td>1.000000</td>\n",
       "      <td>0.619397</td>\n",
       "    </tr>\n",
       "    <tr>\n",
       "      <th>diet</th>\n",
       "      <td>0.619397</td>\n",
       "      <td>1.000000</td>\n",
       "    </tr>\n",
       "  </tbody>\n",
       "</table>\n",
       "</div>"
      ],
      "text/plain": [
       "           gym      diet\n",
       "gym   1.000000  0.619397\n",
       "diet  0.619397  1.000000"
      ]
     },
     "execution_count": 43,
     "metadata": {},
     "output_type": "execute_result"
    }
   ],
   "source": [
    "gym_v_diet_df.corr(method='spearman')"
   ]
  },
  {
   "cell_type": "code",
   "execution_count": 44,
   "metadata": {},
   "outputs": [
    {
     "data": {
      "text/html": [
       "<div>\n",
       "<style scoped>\n",
       "    .dataframe tbody tr th:only-of-type {\n",
       "        vertical-align: middle;\n",
       "    }\n",
       "\n",
       "    .dataframe tbody tr th {\n",
       "        vertical-align: top;\n",
       "    }\n",
       "\n",
       "    .dataframe thead th {\n",
       "        text-align: right;\n",
       "    }\n",
       "</style>\n",
       "<table border=\"1\" class=\"dataframe\">\n",
       "  <thead>\n",
       "    <tr style=\"text-align: right;\">\n",
       "      <th></th>\n",
       "      <th>diet pills</th>\n",
       "      <th>diet</th>\n",
       "    </tr>\n",
       "  </thead>\n",
       "  <tbody>\n",
       "    <tr>\n",
       "      <th>diet pills</th>\n",
       "      <td>1.00000</td>\n",
       "      <td>0.17194</td>\n",
       "    </tr>\n",
       "    <tr>\n",
       "      <th>diet</th>\n",
       "      <td>0.17194</td>\n",
       "      <td>1.00000</td>\n",
       "    </tr>\n",
       "  </tbody>\n",
       "</table>\n",
       "</div>"
      ],
      "text/plain": [
       "            diet pills     diet\n",
       "diet pills     1.00000  0.17194\n",
       "diet           0.17194  1.00000"
      ]
     },
     "execution_count": 44,
     "metadata": {},
     "output_type": "execute_result"
    }
   ],
   "source": [
    "diet_pills_v_diet_df.corr(method='spearman')"
   ]
  },
  {
   "cell_type": "code",
   "execution_count": 45,
   "metadata": {},
   "outputs": [
    {
     "data": {
      "text/html": [
       "<div>\n",
       "<style scoped>\n",
       "    .dataframe tbody tr th:only-of-type {\n",
       "        vertical-align: middle;\n",
       "    }\n",
       "\n",
       "    .dataframe tbody tr th {\n",
       "        vertical-align: top;\n",
       "    }\n",
       "\n",
       "    .dataframe thead th {\n",
       "        text-align: right;\n",
       "    }\n",
       "</style>\n",
       "<table border=\"1\" class=\"dataframe\">\n",
       "  <thead>\n",
       "    <tr style=\"text-align: right;\">\n",
       "      <th></th>\n",
       "      <th>diet pills</th>\n",
       "      <th>gym</th>\n",
       "    </tr>\n",
       "  </thead>\n",
       "  <tbody>\n",
       "    <tr>\n",
       "      <th>diet pills</th>\n",
       "      <td>1.00000</td>\n",
       "      <td>0.27348</td>\n",
       "    </tr>\n",
       "    <tr>\n",
       "      <th>gym</th>\n",
       "      <td>0.27348</td>\n",
       "      <td>1.00000</td>\n",
       "    </tr>\n",
       "  </tbody>\n",
       "</table>\n",
       "</div>"
      ],
      "text/plain": [
       "            diet pills      gym\n",
       "diet pills     1.00000  0.27348\n",
       "gym            0.27348  1.00000"
      ]
     },
     "execution_count": 45,
     "metadata": {},
     "output_type": "execute_result"
    }
   ],
   "source": [
    "diet_pills_v_gym_df.corr(method='spearman')"
   ]
  },
  {
   "cell_type": "code",
   "execution_count": 46,
   "metadata": {},
   "outputs": [
    {
     "data": {
      "text/html": [
       "<div>\n",
       "<style scoped>\n",
       "    .dataframe tbody tr th:only-of-type {\n",
       "        vertical-align: middle;\n",
       "    }\n",
       "\n",
       "    .dataframe tbody tr th {\n",
       "        vertical-align: top;\n",
       "    }\n",
       "\n",
       "    .dataframe thead th {\n",
       "        text-align: right;\n",
       "    }\n",
       "</style>\n",
       "<table border=\"1\" class=\"dataframe\">\n",
       "  <thead>\n",
       "    <tr style=\"text-align: right;\">\n",
       "      <th></th>\n",
       "      <th>New Year</th>\n",
       "      <th>diet</th>\n",
       "    </tr>\n",
       "  </thead>\n",
       "  <tbody>\n",
       "    <tr>\n",
       "      <th>New Year</th>\n",
       "      <td>1.000000</td>\n",
       "      <td>-0.105747</td>\n",
       "    </tr>\n",
       "    <tr>\n",
       "      <th>diet</th>\n",
       "      <td>-0.105747</td>\n",
       "      <td>1.000000</td>\n",
       "    </tr>\n",
       "  </tbody>\n",
       "</table>\n",
       "</div>"
      ],
      "text/plain": [
       "          New Year      diet\n",
       "New Year  1.000000 -0.105747\n",
       "diet     -0.105747  1.000000"
      ]
     },
     "execution_count": 46,
     "metadata": {},
     "output_type": "execute_result"
    }
   ],
   "source": [
    "new_year_v_diet_df.corr(method='spearman')"
   ]
  },
  {
   "cell_type": "code",
   "execution_count": 73,
   "metadata": {},
   "outputs": [
    {
     "data": {
      "text/plain": [
       "food near me   -0.164613\n",
       "diet            0.674661\n",
       "gym             0.355663\n",
       "Health         -0.232329\n",
       "Beach           0.572863\n",
       "dtype: float64"
      ]
     },
     "execution_count": 73,
     "metadata": {},
     "output_type": "execute_result"
    }
   ],
   "source": [
    "df_A.corrwith(df_B['diet pills'], method='spearman').drop(['isPartial'])"
   ]
  },
  {
   "cell_type": "code",
   "execution_count": 74,
   "metadata": {},
   "outputs": [
    {
     "data": {
      "text/plain": [
       "food near me    0.005077\n",
       "diet            0.241194\n",
       "gym             0.027374\n",
       "Health          0.120998\n",
       "Beach           0.029064\n",
       "dtype: float64"
      ]
     },
     "execution_count": 74,
     "metadata": {},
     "output_type": "execute_result"
    }
   ],
   "source": [
    "df_A.corrwith(df_B['antidepressant'], method='spearman').drop(['isPartial'])"
   ]
  },
  {
   "cell_type": "code",
   "execution_count": 75,
   "metadata": {},
   "outputs": [
    {
     "data": {
      "text/plain": [
       "food near me   -0.110133\n",
       "diet           -0.380970\n",
       "gym            -0.480762\n",
       "Health          0.722346\n",
       "Beach          -0.587378\n",
       "dtype: float64"
      ]
     },
     "execution_count": 75,
     "metadata": {},
     "output_type": "execute_result"
    }
   ],
   "source": [
    "df_A.corrwith(suicide_v_guns_df['guns'], method='spearman').drop(['isPartial'])"
   ]
  },
  {
   "cell_type": "code",
   "execution_count": 50,
   "metadata": {},
   "outputs": [
    {
     "data": {
      "text/plain": [
       "Hydroxycut                   0.890909\n",
       "Garcinia Cambogia Extract    0.490825\n",
       "Raspberry Ketones            0.633054\n",
       "Orlistat                     0.066085\n",
       "dtype: float64"
      ]
     },
     "execution_count": 50,
     "metadata": {},
     "output_type": "execute_result"
    }
   ],
   "source": [
    "diet_method_df.corrwith(df_B['diet pills'], method='spearman')"
   ]
  },
  {
   "cell_type": "code",
   "execution_count": 51,
   "metadata": {},
   "outputs": [
    {
     "data": {
      "text/plain": [
       "Bumble               -0.216163\n",
       "tinder               -0.614151\n",
       "OkCupid               0.719437\n",
       "hinge                -0.694448\n",
       "coffee meets bagel    0.557172\n",
       "dtype: float64"
      ]
     },
     "execution_count": 51,
     "metadata": {},
     "output_type": "execute_result"
    }
   ],
   "source": [
    "dating_method_df.corrwith(diet_method_df['Hydroxycut'], method=\"spearman\")"
   ]
  },
  {
   "cell_type": "code",
   "execution_count": 52,
   "metadata": {},
   "outputs": [
    {
     "data": {
      "text/plain": [
       "Bumble               -0.222375\n",
       "tinder                0.018019\n",
       "OkCupid              -0.607143\n",
       "hinge                 0.630656\n",
       "coffee meets bagel   -0.617535\n",
       "dtype: float64"
      ]
     },
     "execution_count": 52,
     "metadata": {},
     "output_type": "execute_result"
    }
   ],
   "source": [
    "dating_method_df.corrwith(df_A['food near me'], method=\"spearman\")"
   ]
  },
  {
   "cell_type": "code",
   "execution_count": 53,
   "metadata": {},
   "outputs": [
    {
     "data": {
      "text/plain": [
       "food near me    0.630656\n",
       "diet           -0.747958\n",
       "gym            -0.134840\n",
       "Health          0.181818\n",
       "Beach          -0.576600\n",
       "isPartial            NaN\n",
       "dtype: float64"
      ]
     },
     "execution_count": 53,
     "metadata": {},
     "output_type": "execute_result"
    }
   ],
   "source": [
    "df_A.corrwith(dating_method_df['hinge'], method=\"spearman\")"
   ]
  },
  {
   "cell_type": "code",
   "execution_count": 54,
   "metadata": {},
   "outputs": [
    {
     "data": {
      "text/plain": [
       "christmas   -0.289182\n",
       "diet         0.212562\n",
       "dtype: float64"
      ]
     },
     "execution_count": 54,
     "metadata": {},
     "output_type": "execute_result"
    }
   ],
   "source": [
    "christmas_v_diet_df.corrwith(pizza_v_food_df['pizza'], method=\"spearman\" )"
   ]
  },
  {
   "cell_type": "code",
   "execution_count": 55,
   "metadata": {},
   "outputs": [
    {
     "data": {
      "text/html": [
       "<div>\n",
       "<style scoped>\n",
       "    .dataframe tbody tr th:only-of-type {\n",
       "        vertical-align: middle;\n",
       "    }\n",
       "\n",
       "    .dataframe tbody tr th {\n",
       "        vertical-align: top;\n",
       "    }\n",
       "\n",
       "    .dataframe thead th {\n",
       "        text-align: right;\n",
       "    }\n",
       "</style>\n",
       "<table border=\"1\" class=\"dataframe\">\n",
       "  <thead>\n",
       "    <tr style=\"text-align: right;\">\n",
       "      <th></th>\n",
       "      <th>food near me</th>\n",
       "      <th>diet</th>\n",
       "      <th>gym</th>\n",
       "      <th>Health</th>\n",
       "      <th>christmas</th>\n",
       "    </tr>\n",
       "  </thead>\n",
       "  <tbody>\n",
       "    <tr>\n",
       "      <th>food near me</th>\n",
       "      <td>1.000000</td>\n",
       "      <td>-0.170328</td>\n",
       "      <td>-0.181653</td>\n",
       "      <td>0.580556</td>\n",
       "      <td>0.058620</td>\n",
       "    </tr>\n",
       "    <tr>\n",
       "      <th>diet</th>\n",
       "      <td>-0.170328</td>\n",
       "      <td>1.000000</td>\n",
       "      <td>0.644870</td>\n",
       "      <td>-0.168188</td>\n",
       "      <td>-0.436404</td>\n",
       "    </tr>\n",
       "    <tr>\n",
       "      <th>gym</th>\n",
       "      <td>-0.181653</td>\n",
       "      <td>0.644870</td>\n",
       "      <td>1.000000</td>\n",
       "      <td>-0.218505</td>\n",
       "      <td>-0.172852</td>\n",
       "    </tr>\n",
       "    <tr>\n",
       "      <th>Health</th>\n",
       "      <td>0.580556</td>\n",
       "      <td>-0.168188</td>\n",
       "      <td>-0.218505</td>\n",
       "      <td>1.000000</td>\n",
       "      <td>-0.030890</td>\n",
       "    </tr>\n",
       "    <tr>\n",
       "      <th>christmas</th>\n",
       "      <td>0.058620</td>\n",
       "      <td>-0.436404</td>\n",
       "      <td>-0.172852</td>\n",
       "      <td>-0.030890</td>\n",
       "      <td>1.000000</td>\n",
       "    </tr>\n",
       "  </tbody>\n",
       "</table>\n",
       "</div>"
      ],
      "text/plain": [
       "              food near me      diet       gym    Health  christmas\n",
       "food near me      1.000000 -0.170328 -0.181653  0.580556   0.058620\n",
       "diet             -0.170328  1.000000  0.644870 -0.168188  -0.436404\n",
       "gym              -0.181653  0.644870  1.000000 -0.218505  -0.172852\n",
       "Health            0.580556 -0.168188 -0.218505  1.000000  -0.030890\n",
       "christmas         0.058620 -0.436404 -0.172852 -0.030890   1.000000"
      ]
     },
     "execution_count": 55,
     "metadata": {},
     "output_type": "execute_result"
    }
   ],
   "source": [
    "df_A_christmas.corr(method=\"spearman\")"
   ]
  },
  {
   "cell_type": "code",
   "execution_count": 56,
   "metadata": {},
   "outputs": [],
   "source": [
    "df_C_christmas_total_df = pd.concat([df_C_christmas_2020_df,df_C_christmas_2019_df,df_C_christmas_2018_df,df_C_christmas_2017_df,df_C_christmas_2016_df])"
   ]
  },
  {
   "cell_type": "code",
   "execution_count": 57,
   "metadata": {},
   "outputs": [],
   "source": [
    "df_C_thanksgiving_total_df = pd.concat([df_C_thanksgiving_2020_df,df_C_thanksgiving_2019_df,df_C_thanksgiving_2018_df,df_C_thanksgiving_2017_df,df_C_thanksgiving_2016_df])"
   ]
  },
  {
   "cell_type": "code",
   "execution_count": 76,
   "metadata": {},
   "outputs": [
    {
     "data": {
      "text/plain": [
       "food near me   -0.340453\n",
       "diet            0.563025\n",
       "gym             0.472212\n",
       "Health          0.312239\n",
       "Beach           0.554367\n",
       "dtype: float64"
      ]
     },
     "execution_count": 76,
     "metadata": {},
     "output_type": "execute_result"
    }
   ],
   "source": [
    "df_A.corrwith(df_C_christmas_total_df['christmas'], method=\"spearman\").drop(['isPartial'])"
   ]
  },
  {
   "cell_type": "code",
   "execution_count": 59,
   "metadata": {},
   "outputs": [
    {
     "data": {
      "text/html": [
       "<div>\n",
       "<style scoped>\n",
       "    .dataframe tbody tr th:only-of-type {\n",
       "        vertical-align: middle;\n",
       "    }\n",
       "\n",
       "    .dataframe tbody tr th {\n",
       "        vertical-align: top;\n",
       "    }\n",
       "\n",
       "    .dataframe thead th {\n",
       "        text-align: right;\n",
       "    }\n",
       "</style>\n",
       "<table border=\"1\" class=\"dataframe\">\n",
       "  <thead>\n",
       "    <tr style=\"text-align: right;\">\n",
       "      <th></th>\n",
       "      <th>food near me</th>\n",
       "      <th>christmas</th>\n",
       "      <th>diet</th>\n",
       "      <th>gym</th>\n",
       "      <th>health</th>\n",
       "      <th>isPartial</th>\n",
       "    </tr>\n",
       "  </thead>\n",
       "  <tbody>\n",
       "    <tr>\n",
       "      <th>food near me</th>\n",
       "      <td>1.000000</td>\n",
       "      <td>0.656644</td>\n",
       "      <td>0.759398</td>\n",
       "      <td>0.706186</td>\n",
       "      <td>0.659094</td>\n",
       "      <td>NaN</td>\n",
       "    </tr>\n",
       "    <tr>\n",
       "      <th>christmas</th>\n",
       "      <td>0.656644</td>\n",
       "      <td>1.000000</td>\n",
       "      <td>0.506155</td>\n",
       "      <td>0.503415</td>\n",
       "      <td>0.356984</td>\n",
       "      <td>NaN</td>\n",
       "    </tr>\n",
       "    <tr>\n",
       "      <th>diet</th>\n",
       "      <td>0.759398</td>\n",
       "      <td>0.506155</td>\n",
       "      <td>1.000000</td>\n",
       "      <td>0.913040</td>\n",
       "      <td>0.844468</td>\n",
       "      <td>NaN</td>\n",
       "    </tr>\n",
       "    <tr>\n",
       "      <th>gym</th>\n",
       "      <td>0.706186</td>\n",
       "      <td>0.503415</td>\n",
       "      <td>0.913040</td>\n",
       "      <td>1.000000</td>\n",
       "      <td>0.790587</td>\n",
       "      <td>NaN</td>\n",
       "    </tr>\n",
       "    <tr>\n",
       "      <th>health</th>\n",
       "      <td>0.659094</td>\n",
       "      <td>0.356984</td>\n",
       "      <td>0.844468</td>\n",
       "      <td>0.790587</td>\n",
       "      <td>1.000000</td>\n",
       "      <td>NaN</td>\n",
       "    </tr>\n",
       "    <tr>\n",
       "      <th>isPartial</th>\n",
       "      <td>NaN</td>\n",
       "      <td>NaN</td>\n",
       "      <td>NaN</td>\n",
       "      <td>NaN</td>\n",
       "      <td>NaN</td>\n",
       "      <td>NaN</td>\n",
       "    </tr>\n",
       "  </tbody>\n",
       "</table>\n",
       "</div>"
      ],
      "text/plain": [
       "              food near me  christmas      diet       gym    health  isPartial\n",
       "food near me      1.000000   0.656644  0.759398  0.706186  0.659094        NaN\n",
       "christmas         0.656644   1.000000  0.506155  0.503415  0.356984        NaN\n",
       "diet              0.759398   0.506155  1.000000  0.913040  0.844468        NaN\n",
       "gym               0.706186   0.503415  0.913040  1.000000  0.790587        NaN\n",
       "health            0.659094   0.356984  0.844468  0.790587  1.000000        NaN\n",
       "isPartial              NaN        NaN       NaN       NaN       NaN        NaN"
      ]
     },
     "execution_count": 59,
     "metadata": {},
     "output_type": "execute_result"
    }
   ],
   "source": [
    "df_C_christmas_total_df.corr(method=\"spearman\")"
   ]
  },
  {
   "cell_type": "code",
   "execution_count": 60,
   "metadata": {},
   "outputs": [
    {
     "data": {
      "text/html": [
       "<div>\n",
       "<style scoped>\n",
       "    .dataframe tbody tr th:only-of-type {\n",
       "        vertical-align: middle;\n",
       "    }\n",
       "\n",
       "    .dataframe tbody tr th {\n",
       "        vertical-align: top;\n",
       "    }\n",
       "\n",
       "    .dataframe thead th {\n",
       "        text-align: right;\n",
       "    }\n",
       "</style>\n",
       "<table border=\"1\" class=\"dataframe\">\n",
       "  <thead>\n",
       "    <tr style=\"text-align: right;\">\n",
       "      <th></th>\n",
       "      <th>food near me</th>\n",
       "      <th>diet</th>\n",
       "      <th>gym</th>\n",
       "      <th>Health</th>\n",
       "      <th>christmas</th>\n",
       "    </tr>\n",
       "  </thead>\n",
       "  <tbody>\n",
       "    <tr>\n",
       "      <th>food near me</th>\n",
       "      <td>1.000000</td>\n",
       "      <td>-0.170328</td>\n",
       "      <td>-0.181653</td>\n",
       "      <td>0.580556</td>\n",
       "      <td>0.058620</td>\n",
       "    </tr>\n",
       "    <tr>\n",
       "      <th>diet</th>\n",
       "      <td>-0.170328</td>\n",
       "      <td>1.000000</td>\n",
       "      <td>0.644870</td>\n",
       "      <td>-0.168188</td>\n",
       "      <td>-0.436404</td>\n",
       "    </tr>\n",
       "    <tr>\n",
       "      <th>gym</th>\n",
       "      <td>-0.181653</td>\n",
       "      <td>0.644870</td>\n",
       "      <td>1.000000</td>\n",
       "      <td>-0.218505</td>\n",
       "      <td>-0.172852</td>\n",
       "    </tr>\n",
       "    <tr>\n",
       "      <th>Health</th>\n",
       "      <td>0.580556</td>\n",
       "      <td>-0.168188</td>\n",
       "      <td>-0.218505</td>\n",
       "      <td>1.000000</td>\n",
       "      <td>-0.030890</td>\n",
       "    </tr>\n",
       "    <tr>\n",
       "      <th>christmas</th>\n",
       "      <td>0.058620</td>\n",
       "      <td>-0.436404</td>\n",
       "      <td>-0.172852</td>\n",
       "      <td>-0.030890</td>\n",
       "      <td>1.000000</td>\n",
       "    </tr>\n",
       "  </tbody>\n",
       "</table>\n",
       "</div>"
      ],
      "text/plain": [
       "              food near me      diet       gym    Health  christmas\n",
       "food near me      1.000000 -0.170328 -0.181653  0.580556   0.058620\n",
       "diet             -0.170328  1.000000  0.644870 -0.168188  -0.436404\n",
       "gym              -0.181653  0.644870  1.000000 -0.218505  -0.172852\n",
       "Health            0.580556 -0.168188 -0.218505  1.000000  -0.030890\n",
       "christmas         0.058620 -0.436404 -0.172852 -0.030890   1.000000"
      ]
     },
     "execution_count": 60,
     "metadata": {},
     "output_type": "execute_result"
    }
   ],
   "source": [
    "df_A_christmas.corr(method=\"spearman\")"
   ]
  },
  {
   "cell_type": "code",
   "execution_count": 61,
   "metadata": {},
   "outputs": [],
   "source": [
    "df_C_holidays_total_df = pd.concat([df_C_christmas_total_df,df_C_thanksgiving_total_df])"
   ]
  },
  {
   "cell_type": "code",
   "execution_count": 77,
   "metadata": {},
   "outputs": [
    {
     "data": {
      "text/plain": [
       "food near me   -0.340453\n",
       "diet            0.563025\n",
       "gym             0.472212\n",
       "Health          0.312239\n",
       "Beach           0.554367\n",
       "dtype: float64"
      ]
     },
     "execution_count": 77,
     "metadata": {},
     "output_type": "execute_result"
    }
   ],
   "source": [
    "df_A.corrwith(df_C_holidays_total_df['christmas'], method=\"spearman\").drop(['isPartial'])"
   ]
  },
  {
   "cell_type": "code",
   "execution_count": 78,
   "metadata": {},
   "outputs": [
    {
     "data": {
      "text/plain": [
       "food near me    0.789474\n",
       "diet           -0.811107\n",
       "gym             0.344124\n",
       "Health         -0.458831\n",
       "Beach           0.688247\n",
       "dtype: float64"
      ]
     },
     "execution_count": 78,
     "metadata": {},
     "output_type": "execute_result"
    }
   ],
   "source": [
    "df_A.corrwith(df_C_holidays_total_df['thanksgiving'], method=\"spearman\").drop(['isPartial'])"
   ]
  },
  {
   "cell_type": "code",
   "execution_count": 79,
   "metadata": {},
   "outputs": [
    {
     "data": {
      "text/plain": [
       "food near me   -0.144150\n",
       "diet           -0.804054\n",
       "gym            -0.494413\n",
       "Health         -0.045455\n",
       "Beach          -0.756787\n",
       "dtype: float64"
      ]
     },
     "execution_count": 79,
     "metadata": {},
     "output_type": "execute_result"
    }
   ],
   "source": [
    "df_A.corrwith(df_A_christmas['christmas'], method=\"spearman\").drop(['isPartial'])\n"
   ]
  },
  {
   "cell_type": "code",
   "execution_count": 80,
   "metadata": {},
   "outputs": [
    {
     "data": {
      "text/html": [
       "<div>\n",
       "<style scoped>\n",
       "    .dataframe tbody tr th:only-of-type {\n",
       "        vertical-align: middle;\n",
       "    }\n",
       "\n",
       "    .dataframe tbody tr th {\n",
       "        vertical-align: top;\n",
       "    }\n",
       "\n",
       "    .dataframe thead th {\n",
       "        text-align: right;\n",
       "    }\n",
       "</style>\n",
       "<table border=\"1\" class=\"dataframe\">\n",
       "  <thead>\n",
       "    <tr style=\"text-align: right;\">\n",
       "      <th></th>\n",
       "      <th>food near me</th>\n",
       "      <th>christmas</th>\n",
       "      <th>diet</th>\n",
       "      <th>gym</th>\n",
       "      <th>health</th>\n",
       "      <th>thanksgiving</th>\n",
       "    </tr>\n",
       "  </thead>\n",
       "  <tbody>\n",
       "    <tr>\n",
       "      <th>food near me</th>\n",
       "      <td>1.000000</td>\n",
       "      <td>0.656644</td>\n",
       "      <td>0.774798</td>\n",
       "      <td>0.745055</td>\n",
       "      <td>0.673850</td>\n",
       "      <td>0.438969</td>\n",
       "    </tr>\n",
       "    <tr>\n",
       "      <th>christmas</th>\n",
       "      <td>0.656644</td>\n",
       "      <td>1.000000</td>\n",
       "      <td>0.506155</td>\n",
       "      <td>0.503415</td>\n",
       "      <td>0.356984</td>\n",
       "      <td>NaN</td>\n",
       "    </tr>\n",
       "    <tr>\n",
       "      <th>diet</th>\n",
       "      <td>0.774798</td>\n",
       "      <td>0.506155</td>\n",
       "      <td>1.000000</td>\n",
       "      <td>0.935063</td>\n",
       "      <td>0.850817</td>\n",
       "      <td>0.349054</td>\n",
       "    </tr>\n",
       "    <tr>\n",
       "      <th>gym</th>\n",
       "      <td>0.745055</td>\n",
       "      <td>0.503415</td>\n",
       "      <td>0.935063</td>\n",
       "      <td>1.000000</td>\n",
       "      <td>0.813870</td>\n",
       "      <td>0.403650</td>\n",
       "    </tr>\n",
       "    <tr>\n",
       "      <th>health</th>\n",
       "      <td>0.673850</td>\n",
       "      <td>0.356984</td>\n",
       "      <td>0.850817</td>\n",
       "      <td>0.813870</td>\n",
       "      <td>1.000000</td>\n",
       "      <td>0.317197</td>\n",
       "    </tr>\n",
       "    <tr>\n",
       "      <th>thanksgiving</th>\n",
       "      <td>0.438969</td>\n",
       "      <td>NaN</td>\n",
       "      <td>0.349054</td>\n",
       "      <td>0.403650</td>\n",
       "      <td>0.317197</td>\n",
       "      <td>1.000000</td>\n",
       "    </tr>\n",
       "  </tbody>\n",
       "</table>\n",
       "</div>"
      ],
      "text/plain": [
       "              food near me  christmas      diet       gym    health  \\\n",
       "food near me      1.000000   0.656644  0.774798  0.745055  0.673850   \n",
       "christmas         0.656644   1.000000  0.506155  0.503415  0.356984   \n",
       "diet              0.774798   0.506155  1.000000  0.935063  0.850817   \n",
       "gym               0.745055   0.503415  0.935063  1.000000  0.813870   \n",
       "health            0.673850   0.356984  0.850817  0.813870  1.000000   \n",
       "thanksgiving      0.438969        NaN  0.349054  0.403650  0.317197   \n",
       "\n",
       "              thanksgiving  \n",
       "food near me      0.438969  \n",
       "christmas              NaN  \n",
       "diet              0.349054  \n",
       "gym               0.403650  \n",
       "health            0.317197  \n",
       "thanksgiving      1.000000  "
      ]
     },
     "execution_count": 80,
     "metadata": {},
     "output_type": "execute_result"
    }
   ],
   "source": [
    "df_C_holidays_total_df.corr(method=\"spearman\").drop(['isPartial'], axis=1).drop(['isPartial'])"
   ]
  },
  {
   "cell_type": "code",
   "execution_count": 101,
   "metadata": {},
   "outputs": [
    {
     "data": {
      "text/html": [
       "<div>\n",
       "<style scoped>\n",
       "    .dataframe tbody tr th:only-of-type {\n",
       "        vertical-align: middle;\n",
       "    }\n",
       "\n",
       "    .dataframe tbody tr th {\n",
       "        vertical-align: top;\n",
       "    }\n",
       "\n",
       "    .dataframe thead th {\n",
       "        text-align: right;\n",
       "    }\n",
       "</style>\n",
       "<table border=\"1\" class=\"dataframe\">\n",
       "  <thead>\n",
       "    <tr style=\"text-align: right;\">\n",
       "      <th></th>\n",
       "      <th>gym</th>\n",
       "      <th>workout plan</th>\n",
       "      <th>running</th>\n",
       "    </tr>\n",
       "  </thead>\n",
       "  <tbody>\n",
       "    <tr>\n",
       "      <th>gym</th>\n",
       "      <td>1.000000</td>\n",
       "      <td>0.454213</td>\n",
       "      <td>-0.285822</td>\n",
       "    </tr>\n",
       "    <tr>\n",
       "      <th>workout plan</th>\n",
       "      <td>0.454213</td>\n",
       "      <td>1.000000</td>\n",
       "      <td>-0.002407</td>\n",
       "    </tr>\n",
       "    <tr>\n",
       "      <th>running</th>\n",
       "      <td>-0.285822</td>\n",
       "      <td>-0.002407</td>\n",
       "      <td>1.000000</td>\n",
       "    </tr>\n",
       "  </tbody>\n",
       "</table>\n",
       "</div>"
      ],
      "text/plain": [
       "                   gym  workout plan   running\n",
       "gym           1.000000      0.454213 -0.285822\n",
       "workout plan  0.454213      1.000000 -0.002407\n",
       "running      -0.285822     -0.002407  1.000000"
      ]
     },
     "execution_count": 101,
     "metadata": {},
     "output_type": "execute_result"
    }
   ],
   "source": [
    "gym_N_running_df.corr(method=\"spearman\")"
   ]
  },
  {
   "cell_type": "code",
   "execution_count": 105,
   "metadata": {},
   "outputs": [
    {
     "data": {
      "text/plain": [
       "food near me   -0.204124\n",
       "diet            0.635489\n",
       "gym             0.763763\n",
       "Health          0.205971\n",
       "Beach           0.612372\n",
       "dtype: float64"
      ]
     },
     "execution_count": 105,
     "metadata": {},
     "output_type": "execute_result"
    }
   ],
   "source": [
    "df_A.corrwith(gym_N_running_df['workout plan'],method=\"spearman\").drop(['isPartial'])"
   ]
  },
  {
   "cell_type": "code",
   "execution_count": 103,
   "metadata": {},
   "outputs": [
    {
     "data": {
      "text/plain": [
       "food near me    0.347183\n",
       "diet            0.760609\n",
       "gym             0.673575\n",
       "Health         -0.408712\n",
       "Beach           0.925820\n",
       "dtype: float64"
      ]
     },
     "execution_count": 103,
     "metadata": {},
     "output_type": "execute_result"
    }
   ],
   "source": [
    "df_A.corrwith(tanning_N_bikini_df['bikini waxing'],method=\"spearman\").drop(['isPartial'])"
   ]
  },
  {
   "cell_type": "code",
   "execution_count": 104,
   "metadata": {},
   "outputs": [
    {
     "data": {
      "text/plain": [
       "food near me   -0.357143\n",
       "diet            0.630062\n",
       "gym             0.489979\n",
       "Health          0.432450\n",
       "Beach           0.464286\n",
       "dtype: float64"
      ]
     },
     "execution_count": 104,
     "metadata": {},
     "output_type": "execute_result"
    }
   ],
   "source": [
    "df_A.corrwith(tanning_N_bikini_df['tanning bed'],method=\"spearman\").drop(['isPartial'])"
   ]
  },
  {
   "cell_type": "code",
   "execution_count": 122,
   "metadata": {},
   "outputs": [
    {
     "data": {
      "text/plain": [
       "food near me   -0.324337\n",
       "diet            0.523570\n",
       "gym            -0.112367\n",
       "Health         -0.645455\n",
       "Beach           0.468487\n",
       "dtype: float64"
      ]
     },
     "execution_count": 122,
     "metadata": {},
     "output_type": "execute_result"
    }
   ],
   "source": [
    "df_A.corrwith(payday_load_N_liposuction_df['liposuction'],method=\"spearman\").drop(['isPartial'])"
   ]
  },
  {
   "cell_type": "code",
   "execution_count": 123,
   "metadata": {},
   "outputs": [
    {
     "data": {
      "text/plain": [
       "food near me   -0.592999\n",
       "diet            0.461538\n",
       "gym             0.000000\n",
       "Health         -0.486172\n",
       "Beach           0.407687\n",
       "dtype: float64"
      ]
     },
     "execution_count": 123,
     "metadata": {},
     "output_type": "execute_result"
    }
   ],
   "source": [
    "df_A.corrwith(payday_load_N_liposuction_df['gastric sleeve'],method=\"spearman\").drop(['isPartial'])"
   ]
  },
  {
   "cell_type": "code",
   "execution_count": 124,
   "metadata": {},
   "outputs": [
    {
     "data": {
      "text/plain": [
       "food near me   -0.285714\n",
       "diet            0.741249\n",
       "gym             0.178174\n",
       "Health         -0.666694\n",
       "Beach           0.714286\n",
       "dtype: float64"
      ]
     },
     "execution_count": 124,
     "metadata": {},
     "output_type": "execute_result"
    }
   ],
   "source": [
    "df_A.corrwith(payday_load_N_liposuction_df['Bariatric'],method=\"spearman\").drop(['isPartial'])"
   ]
  },
  {
   "cell_type": "code",
   "execution_count": 125,
   "metadata": {},
   "outputs": [
    {
     "data": {
      "text/plain": [
       "food near me   -0.428571\n",
       "diet            0.037062\n",
       "gym             0.222718\n",
       "Health         -0.252262\n",
       "Beach           0.107143\n",
       "dtype: float64"
      ]
     },
     "execution_count": 125,
     "metadata": {},
     "output_type": "execute_result"
    }
   ],
   "source": [
    "df_A.corrwith(payday_load_N_liposuction_df['payday loan'],method=\"spearman\").drop(['isPartial'])"
   ]
  },
  {
   "cell_type": "code",
   "execution_count": 127,
   "metadata": {},
   "outputs": [
    {
     "data": {
      "text/plain": [
       "food near me    0.378394\n",
       "diet            0.299183\n",
       "gym             0.449467\n",
       "Health         -0.209091\n",
       "Beach           0.522544\n",
       "dtype: float64"
      ]
     },
     "execution_count": 127,
     "metadata": {},
     "output_type": "execute_result"
    }
   ],
   "source": [
    "df_A.corrwith(payday_load_N_liposuction_df['personal loan'],method=\"spearman\").drop(['isPartial'])"
   ]
  },
  {
   "cell_type": "code",
   "execution_count": 132,
   "metadata": {},
   "outputs": [
    {
     "data": {
      "text/plain": [
       "avant                0.296500\n",
       "lending club         0.702731\n",
       "OneMain Financial    0.542649\n",
       "credit card loan     0.836502\n",
       "lending tree         0.370625\n",
       "dtype: float64"
      ]
     },
     "execution_count": 132,
     "metadata": {},
     "output_type": "execute_result"
    }
   ],
   "source": [
    "personal_loan_method_df.corrwith(df_A['Beach'],method=\"spearman\")"
   ]
  },
  {
   "cell_type": "code",
   "execution_count": 133,
   "metadata": {},
   "outputs": [
    {
     "data": {
      "text/plain": [
       "avant                0.076923\n",
       "lending club         0.785355\n",
       "OneMain Financial    0.524297\n",
       "credit card loan     0.868079\n",
       "lending tree         0.538462\n",
       "dtype: float64"
      ]
     },
     "execution_count": 133,
     "metadata": {},
     "output_type": "execute_result"
    }
   ],
   "source": [
    "personal_loan_method_df.corrwith(df_A['diet'],method=\"spearman\")"
   ]
  },
  {
   "cell_type": "code",
   "execution_count": 136,
   "metadata": {},
   "outputs": [
    {
     "data": {
      "text/plain": [
       "avant               -0.056097\n",
       "lending club        -0.163636\n",
       "OneMain Financial   -0.490916\n",
       "credit card loan    -0.477084\n",
       "lending tree         0.186989\n",
       "dtype: float64"
      ]
     },
     "execution_count": 136,
     "metadata": {},
     "output_type": "execute_result"
    }
   ],
   "source": [
    "personal_loan_method_df.corrwith(df_A['Health'],method=\"spearman\")"
   ]
  },
  {
   "cell_type": "code",
   "execution_count": 134,
   "metadata": {},
   "outputs": [
    {
     "data": {
      "text/plain": [
       "avant                0.785825\n",
       "lending club         0.269680\n",
       "OneMain Financial    0.186704\n",
       "credit card loan     0.249485\n",
       "lending tree         0.138675\n",
       "dtype: float64"
      ]
     },
     "execution_count": 134,
     "metadata": {},
     "output_type": "execute_result"
    }
   ],
   "source": [
    "personal_loan_method_df.corrwith(df_A['gym'],method=\"spearman\")"
   ]
  },
  {
   "cell_type": "code",
   "execution_count": null,
   "metadata": {},
   "outputs": [],
   "source": []
  }
 ],
 "metadata": {
  "kernelspec": {
   "display_name": "Python 3",
   "language": "python",
   "name": "python3"
  },
  "language_info": {
   "codemirror_mode": {
    "name": "ipython",
    "version": 3
   },
   "file_extension": ".py",
   "mimetype": "text/x-python",
   "name": "python",
   "nbconvert_exporter": "python",
   "pygments_lexer": "ipython3",
   "version": "3.6.10"
  }
 },
 "nbformat": 4,
 "nbformat_minor": 2
}
